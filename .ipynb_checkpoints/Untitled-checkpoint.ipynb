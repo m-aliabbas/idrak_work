{
 "cells": [
  {
   "cell_type": "code",
   "execution_count": 1,
   "id": "05d15054",
   "metadata": {},
   "outputs": [],
   "source": [
    "import pandas"
   ]
  },
  {
   "cell_type": "code",
   "execution_count": 4,
   "id": "4031709d",
   "metadata": {},
   "outputs": [
    {
     "name": "stdout",
     "output_type": "stream",
     "text": [
      "Defaulting to user installation because normal site-packages is not writeable\n",
      "Requirement already satisfied: requests in c:\\programdata\\anaconda3\\lib\\site-packages (2.28.1)\n",
      "Requirement already satisfied: certifi>=2017.4.17 in c:\\programdata\\anaconda3\\lib\\site-packages (from requests) (2022.9.14)\n",
      "Requirement already satisfied: charset-normalizer<3,>=2 in c:\\programdata\\anaconda3\\lib\\site-packages (from requests) (2.0.4)\n",
      "Requirement already satisfied: urllib3<1.27,>=1.21.1 in c:\\programdata\\anaconda3\\lib\\site-packages (from requests) (1.26.11)\n",
      "Requirement already satisfied: idna<4,>=2.5 in c:\\programdata\\anaconda3\\lib\\site-packages (from requests) (3.3)\n"
     ]
    }
   ],
   "source": [
    "!pip install requests"
   ]
  },
  {
   "cell_type": "code",
   "execution_count": 6,
   "id": "a02dd388",
   "metadata": {},
   "outputs": [],
   "source": [
    "import requests"
   ]
  },
  {
   "cell_type": "code",
   "execution_count": 31,
   "id": "4c2d9870",
   "metadata": {},
   "outputs": [],
   "source": [
    "recording_dir = \"recordings/\""
   ]
  },
  {
   "cell_type": "code",
   "execution_count": 57,
   "id": "7a6054ae",
   "metadata": {},
   "outputs": [],
   "source": [
    "def downloadLink(URL):\n",
    "        r = requests.get(URL, stream = True)\n",
    "        filename = URL.split(\"/\")[-1]\n",
    "        print(r)\n",
    "        if r.status_code == 200:\n",
    "            print('IN')\n",
    "            # creating the output file in write binary mode, because the data we get from internet is in binary\n",
    "            with open(recordingDir +filename, 'wb') as f:\n",
    "                for chunk in r.iter_content(chunk_size=1024):\n",
    "                    # writing one chunk at a time to mp3 file\n",
    "                    if chunk:\n",
    "                        f.write(chunk)\n",
    "            print(True)\n",
    "            return True\n",
    "        return False            \n"
   ]
  },
  {
   "cell_type": "code",
   "execution_count": 58,
   "id": "88ef7355",
   "metadata": {},
   "outputs": [],
   "source": [
    "import pandas as pd"
   ]
  },
  {
   "cell_type": "code",
   "execution_count": 59,
   "id": "6899bdcb",
   "metadata": {},
   "outputs": [],
   "source": [
    "df=pd.read_csv('audio_data/audio_data_links_preprocessed.csv')"
   ]
  },
  {
   "cell_type": "code",
   "execution_count": 60,
   "id": "993c7ccf",
   "metadata": {},
   "outputs": [],
   "source": [
    "links=list(df['link'].values)[:5]"
   ]
  },
  {
   "cell_type": "code",
   "execution_count": 61,
   "id": "d1db27d7",
   "metadata": {},
   "outputs": [
    {
     "name": "stdout",
     "output_type": "stream",
     "text": [
      "<Response [406]>\n",
      "<Response [406]>\n",
      "<Response [406]>\n",
      "<Response [406]>\n",
      "<Response [406]>\n"
     ]
    }
   ],
   "source": [
    "for link in links:\n",
    "    downloadLink(link)"
   ]
  },
  {
   "cell_type": "code",
   "execution_count": 29,
   "id": "d3887a65",
   "metadata": {},
   "outputs": [
    {
     "data": {
      "text/plain": [
       "'20220603-183622_4345633573-all.mp3'"
      ]
     },
     "execution_count": 29,
     "metadata": {},
     "output_type": "execute_result"
    }
   ],
   "source": []
  },
  {
   "cell_type": "code",
   "execution_count": null,
   "id": "b1dc4f59",
   "metadata": {},
   "outputs": [],
   "source": []
  }
 ],
 "metadata": {
  "kernelspec": {
   "display_name": "Python 3 (ipykernel)",
   "language": "python",
   "name": "python3"
  },
  "language_info": {
   "codemirror_mode": {
    "name": "ipython",
    "version": 3
   },
   "file_extension": ".py",
   "mimetype": "text/x-python",
   "name": "python",
   "nbconvert_exporter": "python",
   "pygments_lexer": "ipython3",
   "version": "3.9.13"
  }
 },
 "nbformat": 4,
 "nbformat_minor": 5
}
