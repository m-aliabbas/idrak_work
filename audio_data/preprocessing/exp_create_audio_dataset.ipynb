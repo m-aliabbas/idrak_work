{
 "cells": [
  {
   "cell_type": "markdown",
   "id": "1b64f8a1-5a9c-47b1-9a2d-4e0c97daee11",
   "metadata": {},
   "source": [
    "Importing Modules"
   ]
  },
  {
   "cell_type": "code",
   "execution_count": 1,
   "id": "378b6ed9-a5b8-4489-8d61-46368ff2333e",
   "metadata": {},
   "outputs": [],
   "source": [
    "from datasets import load_dataset,Dataset,Audio #for Huggingface Dataset Works\n",
    "\n",
    "import pandas as pd \n",
    "import os\n",
    "import re"
   ]
  },
  {
   "cell_type": "code",
   "execution_count": 2,
   "id": "2e3c8848-ef26-44e4-ae75-c22152e48127",
   "metadata": {},
   "outputs": [],
   "source": [
    "df=pd.read_csv('idrak_dataset/meta.csv') #reading filenames and Transcriptions"
   ]
  },
  {
   "cell_type": "code",
   "execution_count": 3,
   "id": "a10aa6c8-e49b-4cc6-a819-2377fc49e789",
   "metadata": {},
   "outputs": [],
   "source": [
    "def cleanify(text):\n",
    "    #function to clean text\n",
    "    '''\n",
    "    This is inner function. It will first remove the unwantted symbols from text\n",
    "    using regular expression. Then Keep the numbers, alphabets, and question mark \n",
    "    '''\n",
    "    REPLACE_BY_SPACE_RE = re.compile('[/(){}\\[\\]\\|@,;]') #compile regulare expression for removing symbols\n",
    "    BAD_SYMBOLS_RE = re.compile('[^0-9a-z ?]') #compile regulare expression to keep wanted data\n",
    "    text=str(text)\n",
    "    text = text.lower() #making text to lower case\n",
    "    text = REPLACE_BY_SPACE_RE.sub(' ', text)  #applying 1 and 2nd mentioned re\n",
    "    text = BAD_SYMBOLS_RE.sub(' ', text)\n",
    "    text=text.strip() #remove leading and tailing spaces\n",
    "    return text"
   ]
  },
  {
   "cell_type": "code",
   "execution_count": 4,
   "id": "7e544747-97cf-4ffa-902f-46472d478214",
   "metadata": {},
   "outputs": [],
   "source": [
    "df['transcription']=df['transcription'].apply(cleanify) #cleanify the transcriptions"
   ]
  },
  {
   "cell_type": "code",
   "execution_count": 38,
   "id": "dca2d8ab-8d16-4949-ad0b-92796e8f5bc2",
   "metadata": {},
   "outputs": [],
   "source": [
    "#some transcripts are not processed by taggers due to differnt issue like Inaudible etc\n",
    "#removing the files having such issues because these will make problem for transcriptor and affects it learning/finetunning"
   ]
  },
  {
   "cell_type": "code",
   "execution_count": 5,
   "id": "8a99c75e-d26a-4206-8b66-ac1623f6e746",
   "metadata": {},
   "outputs": [],
   "source": [
    "df=df[df['transcription']!='overlapping']\n",
    "df=df[df['transcription']!='inaudible']\n",
    "df=df[df['transcription']!='answering machine']\n",
    "df=df[df['transcription']!='inaudible  overlapping']"
   ]
  },
  {
   "cell_type": "code",
   "execution_count": 6,
   "id": "d7adedfe-f03e-4d3b-8b9b-ec8e24f1847d",
   "metadata": {},
   "outputs": [],
   "source": [
    "df=df[df['transcription']!='uncertainty']\n",
    "df=df[df['transcription']!='inaudible  overlapping ']\n",
    "df=df[df['transcription']!='spanish']\n",
    "df=df[df['transcription']!='uncertainty  overlapping']\n",
    "df=df[df['transcription']!='overlapping  inaudible']\n",
    "df=df[df['transcription']!='overlapping  uncertainty']\n",
    "df=df[df['transcription']!='inaudible  uncertainty']"
   ]
  },
  {
   "cell_type": "code",
   "execution_count": 41,
   "id": "382bd140-204a-4a6e-97ee-c26d32fe25dc",
   "metadata": {},
   "outputs": [],
   "source": [
    "#droping the duplicates"
   ]
  },
  {
   "cell_type": "code",
   "execution_count": 7,
   "id": "e7c91804-75a5-4a04-b156-08eb85613b28",
   "metadata": {},
   "outputs": [],
   "source": [
    "df=df.drop_duplicates()"
   ]
  },
  {
   "cell_type": "code",
   "execution_count": 8,
   "id": "bfc4ef99-dccf-46b7-b248-10d01e48d09c",
   "metadata": {},
   "outputs": [
    {
     "data": {
      "text/html": [
       "<div>\n",
       "<style scoped>\n",
       "    .dataframe tbody tr th:only-of-type {\n",
       "        vertical-align: middle;\n",
       "    }\n",
       "\n",
       "    .dataframe tbody tr th {\n",
       "        vertical-align: top;\n",
       "    }\n",
       "\n",
       "    .dataframe thead th {\n",
       "        text-align: right;\n",
       "    }\n",
       "</style>\n",
       "<table border=\"1\" class=\"dataframe\">\n",
       "  <thead>\n",
       "    <tr style=\"text-align: right;\">\n",
       "      <th></th>\n",
       "      <th>Unnamed: 0</th>\n",
       "      <th>transcription</th>\n",
       "      <th>file_name</th>\n",
       "    </tr>\n",
       "  </thead>\n",
       "  <tbody>\n",
       "    <tr>\n",
       "      <th>0</th>\n",
       "      <td>0</td>\n",
       "      <td>hello  hello  hi this is amy with american sen...</td>\n",
       "      <td>20220603-183622_4345633573-all.wav</td>\n",
       "    </tr>\n",
       "    <tr>\n",
       "      <th>1</th>\n",
       "      <td>1</td>\n",
       "      <td>hello  hello  hi this is amy with american sen...</td>\n",
       "      <td>20220603-183644_4402568929-all.wav</td>\n",
       "    </tr>\n",
       "    <tr>\n",
       "      <th>2</th>\n",
       "      <td>2</td>\n",
       "      <td>hello  hello  hi this is amy with american sen...</td>\n",
       "      <td>20220603-183648_9378383212-all.wav</td>\n",
       "    </tr>\n",
       "    <tr>\n",
       "      <th>3</th>\n",
       "      <td>3</td>\n",
       "      <td>hello  hello  yes  hi this is amy with america...</td>\n",
       "      <td>20220603-183654_2543004914-all.wav</td>\n",
       "    </tr>\n",
       "    <tr>\n",
       "      <th>4</th>\n",
       "      <td>4</td>\n",
       "      <td>hello  hi this is amy with american senior cit...</td>\n",
       "      <td>20220603-183730_2524387232-all.wav</td>\n",
       "    </tr>\n",
       "    <tr>\n",
       "      <th>...</th>\n",
       "      <td>...</td>\n",
       "      <td>...</td>\n",
       "      <td>...</td>\n",
       "    </tr>\n",
       "    <tr>\n",
       "      <th>4271</th>\n",
       "      <td>4271</td>\n",
       "      <td>hello  yes  my name is becky from senior benef...</td>\n",
       "      <td>20220606-110339_8669271-all.wav</td>\n",
       "    </tr>\n",
       "    <tr>\n",
       "      <th>4272</th>\n",
       "      <td>4272</td>\n",
       "      <td>hello  hello  yes what do you what do you want...</td>\n",
       "      <td>20220607-090240_11139129-all.wav</td>\n",
       "    </tr>\n",
       "    <tr>\n",
       "      <th>4273</th>\n",
       "      <td>4273</td>\n",
       "      <td>hello  hello who s this  my name is becky from...</td>\n",
       "      <td>20220615-144941_11185812-all.wav</td>\n",
       "    </tr>\n",
       "    <tr>\n",
       "      <th>4274</th>\n",
       "      <td>4274</td>\n",
       "      <td>hello  yes hello  my name is becky from senior...</td>\n",
       "      <td>20220531-090905_9952106-all.wav</td>\n",
       "    </tr>\n",
       "    <tr>\n",
       "      <th>4275</th>\n",
       "      <td>4275</td>\n",
       "      <td>hello   ia   my name is becky from senior bene...</td>\n",
       "      <td>20220602-085257_10736807-all.wav</td>\n",
       "    </tr>\n",
       "  </tbody>\n",
       "</table>\n",
       "<p>4044 rows × 3 columns</p>\n",
       "</div>"
      ],
      "text/plain": [
       "      Unnamed: 0                                      transcription  \\\n",
       "0              0  hello  hello  hi this is amy with american sen...   \n",
       "1              1  hello  hello  hi this is amy with american sen...   \n",
       "2              2  hello  hello  hi this is amy with american sen...   \n",
       "3              3  hello  hello  yes  hi this is amy with america...   \n",
       "4              4  hello  hi this is amy with american senior cit...   \n",
       "...          ...                                                ...   \n",
       "4271        4271  hello  yes  my name is becky from senior benef...   \n",
       "4272        4272  hello  hello  yes what do you what do you want...   \n",
       "4273        4273  hello  hello who s this  my name is becky from...   \n",
       "4274        4274  hello  yes hello  my name is becky from senior...   \n",
       "4275        4275  hello   ia   my name is becky from senior bene...   \n",
       "\n",
       "                               file_name  \n",
       "0     20220603-183622_4345633573-all.wav  \n",
       "1     20220603-183644_4402568929-all.wav  \n",
       "2     20220603-183648_9378383212-all.wav  \n",
       "3     20220603-183654_2543004914-all.wav  \n",
       "4     20220603-183730_2524387232-all.wav  \n",
       "...                                  ...  \n",
       "4271     20220606-110339_8669271-all.wav  \n",
       "4272    20220607-090240_11139129-all.wav  \n",
       "4273    20220615-144941_11185812-all.wav  \n",
       "4274     20220531-090905_9952106-all.wav  \n",
       "4275    20220602-085257_10736807-all.wav  \n",
       "\n",
       "[4044 rows x 3 columns]"
      ]
     },
     "execution_count": 8,
     "metadata": {},
     "output_type": "execute_result"
    }
   ],
   "source": [
    "df"
   ]
  },
  {
   "cell_type": "code",
   "execution_count": 9,
   "id": "5a600411-6154-4054-b265-d476d3f5dbd9",
   "metadata": {},
   "outputs": [],
   "source": [
    "df=df[df['transcription'].str.contains(\"amy\")]"
   ]
  },
  {
   "cell_type": "code",
   "execution_count": 25,
   "id": "9d5816b7-f287-4c0b-8d43-b4a1d78d35a8",
   "metadata": {},
   "outputs": [],
   "source": [
    "def make_dictionary(df1):\n",
    "    transcriptions=list(df.transcription.values) #making list of transcriptions\n",
    "    file_names=list(df.file_name.values) #making list of file names\n",
    "    file_path='idrak_dataset/data/'\n",
    "    file_names=[file_path+file_name for file_name in file_names] #appending directory containing audiosdata with file name\n",
    "    data_dict={'audio':file_names , 'transcription':transcriptions} #Hugging face need a dictionary of list for creating the dataset. \n",
    "    return data_dict"
   ]
  },
  {
   "cell_type": "code",
   "execution_count": 26,
   "id": "b7c664f9-240c-4325-bc11-5d92ee3ec3c0",
   "metadata": {},
   "outputs": [],
   "source": [
    "from sklearn.model_selection import train_test_split"
   ]
  },
  {
   "cell_type": "code",
   "execution_count": 27,
   "id": "c63a171b-d08f-456c-9952-f7b32482c2c1",
   "metadata": {},
   "outputs": [],
   "source": [
    "df_train,df_test=train_test_split(df,test_size=0.2)"
   ]
  },
  {
   "cell_type": "code",
   "execution_count": 28,
   "id": "fd1a4e60-a292-4fe7-879b-43ff2291143a",
   "metadata": {},
   "outputs": [],
   "source": [
    "train_dict=make_dictionary(df_train)"
   ]
  },
  {
   "cell_type": "code",
   "execution_count": 29,
   "id": "4865741c-b6e5-46b2-b5c5-19863e3d4c20",
   "metadata": {},
   "outputs": [],
   "source": [
    "test_dict=make_dictionary(df_test)"
   ]
  },
  {
   "cell_type": "code",
   "execution_count": 33,
   "id": "3da8f5b4-1531-425d-9a50-904969607a13",
   "metadata": {},
   "outputs": [],
   "source": [
    "audio_dataset = Dataset.from_dict(train_dict,split='train').cast_column(\"audio\", Audio()) #fetching the adio from files"
   ]
  },
  {
   "cell_type": "code",
   "execution_count": 34,
   "id": "953cccbb-9e58-401a-a1fd-58bec47b7ecd",
   "metadata": {},
   "outputs": [
    {
     "data": {
      "text/plain": [
       "Dataset({\n",
       "    features: ['audio', 'transcription'],\n",
       "    num_rows: 1001\n",
       "})"
      ]
     },
     "execution_count": 34,
     "metadata": {},
     "output_type": "execute_result"
    }
   ],
   "source": [
    "audio_dataset"
   ]
  },
  {
   "cell_type": "code",
   "execution_count": null,
   "id": "da278118-f6b6-44c1-8116-8f95e874527a",
   "metadata": {},
   "outputs": [],
   "source": [
    "# Adding Training and Testing Splits"
   ]
  },
  {
   "cell_type": "code",
   "execution_count": 35,
   "id": "1a90991e-5dd2-48a5-88a3-be00aeedf744",
   "metadata": {},
   "outputs": [],
   "source": [
    "audio_dataset = Dataset.from_dict(train_dict,split='test').cast_column(\"audio\", Audio()) #fetching the adio from files"
   ]
  },
  {
   "cell_type": "code",
   "execution_count": null,
   "id": "4faf381f-6fb6-4247-846e-b8692b727494",
   "metadata": {},
   "outputs": [],
   "source": [
    "# Pushing Dataset to Repo"
   ]
  },
  {
   "cell_type": "code",
   "execution_count": 37,
   "id": "ac2f9abf-1951-46de-8657-0a6c8b23db3d",
   "metadata": {},
   "outputs": [
    {
     "data": {
      "application/vnd.jupyter.widget-view+json": {
       "model_id": "72f81bc679024a99b699d4fe9dabe3c5",
       "version_major": 2,
       "version_minor": 0
      },
      "text/plain": [
       "  0%|          | 0/1 [00:00<?, ?ba/s]"
      ]
     },
     "metadata": {},
     "output_type": "display_data"
    },
    {
     "data": {
      "application/vnd.jupyter.widget-view+json": {
       "model_id": "2390a338da6a46249e085843c319953f",
       "version_major": 2,
       "version_minor": 0
      },
      "text/plain": [
       "Pushing dataset shards to the dataset hub:   0%|          | 0/5 [00:00<?, ?it/s]"
      ]
     },
     "metadata": {},
     "output_type": "display_data"
    },
    {
     "name": "stderr",
     "output_type": "stream",
     "text": [
      "/usr/local/lib/python3.9/dist-packages/huggingface_hub/hf_api.py:1948: FutureWarning: `identical_ok` has no effect and is deprecated. It will be removed in 0.11.0.\n",
      "  warnings.warn(\n"
     ]
    },
    {
     "data": {
      "application/vnd.jupyter.widget-view+json": {
       "model_id": "0c1deedc717041718eda1a843c35d6ac",
       "version_major": 2,
       "version_minor": 0
      },
      "text/plain": [
       "  0%|          | 0/1 [00:00<?, ?ba/s]"
      ]
     },
     "metadata": {},
     "output_type": "display_data"
    },
    {
     "data": {
      "application/vnd.jupyter.widget-view+json": {
       "model_id": "1bc21b0869c74a5cb84c5c6a90d9da3a",
       "version_major": 2,
       "version_minor": 0
      },
      "text/plain": [
       "  0%|          | 0/1 [00:00<?, ?ba/s]"
      ]
     },
     "metadata": {},
     "output_type": "display_data"
    },
    {
     "data": {
      "application/vnd.jupyter.widget-view+json": {
       "model_id": "80051cc4be5b4a868130efe42c0639e3",
       "version_major": 2,
       "version_minor": 0
      },
      "text/plain": [
       "  0%|          | 0/1 [00:00<?, ?ba/s]"
      ]
     },
     "metadata": {},
     "output_type": "display_data"
    },
    {
     "data": {
      "application/vnd.jupyter.widget-view+json": {
       "model_id": "a4e7a0f9b3ab405aab01d9e064a87b32",
       "version_major": 2,
       "version_minor": 0
      },
      "text/plain": [
       "  0%|          | 0/1 [00:00<?, ?ba/s]"
      ]
     },
     "metadata": {},
     "output_type": "display_data"
    },
    {
     "name": "stderr",
     "output_type": "stream",
     "text": [
      "Updating downloaded metadata with the new split.\n"
     ]
    }
   ],
   "source": [
    "audio_dataset.push_to_hub(\"m-aliabbas/idrak_unsplitted_amy\") #commiting / pusshing dataset to Hugging face repo"
   ]
  },
  {
   "cell_type": "code",
   "execution_count": null,
   "id": "661b1263-7073-4a91-aa06-3c6351982f0b",
   "metadata": {},
   "outputs": [],
   "source": [
    "#Checking The Dataset Repo and Splits"
   ]
  },
  {
   "cell_type": "code",
   "execution_count": 38,
   "id": "f1713d37-3db0-48bc-a377-e66960867be7",
   "metadata": {},
   "outputs": [
    {
     "data": {
      "application/vnd.jupyter.widget-view+json": {
       "model_id": "aae5df4d106f455eb6b771d1888e94d8",
       "version_major": 2,
       "version_minor": 0
      },
      "text/plain": [
       "Downloading:   0%|          | 0.00/1.16k [00:00<?, ?B/s]"
      ]
     },
     "metadata": {},
     "output_type": "display_data"
    },
    {
     "name": "stderr",
     "output_type": "stream",
     "text": [
      "Using custom data configuration m-aliabbas--idrak_unsplitted_amy-8b544470dd094121\n"
     ]
    },
    {
     "name": "stdout",
     "output_type": "stream",
     "text": [
      "Downloading and preparing dataset None/None (download: 2.79 GiB, generated: 3.77 GiB, post-processed: Unknown size, total: 6.56 GiB) to /root/.cache/huggingface/datasets/m-aliabbas___parquet/m-aliabbas--idrak_unsplitted_amy-8b544470dd094121/0.0.0/7328ef7ee03eaf3f86ae40594d46a1cec86161704e02dd19f232d81eee72ade8...\n"
     ]
    },
    {
     "data": {
      "application/vnd.jupyter.widget-view+json": {
       "model_id": "9da435cdfc46471988b76d2a60119887",
       "version_major": 2,
       "version_minor": 0
      },
      "text/plain": [
       "Downloading data files:   0%|          | 0/2 [00:00<?, ?it/s]"
      ]
     },
     "metadata": {},
     "output_type": "display_data"
    },
    {
     "data": {
      "application/vnd.jupyter.widget-view+json": {
       "model_id": "2ea06af88ac24c759515bb114e93b3c3",
       "version_major": 2,
       "version_minor": 0
      },
      "text/plain": [
       "Downloading data:   0%|          | 0.00/300M [00:00<?, ?B/s]"
      ]
     },
     "metadata": {},
     "output_type": "display_data"
    },
    {
     "data": {
      "application/vnd.jupyter.widget-view+json": {
       "model_id": "750e05d7f6884d7bb885f855e81878fd",
       "version_major": 2,
       "version_minor": 0
      },
      "text/plain": [
       "Downloading data:   0%|          | 0.00/297M [00:00<?, ?B/s]"
      ]
     },
     "metadata": {},
     "output_type": "display_data"
    },
    {
     "data": {
      "application/vnd.jupyter.widget-view+json": {
       "model_id": "1470c54002da468a806823f3645e96d0",
       "version_major": 2,
       "version_minor": 0
      },
      "text/plain": [
       "Downloading data:   0%|          | 0.00/296M [00:00<?, ?B/s]"
      ]
     },
     "metadata": {},
     "output_type": "display_data"
    },
    {
     "data": {
      "application/vnd.jupyter.widget-view+json": {
       "model_id": "078bf82f4bf54572a2caf08aba3d036b",
       "version_major": 2,
       "version_minor": 0
      },
      "text/plain": [
       "Downloading data:   0%|          | 0.00/296M [00:00<?, ?B/s]"
      ]
     },
     "metadata": {},
     "output_type": "display_data"
    },
    {
     "data": {
      "application/vnd.jupyter.widget-view+json": {
       "model_id": "edce874cdcb24d97b4009cd12beda3db",
       "version_major": 2,
       "version_minor": 0
      },
      "text/plain": [
       "Downloading data:   0%|          | 0.00/308M [00:00<?, ?B/s]"
      ]
     },
     "metadata": {},
     "output_type": "display_data"
    },
    {
     "data": {
      "application/vnd.jupyter.widget-view+json": {
       "model_id": "5a96ab46883741168092419ccfffdfa3",
       "version_major": 2,
       "version_minor": 0
      },
      "text/plain": [
       "Downloading data:   0%|          | 0.00/300M [00:00<?, ?B/s]"
      ]
     },
     "metadata": {},
     "output_type": "display_data"
    },
    {
     "data": {
      "application/vnd.jupyter.widget-view+json": {
       "model_id": "f8476f1eeecb43649c1bea314896392b",
       "version_major": 2,
       "version_minor": 0
      },
      "text/plain": [
       "Downloading data:   0%|          | 0.00/297M [00:00<?, ?B/s]"
      ]
     },
     "metadata": {},
     "output_type": "display_data"
    },
    {
     "data": {
      "application/vnd.jupyter.widget-view+json": {
       "model_id": "27ab391a359e44ee85d6160d1a39b255",
       "version_major": 2,
       "version_minor": 0
      },
      "text/plain": [
       "Downloading data:   0%|          | 0.00/296M [00:00<?, ?B/s]"
      ]
     },
     "metadata": {},
     "output_type": "display_data"
    },
    {
     "data": {
      "application/vnd.jupyter.widget-view+json": {
       "model_id": "286bbfc5d18a47718d2b3c99289fc560",
       "version_major": 2,
       "version_minor": 0
      },
      "text/plain": [
       "Downloading data:   0%|          | 0.00/296M [00:00<?, ?B/s]"
      ]
     },
     "metadata": {},
     "output_type": "display_data"
    },
    {
     "data": {
      "application/vnd.jupyter.widget-view+json": {
       "model_id": "44d9497a66134ddbb8c45dcc5af92980",
       "version_major": 2,
       "version_minor": 0
      },
      "text/plain": [
       "Downloading data:   0%|          | 0.00/308M [00:00<?, ?B/s]"
      ]
     },
     "metadata": {},
     "output_type": "display_data"
    },
    {
     "data": {
      "application/vnd.jupyter.widget-view+json": {
       "model_id": "5484a76596eb456a843940892953dee7",
       "version_major": 2,
       "version_minor": 0
      },
      "text/plain": [
       "Extracting data files:   0%|          | 0/2 [00:00<?, ?it/s]"
      ]
     },
     "metadata": {},
     "output_type": "display_data"
    },
    {
     "data": {
      "application/vnd.jupyter.widget-view+json": {
       "model_id": "",
       "version_major": 2,
       "version_minor": 0
      },
      "text/plain": [
       "0 tables [00:00, ? tables/s]"
      ]
     },
     "metadata": {},
     "output_type": "display_data"
    },
    {
     "data": {
      "application/vnd.jupyter.widget-view+json": {
       "model_id": "",
       "version_major": 2,
       "version_minor": 0
      },
      "text/plain": [
       "0 tables [00:00, ? tables/s]"
      ]
     },
     "metadata": {},
     "output_type": "display_data"
    },
    {
     "name": "stdout",
     "output_type": "stream",
     "text": [
      "Dataset parquet downloaded and prepared to /root/.cache/huggingface/datasets/m-aliabbas___parquet/m-aliabbas--idrak_unsplitted_amy-8b544470dd094121/0.0.0/7328ef7ee03eaf3f86ae40594d46a1cec86161704e02dd19f232d81eee72ade8. Subsequent calls will reuse this data.\n"
     ]
    },
    {
     "data": {
      "application/vnd.jupyter.widget-view+json": {
       "model_id": "d7013cac72ea4530a0e99da7c4020ba5",
       "version_major": 2,
       "version_minor": 0
      },
      "text/plain": [
       "  0%|          | 0/2 [00:00<?, ?it/s]"
      ]
     },
     "metadata": {},
     "output_type": "display_data"
    }
   ],
   "source": [
    "idrak_voice=load_dataset('m-aliabbas/idrak_unsplitted_amy')"
   ]
  },
  {
   "cell_type": "code",
   "execution_count": 39,
   "id": "acb932cf-5a36-47d3-929c-30c30ff872ac",
   "metadata": {},
   "outputs": [
    {
     "data": {
      "text/plain": [
       "DatasetDict({\n",
       "    test: Dataset({\n",
       "        features: ['audio', 'transcription'],\n",
       "        num_rows: 1001\n",
       "    })\n",
       "    train: Dataset({\n",
       "        features: ['audio', 'transcription'],\n",
       "        num_rows: 1001\n",
       "    })\n",
       "})"
      ]
     },
     "execution_count": 39,
     "metadata": {},
     "output_type": "execute_result"
    }
   ],
   "source": [
    "idrak_voice"
   ]
  },
  {
   "cell_type": "code",
   "execution_count": null,
   "id": "5a80e4fa-e85e-4efd-880b-bc0ad3a8b177",
   "metadata": {},
   "outputs": [],
   "source": []
  }
 ],
 "metadata": {
  "kernelspec": {
   "display_name": "Python 3 (ipykernel)",
   "language": "python",
   "name": "python3"
  },
  "language_info": {
   "codemirror_mode": {
    "name": "ipython",
    "version": 3
   },
   "file_extension": ".py",
   "mimetype": "text/x-python",
   "name": "python",
   "nbconvert_exporter": "python",
   "pygments_lexer": "ipython3",
   "version": "3.9.13"
  }
 },
 "nbformat": 4,
 "nbformat_minor": 5
}
