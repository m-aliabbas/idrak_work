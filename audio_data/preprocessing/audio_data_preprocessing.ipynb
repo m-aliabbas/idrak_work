{
 "cells": [
  {
   "cell_type": "code",
   "execution_count": 2,
   "id": "493f88e5",
   "metadata": {},
   "outputs": [],
   "source": [
    "import pandas as pd"
   ]
  },
  {
   "cell_type": "code",
   "execution_count": 4,
   "id": "1961fb16",
   "metadata": {},
   "outputs": [
    {
     "name": "stdout",
     "output_type": "stream",
     "text": [
      "Aleezay Batch 1.xlsx\n",
      "Aleezay Batch 2.xlsx\n",
      "Eman Batch 1.xlsx\n",
      "Example Batches.xlsx\n",
      "Fatima 4.xlsx\n",
      "Fatima Batch 1.xlsx\n",
      "Fatima Batch 2 !.xlsx\n",
      "Fatima Batch 3.xlsx\n",
      "Hassam Batch 1.xlsx\n",
      "Hassam Batch 2.xlsx\n",
      "Hassam Batch 3.xlsx\n",
      "Hassam Batch 4.xlsx\n",
      "Hassam Batch 5.xlsx\n"
     ]
    }
   ],
   "source": [
    "!ls "
   ]
  },
  {
   "cell_type": "code",
   "execution_count": 10,
   "id": "e154d80a",
   "metadata": {},
   "outputs": [],
   "source": [
    "df1=pd.read_excel('audio_data/Aleezay Batch 1.xlsx')\n",
    "df1.rename(columns = {'Unnamed: 2':'sentence'}, inplace = True)"
   ]
  },
  {
   "cell_type": "code",
   "execution_count": 15,
   "id": "94d356e9",
   "metadata": {},
   "outputs": [],
   "source": [
    "df2=pd.read_excel('audio_data/Aleezay Batch 2.xlsx')\n",
    "df2.rename(columns = {'Unnamed: 1':'sentence'}, inplace = True)"
   ]
  },
  {
   "cell_type": "code",
   "execution_count": 18,
   "id": "b26c6b5a",
   "metadata": {},
   "outputs": [],
   "source": [
    "df3=pd.read_excel('audio_data/Eman Batch 1.xlsx')\n",
    "df3.rename(columns = {'Unnamed: 1':'sentence'}, inplace = True)"
   ]
  },
  {
   "cell_type": "code",
   "execution_count": 25,
   "id": "e2771731",
   "metadata": {},
   "outputs": [],
   "source": [
    "df4=pd.read_excel('audio_data/Example Batches.xlsx')\n",
    "df4.rename(columns = {' ':'sentence'}, inplace = True)"
   ]
  },
  {
   "cell_type": "code",
   "execution_count": 36,
   "id": "0d4cf379",
   "metadata": {},
   "outputs": [],
   "source": [
    "df5=pd.read_excel('audio_data/Fatima 4.xlsx')\n",
    "df5.rename(columns = {'Unnamed: 1':'sentence'}, inplace = True)"
   ]
  },
  {
   "cell_type": "code",
   "execution_count": 40,
   "id": "e6cdc5de",
   "metadata": {},
   "outputs": [],
   "source": [
    "df6=pd.read_excel('audio_data/Fatima Batch 1.xlsx')\n",
    "df6.rename(columns = {'Unnamed: 2':'sentence'}, inplace = True)"
   ]
  },
  {
   "cell_type": "code",
   "execution_count": 44,
   "id": "8b98a7a0",
   "metadata": {},
   "outputs": [],
   "source": [
    "df7=pd.read_excel('audio_data/Fatima Batch 2 !.xlsx')\n",
    "df7.rename(columns = {'Unnamed: 1':'sentence'}, inplace = True)"
   ]
  },
  {
   "cell_type": "code",
   "execution_count": 51,
   "id": "0c9955c6",
   "metadata": {},
   "outputs": [],
   "source": [
    "df8=pd.read_excel('audio_data/Fatima Batch 3.xlsx')\n",
    "df8.rename(columns = {'Unnamed: 1':'sentence'}, inplace = True)"
   ]
  },
  {
   "cell_type": "code",
   "execution_count": 60,
   "id": "15e558f4",
   "metadata": {},
   "outputs": [],
   "source": [
    "df9=pd.read_excel('audio_data/Hassam Batch 1.xlsx')\n",
    "df9.rename(columns = {'Unnamed: 2':'sentence'}, inplace = True)"
   ]
  },
  {
   "cell_type": "code",
   "execution_count": 61,
   "id": "a7349722",
   "metadata": {},
   "outputs": [],
   "source": [
    "df10=pd.read_excel('audio_data/Hassam Batch 2.xlsx')\n",
    "df10.rename(columns = {'Unnamed: 2':'sentence'}, inplace = True)"
   ]
  },
  {
   "cell_type": "code",
   "execution_count": 62,
   "id": "a64e2242",
   "metadata": {},
   "outputs": [],
   "source": [
    "df11=pd.read_excel('audio_data/Hassam Batch 3.xlsx')\n",
    "df11.rename(columns = {'Unnamed: 2':'sentence'}, inplace = True)"
   ]
  },
  {
   "cell_type": "code",
   "execution_count": 65,
   "id": "66ce30f6",
   "metadata": {},
   "outputs": [],
   "source": [
    "df12=pd.read_excel('audio_data/Hassam Batch 4.xlsx')\n",
    "df12.rename(columns = {'Unnamed: 1':'sentence'}, inplace = True)"
   ]
  },
  {
   "cell_type": "code",
   "execution_count": 69,
   "id": "b0b6f8f2",
   "metadata": {},
   "outputs": [],
   "source": [
    "df12=pd.read_excel('audio_data/Hassam Batch 5.xlsx')\n",
    "df12.rename(columns = {'Unnamed: 1':'sentence'}, inplace = True)"
   ]
  },
  {
   "cell_type": "code",
   "execution_count": 71,
   "id": "ab3de312",
   "metadata": {},
   "outputs": [],
   "source": [
    "df=pd.concat([df1,df2,df3,df4,df5,df6,df7,df8,df9,df10,df11,df12])"
   ]
  },
  {
   "cell_type": "code",
   "execution_count": 73,
   "id": "2b84d6ef",
   "metadata": {},
   "outputs": [],
   "source": [
    "df_final=pd.DataFrame()"
   ]
  },
  {
   "cell_type": "code",
   "execution_count": 74,
   "id": "cbbb3b20",
   "metadata": {},
   "outputs": [
    {
     "data": {
      "text/html": [
       "<div>\n",
       "<style scoped>\n",
       "    .dataframe tbody tr th:only-of-type {\n",
       "        vertical-align: middle;\n",
       "    }\n",
       "\n",
       "    .dataframe tbody tr th {\n",
       "        vertical-align: top;\n",
       "    }\n",
       "\n",
       "    .dataframe thead th {\n",
       "        text-align: right;\n",
       "    }\n",
       "</style>\n",
       "<table border=\"1\" class=\"dataframe\">\n",
       "  <thead>\n",
       "    <tr style=\"text-align: right;\">\n",
       "      <th></th>\n",
       "      <th>Number</th>\n",
       "      <th>Links</th>\n",
       "      <th>sentence</th>\n",
       "      <th>Unnamed: 3</th>\n",
       "      <th>Unnamed: 2</th>\n",
       "      <th>Link</th>\n",
       "      <th>Unnamed: 4</th>\n",
       "      <th>Unnamed: 1</th>\n",
       "    </tr>\n",
       "  </thead>\n",
       "  <tbody>\n",
       "    <tr>\n",
       "      <th>0</th>\n",
       "      <td>4.345634e+09</td>\n",
       "      <td>http://testing.avatarpro.co.uk/RECORDINGS/MP3/...</td>\n",
       "      <td>Hello. Hello. Hi this is Amy with American Sen...</td>\n",
       "      <td>NaN</td>\n",
       "      <td>NaN</td>\n",
       "      <td>NaN</td>\n",
       "      <td>NaN</td>\n",
       "      <td>NaN</td>\n",
       "    </tr>\n",
       "    <tr>\n",
       "      <th>1</th>\n",
       "      <td>4.402569e+09</td>\n",
       "      <td>http://testing.avatarpro.co.uk/RECORDINGS/MP3/...</td>\n",
       "      <td>Hello. Hello. Hi this is Amy with American Sen...</td>\n",
       "      <td>NaN</td>\n",
       "      <td>NaN</td>\n",
       "      <td>NaN</td>\n",
       "      <td>NaN</td>\n",
       "      <td>NaN</td>\n",
       "    </tr>\n",
       "    <tr>\n",
       "      <th>2</th>\n",
       "      <td>9.378383e+09</td>\n",
       "      <td>http://testing.avatarpro.co.uk/RECORDINGS/MP3/...</td>\n",
       "      <td>Hello. Hello. Hi this is Amy with American Sen...</td>\n",
       "      <td>Uncertainty</td>\n",
       "      <td>NaN</td>\n",
       "      <td>NaN</td>\n",
       "      <td>NaN</td>\n",
       "      <td>NaN</td>\n",
       "    </tr>\n",
       "    <tr>\n",
       "      <th>3</th>\n",
       "      <td>2.543005e+09</td>\n",
       "      <td>http://testing.avatarpro.co.uk/RECORDINGS/MP3/...</td>\n",
       "      <td>Hello. Hello. Yes. Hi this is Amy with America...</td>\n",
       "      <td>NaN</td>\n",
       "      <td>NaN</td>\n",
       "      <td>NaN</td>\n",
       "      <td>NaN</td>\n",
       "      <td>NaN</td>\n",
       "    </tr>\n",
       "    <tr>\n",
       "      <th>4</th>\n",
       "      <td>2.524387e+09</td>\n",
       "      <td>http://testing.avatarpro.co.uk/RECORDINGS/MP3/...</td>\n",
       "      <td>Hello. Hi this is Amy with American Senior Cit...</td>\n",
       "      <td>Uncertainty</td>\n",
       "      <td>NaN</td>\n",
       "      <td>NaN</td>\n",
       "      <td>NaN</td>\n",
       "      <td>NaN</td>\n",
       "    </tr>\n",
       "    <tr>\n",
       "      <th>...</th>\n",
       "      <td>...</td>\n",
       "      <td>...</td>\n",
       "      <td>...</td>\n",
       "      <td>...</td>\n",
       "      <td>...</td>\n",
       "      <td>...</td>\n",
       "      <td>...</td>\n",
       "      <td>...</td>\n",
       "    </tr>\n",
       "    <tr>\n",
       "      <th>492</th>\n",
       "      <td>NaN</td>\n",
       "      <td>http://testing.avatarpro.co.uk/RECORDINGS/MP3/...</td>\n",
       "      <td>Hello. Yes. My name is Becky from Senior Benef...</td>\n",
       "      <td>NaN</td>\n",
       "      <td>NaN</td>\n",
       "      <td>NaN</td>\n",
       "      <td>NaN</td>\n",
       "      <td>NaN</td>\n",
       "    </tr>\n",
       "    <tr>\n",
       "      <th>493</th>\n",
       "      <td>NaN</td>\n",
       "      <td>http://testing.avatarpro.co.uk/RECORDINGS/MP3/...</td>\n",
       "      <td>Hello. Hello. yes what do you what do you want...</td>\n",
       "      <td>NaN</td>\n",
       "      <td>NaN</td>\n",
       "      <td>NaN</td>\n",
       "      <td>NaN</td>\n",
       "      <td>NaN</td>\n",
       "    </tr>\n",
       "    <tr>\n",
       "      <th>494</th>\n",
       "      <td>NaN</td>\n",
       "      <td>http://testing.avatarpro.co.uk/RECORDINGS/MP3/...</td>\n",
       "      <td>Hello. Hello who's this. My name is Becky from...</td>\n",
       "      <td>NaN</td>\n",
       "      <td>NaN</td>\n",
       "      <td>NaN</td>\n",
       "      <td>NaN</td>\n",
       "      <td>NaN</td>\n",
       "    </tr>\n",
       "    <tr>\n",
       "      <th>495</th>\n",
       "      <td>NaN</td>\n",
       "      <td>http://testing.avatarpro.co.uk/RECORDINGS/MP3/...</td>\n",
       "      <td>Hello. Yes hello. My name is Becky from Senior...</td>\n",
       "      <td>NaN</td>\n",
       "      <td>NaN</td>\n",
       "      <td>NaN</td>\n",
       "      <td>NaN</td>\n",
       "      <td>NaN</td>\n",
       "    </tr>\n",
       "    <tr>\n",
       "      <th>496</th>\n",
       "      <td>NaN</td>\n",
       "      <td>http://testing.avatarpro.co.uk/RECORDINGS/MP3/...</td>\n",
       "      <td>Hello. (IA). My name is Becky from Senior Bene...</td>\n",
       "      <td>NaN</td>\n",
       "      <td>NaN</td>\n",
       "      <td>NaN</td>\n",
       "      <td>NaN</td>\n",
       "      <td>NaN</td>\n",
       "    </tr>\n",
       "  </tbody>\n",
       "</table>\n",
       "<p>5541 rows × 8 columns</p>\n",
       "</div>"
      ],
      "text/plain": [
       "           Number                                              Links  \\\n",
       "0    4.345634e+09  http://testing.avatarpro.co.uk/RECORDINGS/MP3/...   \n",
       "1    4.402569e+09  http://testing.avatarpro.co.uk/RECORDINGS/MP3/...   \n",
       "2    9.378383e+09  http://testing.avatarpro.co.uk/RECORDINGS/MP3/...   \n",
       "3    2.543005e+09  http://testing.avatarpro.co.uk/RECORDINGS/MP3/...   \n",
       "4    2.524387e+09  http://testing.avatarpro.co.uk/RECORDINGS/MP3/...   \n",
       "..            ...                                                ...   \n",
       "492           NaN  http://testing.avatarpro.co.uk/RECORDINGS/MP3/...   \n",
       "493           NaN  http://testing.avatarpro.co.uk/RECORDINGS/MP3/...   \n",
       "494           NaN  http://testing.avatarpro.co.uk/RECORDINGS/MP3/...   \n",
       "495           NaN  http://testing.avatarpro.co.uk/RECORDINGS/MP3/...   \n",
       "496           NaN  http://testing.avatarpro.co.uk/RECORDINGS/MP3/...   \n",
       "\n",
       "                                              sentence   Unnamed: 3  \\\n",
       "0    Hello. Hello. Hi this is Amy with American Sen...          NaN   \n",
       "1    Hello. Hello. Hi this is Amy with American Sen...          NaN   \n",
       "2    Hello. Hello. Hi this is Amy with American Sen...  Uncertainty   \n",
       "3    Hello. Hello. Yes. Hi this is Amy with America...          NaN   \n",
       "4    Hello. Hi this is Amy with American Senior Cit...  Uncertainty   \n",
       "..                                                 ...          ...   \n",
       "492  Hello. Yes. My name is Becky from Senior Benef...          NaN   \n",
       "493  Hello. Hello. yes what do you what do you want...          NaN   \n",
       "494  Hello. Hello who's this. My name is Becky from...          NaN   \n",
       "495  Hello. Yes hello. My name is Becky from Senior...          NaN   \n",
       "496  Hello. (IA). My name is Becky from Senior Bene...          NaN   \n",
       "\n",
       "    Unnamed: 2 Link Unnamed: 4 Unnamed: 1  \n",
       "0          NaN  NaN        NaN        NaN  \n",
       "1          NaN  NaN        NaN        NaN  \n",
       "2          NaN  NaN        NaN        NaN  \n",
       "3          NaN  NaN        NaN        NaN  \n",
       "4          NaN  NaN        NaN        NaN  \n",
       "..         ...  ...        ...        ...  \n",
       "492        NaN  NaN        NaN        NaN  \n",
       "493        NaN  NaN        NaN        NaN  \n",
       "494        NaN  NaN        NaN        NaN  \n",
       "495        NaN  NaN        NaN        NaN  \n",
       "496        NaN  NaN        NaN        NaN  \n",
       "\n",
       "[5541 rows x 8 columns]"
      ]
     },
     "execution_count": 74,
     "metadata": {},
     "output_type": "execute_result"
    }
   ],
   "source": [
    "df"
   ]
  },
  {
   "cell_type": "code",
   "execution_count": 78,
   "id": "1c99cbe2",
   "metadata": {},
   "outputs": [],
   "source": [
    "df_final['link']=df['Links']"
   ]
  },
  {
   "cell_type": "code",
   "execution_count": 79,
   "id": "b87dafc3",
   "metadata": {},
   "outputs": [],
   "source": [
    "df_final['sentence']=df['sentence']"
   ]
  },
  {
   "cell_type": "code",
   "execution_count": 81,
   "id": "1031ddc2",
   "metadata": {},
   "outputs": [],
   "source": [
    "df_final.dropna(inplace=True)"
   ]
  },
  {
   "cell_type": "code",
   "execution_count": 83,
   "id": "5b5e3453",
   "metadata": {},
   "outputs": [
    {
     "data": {
      "text/plain": [
       "(4276, 2)"
      ]
     },
     "execution_count": 83,
     "metadata": {},
     "output_type": "execute_result"
    }
   ],
   "source": [
    "df_final.shape"
   ]
  },
  {
   "cell_type": "code",
   "execution_count": 84,
   "id": "edf47804",
   "metadata": {},
   "outputs": [],
   "source": [
    "df_final.to_csv('audio_data_links.csv',index=False)"
   ]
  },
  {
   "cell_type": "code",
   "execution_count": 85,
   "id": "02765bba",
   "metadata": {},
   "outputs": [
    {
     "name": "stdout",
     "output_type": "stream",
     "text": [
      "README.md\n",
      "audio_data\n",
      "audio_data_links.csv\n",
      "audio_data_preprocessing.ipynb\n",
      "inference\n",
      "practice_notebook\n",
      "requirements.txt\n",
      "visualization_app\n"
     ]
    }
   ],
   "source": []
  },
  {
   "cell_type": "code",
   "execution_count": null,
   "id": "588e4d73",
   "metadata": {},
   "outputs": [],
   "source": []
  }
 ],
 "metadata": {
  "kernelspec": {
   "display_name": "Python 3 (ipykernel)",
   "language": "python",
   "name": "python3"
  },
  "language_info": {
   "codemirror_mode": {
    "name": "ipython",
    "version": 3
   },
   "file_extension": ".py",
   "mimetype": "text/x-python",
   "name": "python",
   "nbconvert_exporter": "python",
   "pygments_lexer": "ipython3",
   "version": "3.9.13"
  }
 },
 "nbformat": 4,
 "nbformat_minor": 5
}
