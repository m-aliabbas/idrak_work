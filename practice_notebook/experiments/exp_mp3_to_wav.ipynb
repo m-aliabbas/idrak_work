{
 "cells": [
  {
   "cell_type": "code",
   "execution_count": 1,
   "id": "f80b24ff-b7cf-4cdc-8263-b2ce15b78054",
   "metadata": {
    "execution": {
     "iopub.execute_input": "2022-11-24T03:52:25.676941Z",
     "iopub.status.busy": "2022-11-24T03:52:25.676527Z",
     "iopub.status.idle": "2022-11-24T03:52:29.423581Z",
     "shell.execute_reply": "2022-11-24T03:52:29.422400Z",
     "shell.execute_reply.started": "2022-11-24T03:52:25.676861Z"
    }
   },
   "outputs": [
    {
     "name": "stdout",
     "output_type": "stream",
     "text": [
      "Collecting pydub\n",
      "  Downloading pydub-0.25.1-py2.py3-none-any.whl (32 kB)\n",
      "Installing collected packages: pydub\n",
      "Successfully installed pydub-0.25.1\n",
      "\u001b[33mWARNING: Running pip as the 'root' user can result in broken permissions and conflicting behaviour with the system package manager. It is recommended to use a virtual environment instead: https://pip.pypa.io/warnings/venv\u001b[0m\u001b[33m\n",
      "\u001b[0m"
     ]
    }
   ],
   "source": [
    "!pip install pydub"
   ]
  },
  {
   "cell_type": "code",
   "execution_count": 2,
   "id": "902e89eb-302e-4ea4-b344-2eb984f6a5f0",
   "metadata": {
    "execution": {
     "iopub.execute_input": "2022-11-24T03:52:32.133348Z",
     "iopub.status.busy": "2022-11-24T03:52:32.132274Z",
     "iopub.status.idle": "2022-11-24T03:52:33.803593Z",
     "shell.execute_reply": "2022-11-24T03:52:33.802541Z",
     "shell.execute_reply.started": "2022-11-24T03:52:32.133310Z"
    }
   },
   "outputs": [],
   "source": [
    "import os\n",
    "import cv2\n",
    "import skimage.io\n",
    "from tqdm.notebook import tqdm\n",
    "import zipfile\n",
    "import pandas as pd\n",
    "import numpy as np\n",
    "import shutil\n",
    "from pydub import AudioSegment\n",
    "from joblib import Parallel, delayed"
   ]
  },
  {
   "cell_type": "code",
   "execution_count": 3,
   "id": "58019003-afcc-4d27-92ff-cb8dcafcfae4",
   "metadata": {
    "execution": {
     "iopub.execute_input": "2022-11-24T03:52:36.926790Z",
     "iopub.status.busy": "2022-11-24T03:52:36.926154Z",
     "iopub.status.idle": "2022-11-24T03:52:36.932293Z",
     "shell.execute_reply": "2022-11-24T03:52:36.931090Z",
     "shell.execute_reply.started": "2022-11-24T03:52:36.926748Z"
    }
   },
   "outputs": [],
   "source": [
    "import glob"
   ]
  },
  {
   "cell_type": "code",
   "execution_count": 5,
   "id": "5bb3b479-5b47-4707-9276-ba0eaae2162c",
   "metadata": {
    "execution": {
     "iopub.execute_input": "2022-11-24T03:52:48.517529Z",
     "iopub.status.busy": "2022-11-24T03:52:48.517027Z",
     "iopub.status.idle": "2022-11-24T03:52:50.672998Z",
     "shell.execute_reply": "2022-11-24T03:52:50.672070Z",
     "shell.execute_reply.started": "2022-11-24T03:52:48.517491Z"
    }
   },
   "outputs": [],
   "source": [
    "files_names=glob.glob('cv-corpus-10.0-delta-2022-07-04/ur/clips/*.mp3')"
   ]
  },
  {
   "cell_type": "code",
   "execution_count": 14,
   "id": "d151de03-1cac-4b33-979f-1e3b454ce650",
   "metadata": {
    "execution": {
     "iopub.execute_input": "2022-11-24T03:55:41.173246Z",
     "iopub.status.busy": "2022-11-24T03:55:41.172764Z",
     "iopub.status.idle": "2022-11-24T03:55:41.179858Z",
     "shell.execute_reply": "2022-11-24T03:55:41.178645Z",
     "shell.execute_reply.started": "2022-11-24T03:55:41.173211Z"
    }
   },
   "outputs": [
    {
     "data": {
      "text/plain": [
       "117862"
      ]
     },
     "execution_count": 14,
     "metadata": {},
     "output_type": "execute_result"
    }
   ],
   "source": [
    "len(files_names)"
   ]
  },
  {
   "cell_type": "code",
   "execution_count": 15,
   "id": "576fbcc3-ae53-4b33-8e38-d5023fa72599",
   "metadata": {
    "execution": {
     "iopub.execute_input": "2022-11-24T03:55:56.132250Z",
     "iopub.status.busy": "2022-11-24T03:55:56.131787Z",
     "iopub.status.idle": "2022-11-24T03:55:56.137379Z",
     "shell.execute_reply": "2022-11-24T03:55:56.136259Z",
     "shell.execute_reply.started": "2022-11-24T03:55:56.132213Z"
    }
   },
   "outputs": [],
   "source": [
    "OUTPUT_DIR='cv-corpus-10.0-delta-2022-07-04/ur/wav_clips/'"
   ]
  },
  {
   "cell_type": "code",
   "execution_count": null,
   "id": "4516b8ce-9d22-482f-9e51-5bb9ea06e83c",
   "metadata": {},
   "outputs": [],
   "source": []
  },
  {
   "cell_type": "code",
   "execution_count": 8,
   "id": "bd7ac074-9fe5-4610-a9c0-922baab16bcb",
   "metadata": {},
   "outputs": [],
   "source": [
    "def save_fn(filepath):\n",
    "    path =filepath\n",
    "    filename=os.path.basename(filepath)\n",
    "    save_path = f\"{OUTPUT_DIR}\"\n",
    "    if not os.path.exists(save_path):\n",
    "        os.makedirs(save_path, exist_ok=True)\n",
    "    \n",
    "    if os.path.exists(path):\n",
    "        try:\n",
    "            sound = AudioSegment.from_mp3(path)\n",
    "            sound = sound.set_frame_rate(16000)\n",
    "            sound.export(f\"{save_path}/{filename[:-4]}.wav\", format=\"wav\")\n",
    "        except:\n",
    "            print(path)"
   ]
  },
  {
   "cell_type": "code",
   "execution_count": null,
   "id": "cfc3fd30-a263-4a4f-bce9-5893dd06cbbd",
   "metadata": {},
   "outputs": [],
   "source": [
    "Parallel(n_jobs=8, backend=\"multiprocessing\")(\n",
    "    delayed(save_fn)(filename) for filename in files_names\n",
    ")"
   ]
  },
  {
   "cell_type": "code",
   "execution_count": 16,
   "id": "ca5682a7-8b6e-4954-bfa5-29775812752e",
   "metadata": {
    "execution": {
     "iopub.execute_input": "2022-11-24T03:56:17.712229Z",
     "iopub.status.busy": "2022-11-24T03:56:17.711887Z",
     "iopub.status.idle": "2022-11-24T03:56:19.901647Z",
     "shell.execute_reply": "2022-11-24T03:56:19.900541Z",
     "shell.execute_reply.started": "2022-11-24T03:56:17.712202Z"
    }
   },
   "outputs": [
    {
     "data": {
      "text/plain": [
       "117862"
      ]
     },
     "execution_count": 16,
     "metadata": {},
     "output_type": "execute_result"
    }
   ],
   "source": [
    "file_names_wav=glob.glob(OUTPUT_DIR+'/*.wav')\n",
    "len(file_names_wav)"
   ]
  },
  {
   "cell_type": "code",
   "execution_count": null,
   "id": "2ece336c-176f-4d7d-ad1f-e57f4e3b0138",
   "metadata": {},
   "outputs": [],
   "source": []
  }
 ],
 "metadata": {
  "kernelspec": {
   "display_name": "Python 3 (ipykernel)",
   "language": "python",
   "name": "python3"
  },
  "language_info": {
   "codemirror_mode": {
    "name": "ipython",
    "version": 3
   },
   "file_extension": ".py",
   "mimetype": "text/x-python",
   "name": "python",
   "nbconvert_exporter": "python",
   "pygments_lexer": "ipython3",
   "version": "3.9.13"
  }
 },
 "nbformat": 4,
 "nbformat_minor": 5
}
