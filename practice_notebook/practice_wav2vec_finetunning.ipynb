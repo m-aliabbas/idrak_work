{
 "cells": [
  {
   "cell_type": "code",
   "execution_count": 4,
   "metadata": {
    "tags": []
   },
   "outputs": [
    {
     "name": "stdout",
     "output_type": "stream",
     "text": [
      "Tue Nov 22 12:56:48 2022       \n",
      "+-----------------------------------------------------------------------------+\n",
      "| NVIDIA-SMI 510.73.05    Driver Version: 510.73.05    CUDA Version: 11.6     |\n",
      "|-------------------------------+----------------------+----------------------+\n",
      "| GPU  Name        Persistence-M| Bus-Id        Disp.A | Volatile Uncorr. ECC |\n",
      "| Fan  Temp  Perf  Pwr:Usage/Cap|         Memory-Usage | GPU-Util  Compute M. |\n",
      "|                               |                      |               MIG M. |\n",
      "|===============================+======================+======================|\n",
      "|   0  Quadro P5000        Off  | 00000000:00:05.0 Off |                  Off |\n",
      "| 26%   27C    P8     6W / 180W |      0MiB / 16384MiB |      0%      Default |\n",
      "|                               |                      |                  N/A |\n",
      "+-------------------------------+----------------------+----------------------+\n",
      "                                                                               \n",
      "+-----------------------------------------------------------------------------+\n",
      "| Processes:                                                                  |\n",
      "|  GPU   GI   CI        PID   Type   Process name                  GPU Memory |\n",
      "|        ID   ID                                                   Usage      |\n",
      "|=============================================================================|\n",
      "|  No running processes found                                                 |\n",
      "+-----------------------------------------------------------------------------+\n",
      "WARNING: infoROM is corrupted at gpu 0000:00:05.0\n"
     ]
    }
   ],
   "source": [
    "gpu_info = !nvidia-smi\n",
    "gpu_info = '\\n'.join(gpu_info)\n",
    "if gpu_info.find('failed') >= 0:\n",
    "  print('Not connected to a GPU')\n",
    "else:\n",
    "  print(gpu_info)"
   ]
  },
  {
   "cell_type": "code",
   "execution_count": 5,
   "metadata": {
    "tags": []
   },
   "outputs": [],
   "source": [
    "from huggingface_hub import notebook_login\n"
   ]
  },
  {
   "cell_type": "code",
   "execution_count": 15,
   "metadata": {
    "tags": []
   },
   "outputs": [],
   "source": [
    "# notebook_login()"
   ]
  },
  {
   "cell_type": "markdown",
   "metadata": {},
   "source": [
    "`jiwer` for Word Error Rate Metric."
   ]
  },
  {
   "cell_type": "code",
   "execution_count": 6,
   "metadata": {
    "tags": []
   },
   "outputs": [],
   "source": [
    "%%capture\n",
    "!pip install datasets==1.18.3\n",
    "!pip install transformers==4.17.0\n",
    "!pip install jiwer"
   ]
  },
  {
   "cell_type": "code",
   "execution_count": 7,
   "metadata": {
    "tags": []
   },
   "outputs": [
    {
     "name": "stdout",
     "output_type": "stream",
     "text": [
      "Collecting soundfile\n",
      "  Downloading soundfile-0.11.0-py2.py3-none-any.whl (23 kB)\n",
      "Requirement already satisfied: cffi>=1.0 in /usr/local/lib/python3.9/dist-packages (from soundfile) (1.15.1)\n",
      "Requirement already satisfied: pycparser in /usr/local/lib/python3.9/dist-packages (from cffi>=1.0->soundfile) (2.21)\n",
      "Installing collected packages: soundfile\n",
      "Successfully installed soundfile-0.11.0\n",
      "\u001b[33mWARNING: Running pip as the 'root' user can result in broken permissions and conflicting behaviour with the system package manager. It is recommended to use a virtual environment instead: https://pip.pypa.io/warnings/venv\u001b[0m\u001b[33m\n",
      "\u001b[0m"
     ]
    }
   ],
   "source": [
    "!pip install soundfile"
   ]
  },
  {
   "cell_type": "code",
   "execution_count": 8,
   "metadata": {
    "tags": []
   },
   "outputs": [
    {
     "name": "stdout",
     "output_type": "stream",
     "text": [
      "Collecting librosa\n",
      "  Downloading librosa-0.9.2-py3-none-any.whl (214 kB)\n",
      "\u001b[2K     \u001b[90m━━━━━━━━━━━━━━━━━━━━━━━━━━━━━━━━━━━━━━\u001b[0m \u001b[32m214.3/214.3 kB\u001b[0m \u001b[31m21.0 MB/s\u001b[0m eta \u001b[36m0:00:00\u001b[0m\n",
      "\u001b[?25hRequirement already satisfied: scipy>=1.2.0 in /usr/local/lib/python3.9/dist-packages (from librosa) (1.8.1)\n",
      "Collecting resampy>=0.2.2\n",
      "  Downloading resampy-0.4.2-py3-none-any.whl (3.1 MB)\n",
      "\u001b[2K     \u001b[90m━━━━━━━━━━━━━━━━━━━━━━━━━━━━━━━━━━━━━━━━\u001b[0m \u001b[32m3.1/3.1 MB\u001b[0m \u001b[31m50.3 MB/s\u001b[0m eta \u001b[36m0:00:00\u001b[0ma \u001b[36m0:00:01\u001b[0m\n",
      "\u001b[?25hRequirement already satisfied: scikit-learn>=0.19.1 in /usr/local/lib/python3.9/dist-packages (from librosa) (1.1.1)\n",
      "Requirement already satisfied: soundfile>=0.10.2 in /usr/local/lib/python3.9/dist-packages (from librosa) (0.11.0)\n",
      "Collecting pooch>=1.0\n",
      "  Downloading pooch-1.6.0-py3-none-any.whl (56 kB)\n",
      "\u001b[2K     \u001b[90m━━━━━━━━━━━━━━━━━━━━━━━━━━━━━━━━━━━━━━━━\u001b[0m \u001b[32m56.3/56.3 kB\u001b[0m \u001b[31m12.1 MB/s\u001b[0m eta \u001b[36m0:00:00\u001b[0m\n",
      "\u001b[?25hCollecting audioread>=2.1.9\n",
      "  Downloading audioread-3.0.0.tar.gz (377 kB)\n",
      "\u001b[2K     \u001b[90m━━━━━━━━━━━━━━━━━━━━━━━━━━━━━━━━━━━━━━\u001b[0m \u001b[32m377.0/377.0 kB\u001b[0m \u001b[31m45.5 MB/s\u001b[0m eta \u001b[36m0:00:00\u001b[0m\n",
      "\u001b[?25h  Preparing metadata (setup.py) ... \u001b[?25ldone\n",
      "\u001b[?25hRequirement already satisfied: numpy>=1.17.0 in /usr/local/lib/python3.9/dist-packages (from librosa) (1.23.1)\n",
      "Collecting numba>=0.45.1\n",
      "  Downloading numba-0.56.4-cp39-cp39-manylinux2014_x86_64.manylinux_2_17_x86_64.whl (3.5 MB)\n",
      "\u001b[2K     \u001b[90m━━━━━━━━━━━━━━━━━━━━━━━━━━━━━━━━━━━━━━━━\u001b[0m \u001b[32m3.5/3.5 MB\u001b[0m \u001b[31m56.9 MB/s\u001b[0m eta \u001b[36m0:00:00\u001b[0ma \u001b[36m0:00:01\u001b[0m\n",
      "\u001b[?25hRequirement already satisfied: decorator>=4.0.10 in /usr/local/lib/python3.9/dist-packages (from librosa) (5.1.1)\n",
      "Requirement already satisfied: packaging>=20.0 in /usr/local/lib/python3.9/dist-packages (from librosa) (21.3)\n",
      "Requirement already satisfied: joblib>=0.14 in /usr/local/lib/python3.9/dist-packages (from librosa) (1.1.0)\n",
      "Requirement already satisfied: setuptools in /usr/local/lib/python3.9/dist-packages (from numba>=0.45.1->librosa) (63.1.0)\n",
      "Collecting llvmlite<0.40,>=0.39.0dev0\n",
      "  Downloading llvmlite-0.39.1-cp39-cp39-manylinux_2_17_x86_64.manylinux2014_x86_64.whl (34.6 MB)\n",
      "\u001b[2K     \u001b[90m━━━━━━━━━━━━━━━━━━━━━━━━━━━━━━━━━━━━━━━━\u001b[0m \u001b[32m34.6/34.6 MB\u001b[0m \u001b[31m35.2 MB/s\u001b[0m eta \u001b[36m0:00:00\u001b[0m00:01\u001b[0m00:01\u001b[0m\n",
      "\u001b[?25hRequirement already satisfied: pyparsing!=3.0.5,>=2.0.2 in /usr/local/lib/python3.9/dist-packages (from packaging>=20.0->librosa) (3.0.9)\n",
      "Requirement already satisfied: requests>=2.19.0 in /usr/local/lib/python3.9/dist-packages (from pooch>=1.0->librosa) (2.28.1)\n",
      "Collecting appdirs>=1.3.0\n",
      "  Downloading appdirs-1.4.4-py2.py3-none-any.whl (9.6 kB)\n",
      "Requirement already satisfied: threadpoolctl>=2.0.0 in /usr/local/lib/python3.9/dist-packages (from scikit-learn>=0.19.1->librosa) (3.1.0)\n",
      "Requirement already satisfied: cffi>=1.0 in /usr/local/lib/python3.9/dist-packages (from soundfile>=0.10.2->librosa) (1.15.1)\n",
      "Requirement already satisfied: pycparser in /usr/local/lib/python3.9/dist-packages (from cffi>=1.0->soundfile>=0.10.2->librosa) (2.21)\n",
      "Requirement already satisfied: idna<4,>=2.5 in /usr/lib/python3/dist-packages (from requests>=2.19.0->pooch>=1.0->librosa) (2.8)\n",
      "Requirement already satisfied: certifi>=2017.4.17 in /usr/lib/python3/dist-packages (from requests>=2.19.0->pooch>=1.0->librosa) (2019.11.28)\n",
      "Requirement already satisfied: charset-normalizer<3,>=2 in /usr/local/lib/python3.9/dist-packages (from requests>=2.19.0->pooch>=1.0->librosa) (2.1.0)\n",
      "Requirement already satisfied: urllib3<1.27,>=1.21.1 in /usr/local/lib/python3.9/dist-packages (from requests>=2.19.0->pooch>=1.0->librosa) (1.26.10)\n",
      "Building wheels for collected packages: audioread\n",
      "  Building wheel for audioread (setup.py) ... \u001b[?25ldone\n",
      "\u001b[?25h  Created wheel for audioread: filename=audioread-3.0.0-py3-none-any.whl size=23702 sha256=437a88038f9d6a1e4b46f8372cf64e8440c34d2a10ac52bb0dfda6e3da7a4edd\n",
      "  Stored in directory: /root/.cache/pip/wheels/e4/76/a4/cfb55573167a1f5bde7d7a348e95e509c64b2c3e8f921932c3\n",
      "Successfully built audioread\n",
      "Installing collected packages: appdirs, llvmlite, audioread, pooch, numba, resampy, librosa\n",
      "Successfully installed appdirs-1.4.4 audioread-3.0.0 librosa-0.9.2 llvmlite-0.39.1 numba-0.56.4 pooch-1.6.0 resampy-0.4.2\n",
      "\u001b[33mWARNING: Running pip as the 'root' user can result in broken permissions and conflicting behaviour with the system package manager. It is recommended to use a virtual environment instead: https://pip.pypa.io/warnings/venv\u001b[0m\u001b[33m\n",
      "\u001b[0m"
     ]
    }
   ],
   "source": [
    "!pip install librosa"
   ]
  },
  {
   "cell_type": "code",
   "execution_count": 9,
   "metadata": {
    "tags": []
   },
   "outputs": [
    {
     "name": "stdout",
     "output_type": "stream",
     "text": [
      "Detected operating system as Ubuntu/focal.\n",
      "Checking for curl...\n",
      "Detected curl...\n",
      "Checking for gpg...\n",
      "Detected gpg...\n",
      "Detected apt version as 2.0.9\n",
      "Running apt-get update... done.\n",
      "Installing apt-transport-https... done.\n",
      "Installing /etc/apt/sources.list.d/github_git-lfs.list...done.\n",
      "Importing packagecloud gpg key... Packagecloud gpg key imported to /etc/apt/keyrings/github_git-lfs-archive-keyring.gpg\n",
      "done.\n",
      "Running apt-get update... done.\n",
      "\n",
      "The repository is setup! You can now install packages.\n"
     ]
    }
   ],
   "source": [
    "!curl -s https://packagecloud.io/install/repositories/github/git-lfs/script.deb.sh | sudo bash"
   ]
  },
  {
   "cell_type": "code",
   "execution_count": 10,
   "metadata": {
    "tags": []
   },
   "outputs": [
    {
     "name": "stdout",
     "output_type": "stream",
     "text": [
      "Reading package lists... Done\n",
      "Building dependency tree       \n",
      "Reading state information... Done\n",
      "The following NEW packages will be installed:\n",
      "  git-lfs\n",
      "0 upgraded, 1 newly installed, 0 to remove and 103 not upgraded.\n",
      "Need to get 7168 kB of archives.\n",
      "After this operation, 15.6 MB of additional disk space will be used.\n",
      "Get:1 https://packagecloud.io/github/git-lfs/ubuntu focal/main amd64 git-lfs amd64 3.2.0 [7168 kB]\n",
      "Fetched 7168 kB in 1s (12.3 MB/s)\n",
      "Selecting previously unselected package git-lfs.\n",
      "(Reading database ... 78560 files and directories currently installed.)\n",
      "Preparing to unpack .../git-lfs_3.2.0_amd64.deb ...\n",
      "Unpacking git-lfs (3.2.0) ...\n",
      "Setting up git-lfs (3.2.0) ...\n",
      "Git LFS initialized.\n",
      "Processing triggers for man-db (2.9.1-1) ...\n"
     ]
    }
   ],
   "source": [
    "!sudo apt-get install git-lfs"
   ]
  },
  {
   "cell_type": "markdown",
   "metadata": {},
   "source": [
    "For Keeping records of Model Checkpoint\n",
    "i.e MLOPs like thing"
   ]
  },
  {
   "cell_type": "code",
   "execution_count": 11,
   "metadata": {
    "tags": []
   },
   "outputs": [],
   "source": [
    "# from huggingface_hub import notebook_login\n",
    "\n",
    "# notebook_login()"
   ]
  },
  {
   "cell_type": "code",
   "execution_count": 12,
   "metadata": {
    "tags": []
   },
   "outputs": [
    {
     "name": "stdout",
     "output_type": "stream",
     "text": [
      "Reading package lists... Done\n",
      "Building dependency tree       \n",
      "Reading state information... Done\n",
      "git-lfs is already the newest version (3.2.0).\n",
      "0 upgraded, 0 newly installed, 0 to remove and 103 not upgraded.\n"
     ]
    }
   ],
   "source": [
    "!apt-get install --yes git-lfs"
   ]
  },
  {
   "cell_type": "markdown",
   "metadata": {},
   "source": [
    "Downloading the Timit Automatic Speech Recoginition Dataset. "
   ]
  },
  {
   "cell_type": "code",
   "execution_count": 13,
   "metadata": {
    "tags": []
   },
   "outputs": [
    {
     "data": {
      "application/vnd.jupyter.widget-view+json": {
       "model_id": "dbb586a62eb2472eb0aef8a058b2715c",
       "version_major": 2,
       "version_minor": 0
      },
      "text/plain": [
       "Downloading:   0%|          | 0.00/2.40k [00:00<?, ?B/s]"
      ]
     },
     "metadata": {},
     "output_type": "display_data"
    },
    {
     "data": {
      "application/vnd.jupyter.widget-view+json": {
       "model_id": "2cb2982ebca74ea6a7f94beea3aa5ce3",
       "version_major": 2,
       "version_minor": 0
      },
      "text/plain": [
       "Downloading:   0%|          | 0.00/1.06k [00:00<?, ?B/s]"
      ]
     },
     "metadata": {},
     "output_type": "display_data"
    },
    {
     "name": "stdout",
     "output_type": "stream",
     "text": [
      "Downloading and preparing dataset timit_asr/clean (download: 828.75 MiB, generated: 7.90 MiB, post-processed: Unknown size, total: 836.65 MiB) to /root/.cache/huggingface/datasets/timit_asr/clean/2.0.1/b11b576ddcccbcefa7c9f0c4e6c2a43756f3033adffe0fb686aa61043d0450ad...\n"
     ]
    },
    {
     "data": {
      "application/vnd.jupyter.widget-view+json": {
       "model_id": "481ab62d9ef64636a22acd9e5299f5db",
       "version_major": 2,
       "version_minor": 0
      },
      "text/plain": [
       "Downloading:   0%|          | 0.00/869M [00:00<?, ?B/s]"
      ]
     },
     "metadata": {},
     "output_type": "display_data"
    },
    {
     "data": {
      "application/vnd.jupyter.widget-view+json": {
       "model_id": "",
       "version_major": 2,
       "version_minor": 0
      },
      "text/plain": [
       "0 examples [00:00, ? examples/s]"
      ]
     },
     "metadata": {},
     "output_type": "display_data"
    },
    {
     "data": {
      "application/vnd.jupyter.widget-view+json": {
       "model_id": "",
       "version_major": 2,
       "version_minor": 0
      },
      "text/plain": [
       "0 examples [00:00, ? examples/s]"
      ]
     },
     "metadata": {},
     "output_type": "display_data"
    },
    {
     "name": "stdout",
     "output_type": "stream",
     "text": [
      "Dataset timit_asr downloaded and prepared to /root/.cache/huggingface/datasets/timit_asr/clean/2.0.1/b11b576ddcccbcefa7c9f0c4e6c2a43756f3033adffe0fb686aa61043d0450ad. Subsequent calls will reuse this data.\n"
     ]
    },
    {
     "data": {
      "application/vnd.jupyter.widget-view+json": {
       "model_id": "9f7577a47a5c4c36bce9d9c52be138fc",
       "version_major": 2,
       "version_minor": 0
      },
      "text/plain": [
       "  0%|          | 0/2 [00:00<?, ?it/s]"
      ]
     },
     "metadata": {},
     "output_type": "display_data"
    }
   ],
   "source": [
    "from datasets import load_dataset, load_metric\n",
    "\n",
    "timit = load_dataset(\"timit_asr\")"
   ]
  },
  {
   "cell_type": "code",
   "execution_count": 14,
   "metadata": {
    "tags": []
   },
   "outputs": [
    {
     "data": {
      "text/plain": [
       "DatasetDict({\n",
       "    train: Dataset({\n",
       "        features: ['file', 'audio', 'text', 'phonetic_detail', 'word_detail', 'dialect_region', 'sentence_type', 'speaker_id', 'id'],\n",
       "        num_rows: 4620\n",
       "    })\n",
       "    test: Dataset({\n",
       "        features: ['file', 'audio', 'text', 'phonetic_detail', 'word_detail', 'dialect_region', 'sentence_type', 'speaker_id', 'id'],\n",
       "        num_rows: 1680\n",
       "    })\n",
       "})"
      ]
     },
     "execution_count": 14,
     "metadata": {},
     "output_type": "execute_result"
    }
   ],
   "source": [
    "timit"
   ]
  },
  {
   "cell_type": "markdown",
   "metadata": {},
   "source": [
    "Remove Columns that are not needed for ASR task"
   ]
  },
  {
   "cell_type": "code",
   "execution_count": 15,
   "metadata": {
    "tags": []
   },
   "outputs": [],
   "source": [
    "timit = timit.remove_columns([\"phonetic_detail\", \"word_detail\", \"dialect_region\", \"id\", \"sentence_type\", \"speaker_id\"])"
   ]
  },
  {
   "cell_type": "code",
   "execution_count": 16,
   "metadata": {
    "tags": []
   },
   "outputs": [],
   "source": [
    "from datasets import ClassLabel\n",
    "import random\n",
    "import pandas as pd\n",
    "from IPython.display import display, HTML\n",
    "\n",
    "def show_random_elements(dataset, num_examples=10):\n",
    "    assert num_examples <= len(dataset), \"Can't pick more elements than there are in the dataset.\"\n",
    "    picks = []\n",
    "    for _ in range(num_examples):\n",
    "        pick = random.randint(0, len(dataset)-1)\n",
    "        while pick in picks:\n",
    "            pick = random.randint(0, len(dataset)-1)\n",
    "        picks.append(pick)\n",
    "    \n",
    "    df = pd.DataFrame(dataset[picks])\n",
    "    display(HTML(df.to_html()))"
   ]
  },
  {
   "cell_type": "code",
   "execution_count": 17,
   "metadata": {
    "tags": []
   },
   "outputs": [
    {
     "data": {
      "text/html": [
       "<table border=\"1\" class=\"dataframe\">\n",
       "  <thead>\n",
       "    <tr style=\"text-align: right;\">\n",
       "      <th></th>\n",
       "      <th>text</th>\n",
       "    </tr>\n",
       "  </thead>\n",
       "  <tbody>\n",
       "    <tr>\n",
       "      <th>0</th>\n",
       "      <td>The prowler wore a ski mask for disguise.</td>\n",
       "    </tr>\n",
       "    <tr>\n",
       "      <th>1</th>\n",
       "      <td>The groundhog clearly saw his shadow, but stayed out only a moment.</td>\n",
       "    </tr>\n",
       "    <tr>\n",
       "      <th>2</th>\n",
       "      <td>We apply auditory modeling to computer speech recognition.</td>\n",
       "    </tr>\n",
       "    <tr>\n",
       "      <th>3</th>\n",
       "      <td>She had your dark suit in greasy wash water all year.</td>\n",
       "    </tr>\n",
       "    <tr>\n",
       "      <th>4</th>\n",
       "      <td>Is there any word you would like to offer in your own defense?</td>\n",
       "    </tr>\n",
       "    <tr>\n",
       "      <th>5</th>\n",
       "      <td>The dark, murky lagoon wound around for miles.</td>\n",
       "    </tr>\n",
       "    <tr>\n",
       "      <th>6</th>\n",
       "      <td>The cow wandered from the farmland and became lost.</td>\n",
       "    </tr>\n",
       "    <tr>\n",
       "      <th>7</th>\n",
       "      <td>Don't ask me to carry an oily rag like that.</td>\n",
       "    </tr>\n",
       "    <tr>\n",
       "      <th>8</th>\n",
       "      <td>The most recent geological survey found seismic activity.</td>\n",
       "    </tr>\n",
       "    <tr>\n",
       "      <th>9</th>\n",
       "      <td>The speech symposium might begin Monday.</td>\n",
       "    </tr>\n",
       "  </tbody>\n",
       "</table>"
      ],
      "text/plain": [
       "<IPython.core.display.HTML object>"
      ]
     },
     "metadata": {},
     "output_type": "display_data"
    }
   ],
   "source": [
    "show_random_elements(timit[\"train\"].remove_columns([\"audio\", \"file\"]), num_examples=10)"
   ]
  },
  {
   "cell_type": "code",
   "execution_count": 18,
   "metadata": {
    "tags": []
   },
   "outputs": [],
   "source": [
    "import re\n",
    "chars_to_ignore_regex = '[\\,\\?\\.\\!\\-\\;\\:\\\"]'\n",
    "\n",
    "def remove_special_characters(batch):\n",
    "    batch[\"text\"] = re.sub(chars_to_ignore_regex, '', batch[\"text\"]).lower() + \" \"\n",
    "    return batch"
   ]
  },
  {
   "cell_type": "code",
   "execution_count": 19,
   "metadata": {
    "tags": []
   },
   "outputs": [
    {
     "name": "stderr",
     "output_type": "stream",
     "text": [
      "Parameter 'function'=<function remove_special_characters at 0x7fd32d540040> of the transform datasets.arrow_dataset.Dataset._map_single couldn't be hashed properly, a random hash was used instead. Make sure your transforms and parameters are serializable with pickle or dill for the dataset fingerprinting and caching to work. If you reuse this transform, the caching mechanism will consider it to be different from the previous calls and recompute everything. This warning is only showed once. Subsequent hashing failures won't be showed.\n"
     ]
    },
    {
     "data": {
      "application/vnd.jupyter.widget-view+json": {
       "model_id": "87fccfaae9ad4566b0cc0a7a603c9b6a",
       "version_major": 2,
       "version_minor": 0
      },
      "text/plain": [
       "0ex [00:00, ?ex/s]"
      ]
     },
     "metadata": {},
     "output_type": "display_data"
    },
    {
     "data": {
      "application/vnd.jupyter.widget-view+json": {
       "model_id": "70c8a370f6ec493bb8c20d7ca9bc6798",
       "version_major": 2,
       "version_minor": 0
      },
      "text/plain": [
       "0ex [00:00, ?ex/s]"
      ]
     },
     "metadata": {},
     "output_type": "display_data"
    }
   ],
   "source": [
    "timit = timit.map(remove_special_characters)"
   ]
  },
  {
   "cell_type": "code",
   "execution_count": 20,
   "metadata": {
    "tags": []
   },
   "outputs": [
    {
     "data": {
      "text/html": [
       "<table border=\"1\" class=\"dataframe\">\n",
       "  <thead>\n",
       "    <tr style=\"text-align: right;\">\n",
       "      <th></th>\n",
       "      <th>text</th>\n",
       "    </tr>\n",
       "  </thead>\n",
       "  <tbody>\n",
       "    <tr>\n",
       "      <th>0</th>\n",
       "      <td>they offered no opinions volunteered nothing betrayed no emotions</td>\n",
       "    </tr>\n",
       "    <tr>\n",
       "      <th>1</th>\n",
       "      <td>don't ask me to carry an oily rag like that</td>\n",
       "    </tr>\n",
       "    <tr>\n",
       "      <th>2</th>\n",
       "      <td>she had your dark suit in greasy wash water all year</td>\n",
       "    </tr>\n",
       "    <tr>\n",
       "      <th>3</th>\n",
       "      <td>orange juice tastes funny after toothpaste</td>\n",
       "    </tr>\n",
       "    <tr>\n",
       "      <th>4</th>\n",
       "      <td>she smiled and teeth gleamed in her beautifully modeled olive face</td>\n",
       "    </tr>\n",
       "    <tr>\n",
       "      <th>5</th>\n",
       "      <td>she had your dark suit in greasy wash water all year</td>\n",
       "    </tr>\n",
       "    <tr>\n",
       "      <th>6</th>\n",
       "      <td>but that heritage is shrinking even faster</td>\n",
       "    </tr>\n",
       "    <tr>\n",
       "      <th>7</th>\n",
       "      <td>topography  topography is very important</td>\n",
       "    </tr>\n",
       "    <tr>\n",
       "      <th>8</th>\n",
       "      <td>don't ask me to carry an oily rag like that</td>\n",
       "    </tr>\n",
       "    <tr>\n",
       "      <th>9</th>\n",
       "      <td>smash lightbulbs and their cash value will diminish to nothing</td>\n",
       "    </tr>\n",
       "  </tbody>\n",
       "</table>"
      ],
      "text/plain": [
       "<IPython.core.display.HTML object>"
      ]
     },
     "metadata": {},
     "output_type": "display_data"
    }
   ],
   "source": [
    "show_random_elements(timit[\"train\"].remove_columns([\"audio\", \"file\"]))"
   ]
  },
  {
   "cell_type": "markdown",
   "metadata": {},
   "source": [
    "CTC commonly make speech chunks to letters. In order to make speech text string to characters we are using following peice of code"
   ]
  },
  {
   "cell_type": "code",
   "execution_count": 21,
   "metadata": {
    "tags": []
   },
   "outputs": [],
   "source": [
    "def extract_all_chars(batch):\n",
    "  all_text = \" \".join(batch[\"text\"])\n",
    "  vocab = list(set(all_text))\n",
    "  return {\"vocab\": [vocab], \"all_text\": [all_text]}"
   ]
  },
  {
   "cell_type": "code",
   "execution_count": 22,
   "metadata": {
    "tags": []
   },
   "outputs": [
    {
     "data": {
      "application/vnd.jupyter.widget-view+json": {
       "model_id": "1fffaca1461e4c6589641f5328efc8e9",
       "version_major": 2,
       "version_minor": 0
      },
      "text/plain": [
       "  0%|          | 0/1 [00:00<?, ?ba/s]"
      ]
     },
     "metadata": {},
     "output_type": "display_data"
    },
    {
     "data": {
      "application/vnd.jupyter.widget-view+json": {
       "model_id": "e342f38f49e540c1883350604dd5b884",
       "version_major": 2,
       "version_minor": 0
      },
      "text/plain": [
       "  0%|          | 0/1 [00:00<?, ?ba/s]"
      ]
     },
     "metadata": {},
     "output_type": "display_data"
    }
   ],
   "source": [
    "vocabs = timit.map(extract_all_chars, batched=True, batch_size=-1, keep_in_memory=True, remove_columns=timit.column_names[\"train\"])"
   ]
  },
  {
   "cell_type": "markdown",
   "metadata": {},
   "source": [
    "Getting total Character (Union of Character in Train and Test Vocab)"
   ]
  },
  {
   "cell_type": "code",
   "execution_count": 23,
   "metadata": {
    "tags": []
   },
   "outputs": [],
   "source": [
    "vocab_list = list(set(vocabs[\"train\"][\"vocab\"][0]) | set(vocabs[\"test\"][\"vocab\"][0]))"
   ]
  },
  {
   "cell_type": "code",
   "execution_count": 24,
   "metadata": {
    "tags": []
   },
   "outputs": [
    {
     "data": {
      "text/plain": [
       "{'q': 0,\n",
       " ' ': 1,\n",
       " 'y': 2,\n",
       " 'i': 3,\n",
       " 'g': 4,\n",
       " 'm': 5,\n",
       " 'a': 6,\n",
       " 'r': 7,\n",
       " \"'\": 8,\n",
       " 'v': 9,\n",
       " 'o': 10,\n",
       " 'e': 11,\n",
       " 'l': 12,\n",
       " 's': 13,\n",
       " 'n': 14,\n",
       " 'j': 15,\n",
       " 'z': 16,\n",
       " 'f': 17,\n",
       " 'c': 18,\n",
       " 'x': 19,\n",
       " 'u': 20,\n",
       " 'k': 21,\n",
       " 'b': 22,\n",
       " 'h': 23,\n",
       " 'd': 24,\n",
       " 'w': 25,\n",
       " 'p': 26,\n",
       " 't': 27}"
      ]
     },
     "execution_count": 24,
     "metadata": {},
     "output_type": "execute_result"
    }
   ],
   "source": [
    "vocab_dict = {v: k for k, v in enumerate(vocab_list)}\n",
    "vocab_dict"
   ]
  },
  {
   "cell_type": "markdown",
   "metadata": {},
   "source": [
    "To make it clearer that \" \" has its own token class, we give it a more visible character |."
   ]
  },
  {
   "cell_type": "code",
   "execution_count": 25,
   "metadata": {
    "tags": []
   },
   "outputs": [],
   "source": [
    "vocab_dict[\"|\"] = vocab_dict[\" \"]\n",
    "del vocab_dict[\" \"]"
   ]
  },
  {
   "cell_type": "markdown",
   "metadata": {},
   "source": [
    "Added Padding and Unknown Label in Vocab. Blank/Padding Token is core component of CTC model"
   ]
  },
  {
   "cell_type": "code",
   "execution_count": 26,
   "metadata": {
    "tags": []
   },
   "outputs": [
    {
     "data": {
      "text/plain": [
       "30"
      ]
     },
     "execution_count": 26,
     "metadata": {},
     "output_type": "execute_result"
    }
   ],
   "source": [
    "vocab_dict[\"[UNK]\"] = len(vocab_dict)\n",
    "vocab_dict[\"[PAD]\"] = len(vocab_dict)\n",
    "len(vocab_dict)"
   ]
  },
  {
   "cell_type": "code",
   "execution_count": 27,
   "metadata": {
    "tags": []
   },
   "outputs": [],
   "source": [
    "import json\n",
    "with open('vocab.json', 'w') as vocab_file:\n",
    "    json.dump(vocab_dict, vocab_file)"
   ]
  },
  {
   "cell_type": "code",
   "execution_count": 28,
   "metadata": {
    "tags": []
   },
   "outputs": [],
   "source": [
    "from transformers import Wav2Vec2CTCTokenizer\n",
    "\n",
    "tokenizer = Wav2Vec2CTCTokenizer(\"./vocab.json\", unk_token=\"[UNK]\", pad_token=\"[PAD]\", word_delimiter_token=\"|\")"
   ]
  },
  {
   "cell_type": "code",
   "execution_count": 30,
   "metadata": {
    "tags": []
   },
   "outputs": [],
   "source": [
    "repo_name = \"m-aliabbas/wav2vec2-base-timit-demo-idrak-practice\""
   ]
  },
  {
   "cell_type": "code",
   "execution_count": 31,
   "metadata": {
    "tags": []
   },
   "outputs": [
    {
     "name": "stderr",
     "output_type": "stream",
     "text": [
      "/usr/local/lib/python3.9/dist-packages/huggingface_hub/utils/_deprecation.py:39: FutureWarning: Pass token='wav2vec2-base-timit-demo-idrak-practice' as keyword args. From version 0.8 passing these as positional arguments will result in an error\n",
      "  warnings.warn(\n",
      "/usr/local/lib/python3.9/dist-packages/huggingface_hub/hf_api.py:641: FutureWarning: `create_repo` now takes `token` as an optional positional argument. Be sure to adapt your code!\n",
      "  warnings.warn(\n",
      "Cloning https://huggingface.co/m-aliabbas/wav2vec2-base-timit-demo-idrak-practice into local empty directory.\n",
      "To https://huggingface.co/m-aliabbas/wav2vec2-base-timit-demo-idrak-practice\n",
      "   e26d878..3498316  main -> main\n",
      "\n"
     ]
    },
    {
     "data": {
      "text/plain": [
       "'https://huggingface.co/m-aliabbas/wav2vec2-base-timit-demo-idrak-practice/commit/3498316053decc9289b7804bc704bb00b1405617'"
      ]
     },
     "execution_count": 31,
     "metadata": {},
     "output_type": "execute_result"
    }
   ],
   "source": [
    "tokenizer.push_to_hub(repo_name,use_auth_token=True)"
   ]
  },
  {
   "cell_type": "markdown",
   "metadata": {},
   "source": [
    "A Wav2Vec2 feature extractor object requires the following parameters to be instantiated:\n",
    "\n",
    "- `feature_size`: Speech models take a sequence of feature vectors as an input. While the length of this sequence obviously varies, the feature size should not. In the case of Wav2Vec2, the feature size is 1 because the model was trained on the raw speech signal ${}^2$.\n",
    "- `sampling_rate`: The sampling rate at which the model is trained on.\n",
    "- `padding_value`: For batched inference, shorter inputs need to be padded with a specific value\n",
    "- `do_normalize`: Whether the input should be *zero-mean-unit-variance* normalized or not. Usually, speech models perform better when normalizing the input\n",
    "- `return_attention_mask`: Whether the model should make use of an `attention_mask` for batched inference. In general, models should **always** make use of the `attention_mask` to mask padded tokens. However, due to a very specific design choice of `Wav2Vec2`'s \"base\" checkpoint, better results are achieved when using no `attention_mask`. This is **not** recommended for other speech models. For more information, one can take a look at [this](https://github.com/pytorch/fairseq/issues/3227) issue. **Important** If you want to use this notebook to fine-tune [large-lv60](https://huggingface.co/facebook/wav2vec2-large-lv60), this parameter should be set to `True`."
   ]
  },
  {
   "cell_type": "code",
   "execution_count": 32,
   "metadata": {
    "tags": []
   },
   "outputs": [],
   "source": [
    "from transformers import Wav2Vec2FeatureExtractor\n",
    "\n",
    "feature_extractor = Wav2Vec2FeatureExtractor(feature_size=1, sampling_rate=16000, padding_value=0.0, do_normalize=True, return_attention_mask=False)"
   ]
  },
  {
   "cell_type": "code",
   "execution_count": 33,
   "metadata": {
    "tags": []
   },
   "outputs": [],
   "source": [
    "from transformers import Wav2Vec2Processor\n",
    "\n",
    "processor = Wav2Vec2Processor(feature_extractor=feature_extractor, tokenizer=tokenizer)"
   ]
  },
  {
   "cell_type": "code",
   "execution_count": 34,
   "metadata": {
    "tags": []
   },
   "outputs": [
    {
     "name": "stdout",
     "output_type": "stream",
     "text": [
      "they all like long hot showers \n"
     ]
    },
    {
     "data": {
      "text/html": [
       "\n",
       "                <audio  controls=\"controls\" autoplay=\"autoplay\">\n",
       "                    <source src=\"data:audio/wav;base64,UklGRiREAQBXQVZFZm10IBAAAAABAAEAgD4AAAB9AAACABAAZGF0YQBEAQARABkAGQAZAB4AEQARABEAFQAZABkAGQAZABkAGQAZABkA+P8MABEAGQAVAAgAIgAIABEAEQAIABkAFQAIABkACAARABEAEQAeABEABAAVABkACAAeAAwAFQAIAAwABAARAAwAEQAEABEACAARAAQAFQAVABEAFQAIABkACAAZAAwAFQAAABkACAAVAAwABAAMABUAAAAZAAgAEQARABUAGQAIAAgACAAEAAwAEQAMABUAEQAMAAgADAAZAAgAFQAMABUABAAVABEADAAZAAQAFQAMAAwADAAVAAgADAARABEAEQAZABEAEQAMAAQACAARAAQAFQARABEABAAVABEAGQAVAAgAEQAMAAwACAAVAAQACAAEAAgADAAMAAgAAAARABEABAAVAAgADAAEAAQABAAEABkABAAAAAAACAAEAAQACAAIAAAADAAEAAAACAAEAAgABAAIAAAAAAAEAAgABAAMAAwA/P8IAPj/BAAIAAQACAAAAAAACAAEAAgABAAMAAgA/P/4/wQAFQD8/xEABAAIAB4ACAAAAAgADAAEAAgABAAAAAgA9P8RAAwA/P8IAPz/BAAMAAAADAAEAAwAAAAMABUAAAAEABEAAAAIAAQACAAEAAwADAAIAAgADAAEAAQAFQAMABEABAAIAAQABAAAAAgAEQAMAAAAEQARABUACAAEAAgADAAEAAwADAAIAAAACAAIAAAACAAIAAQACAAEAAgAAAAIABUACAAEAAgABAAEAAwAFQAMAAgABAAEAAQA/P8AAAgAAAAAAAgACAAIAAQACAAAAAQA/P/8/wQAAAD8/wAAGQAEABkABAAEAAwABAAIAPj/AAAAAAQABAAAAAgAEQAEAAgADAAAAAwAAAAEAAgADAAAAAQADAAIAAQABAAIAAQACAAAAAgABAAMAAgADAAIAAQABAD4//z/BAAAAAAACAAEAAQA/P8RABUABAAEABEA/P8RAAQACAAIAAQAFQAMAPz/AAAMABUA/P8EAAQACAAZAAQAAAAIAPz/DAAAAAwA+P8MAAgABAARAAwACAD8/wgABAAIABUADAD8/wQACAAEAAgAFQAEAAQACAAIAAgABAARABEABAARAAAAAAD0/xUACAAEAAQA+P8EAAgA/P8IAAQAAAAIAPj/AAAAAAQAAAAMAAwADAAEAAQAAAAAAAwACAAIAAwABAD8/wgABAAIAPz/BAAEAAQACAAEAAgA+P8MAAwABAAAAAQACAAEABkAAAAVAAgAEQARAAQACAAMAAgAFQAMAAwADAAIAAgABAAMAAgADAAAABUADAAEABEAEQAAAAgAEQARABEAAAAMABEABAAZAAwAFQARAAQAEQAMAAwAHgAIAAwACAAEABEAEQAEABkACAAeAAwAFQAMAB4ADAAMABUADAAMABEAEQAIAAwACAAMABEAEQAVABUAEQAeAAgAHgARAAwACAARAAQAFQARAB4ADAAEABkACAAeABUAEQARAAQACAAIABEAFQAIABkABAARABEAFQARABkADAAVABEAEQAIAAwACAAIAAgAGQAEABUAGQARAAQAGQAMABkACAARABEAFQARAB4ADAARABEAEQARABUAGQAZABEAGQAVABEAEQARAAwAFQAIAAwAGQAMABUAEQAVAAQAGQAMAB4AEQAVABUAEQAVABUAGQAIABEAEQAVABUAHgAIABkAFQAVABEAFQAZABUAGQAMABkACAAVABEAFQAMAB4ACAAeABEAFQARABUAEQAeAAwAGQAIABkAFQARABkAGQAMABUAEQAeAAgAGQAEABUACAAZABEACAAVAAgAHgAMABEAFQARAB4ADAARABUAEQARAAgACAAIABEAFQARABEAFQAMAAwAFQAMABEAEQAVAAwABAAIABkADAAeABEAFQAIAAwAHgARAAQACAAEAAwAFQAMABUAEQAeAAAAEQAVABUAHgARABUADAAVAB4ADAAZABkACAAIAAQADAARAB4ABAAeABUAHgAVABUAEQAVABkAEQAZABkAFQAMABUAFQAZABkAFQAVABEAGQAZABkAEQAZABUACAAZABUACAAZABkAEQAZABkAGQAZABkAGQAZABkAGQAZABkAGQAZABkAGQAVABEAHgARAB4AEQAVABEAGQAZABkAFQAeAAwAFQAZAB4ADAARAB4AGQAZABkAGQAZABkAGQAVABEAFQARABkADAAeAAwAGQAZAB4AFQAeABEADAAZABkAEQAMABUAFQAZABEAHgAVAB4ADAAVABEADAAeAAwAGQAVABEAHgAZABkAGQAZABkAGQAZABkAGQAZABkAGQAZABUAEQAeAAwAGQAZAB4AFQAeABEAFQAZABkAEQAVABkAGQAMAAwAHgARABEAGQAZABkAGQAZABkAFQARAB4AGQAZABkAGQAZABkAGQAZABkAGQAZABkAGQAZABkAGQAZABkAGQAZABkAGQAZABkAFQARABkAGQARABkAGQAZABkAGQAZABkAGQAZABkAGQAMABkAEQAVABEAFQARABkAGQAZABkAGQAZABkAGQAZABkAFQARAB4AFQARABkAGQAZABkAGQAZABUAEQARAAQAFQAIAB4AGQAZABkAEQARAB4ADAAiAAwAHgARABUAEQAZABkAGQARABkAGQAZABEAFQARABkAGQAZABkAGQAZAB4AFQARABkAGQAZABkAGQAZABkAGQAZABkAGQAZABkAGQAZABkAEQAVABkAGQAZABUAEQAZABkADAAZABEAEQAeABEAFQARABUAEQAZABkAGQAZABkAGQAZABkAHgAMABkAFQARAB4AGQAZABkAGQAZABkAGQAZABkAGQAZABkAFQAIAB4AGQAZABEAGQAVABUAEQAVABEAFQAeABUAHgAVAAwAGQAZABUAEQARABUAGQARABUABAAZABkAEQAVABkADAAeABUAGQAMAB4AFQAeABUAEQAeABkAHgARABUAGQAMAB4AGQAZABkAFQAVAB4AEQAVABEAFQAVABEAEQAeABEAFQARABUAEQAeABEAFQAIABEAHgAIAB4AEQAVABkAGQAZABkAFQARABEAEQAeAAwAHgAMABkAFQAZAAwAGQAZABkAEQAZABUAFQAZABkAFQAMAB4ADAAeAAwAFQAZABEAGQAZABkAEQAeABkAGQAZABkAGQAZABkAGQAZABUADAAZABkAFQAMABUACAAZABEAFQAEABkAFQARAB4ACAARABUAEQARAAAAFQAIAAgABAARABEACAAIAAgADAAIAAAACAAVAAwAEQARABUABAAVAAQAGQAEAAwAFQAIAAAAEQARAAQAFQAIAAgA/P8RABUADAARABkADAAMABUADAAMABUAEQARAAgABAAEAAgAEQAVAAQAEQAEABUACAAMABUABAAMAAQAEQARAAgADAAIAAwAFQARABUADAAAAAwAFQAIAAQAFQARABkAGQAEABEAAAAIAAAACAAEABUAEQAVAAQAGQAMABkAEQARABUADAARAAwAFQARAB4ACAAMABEAEQAIAAgAGQD8/xkADAAIAB4ACAAVAAQACAAEABEAEQAEAAwADAAZABUAAAAeABEAEQAMABEAAAAVAAwACAAIAAQADAAAABEACAAMAAgACAAEAAQACAAVAAAAFQAIAAwABAAIAAgACAAEAAgABAAIAAgACAAZAAgAEQARAAgADAAIAAwAAAAMAAQA/P8IAAQACAAEABUACAAMAAQAEQAEABkABAAZAAQAFQAMABEADAARABEADAAMABUABAAeAAQAHgAEAAQA/P8IAAgACAAEABEADAARABEADAAIABkABAAMAAQAEQAEABkADAAIABUAEQAIAAAAGQAIABUAFQAMABUADAAIAAAAHgAMABUAEQARAAwADAAEABEAFQARABEAEQAEAAwABAAAABUABAAIABkABAAIABEABAAEAAQABAAEAAgABAAIAAAA/P8EAAwADAD4/wQAEQARAAwA+P8IAAAAFQAIAPz/AAAIAPj/CAAIAAgABAD8/wQABAAMABEABAD8/wAAAAAZAAQACAAMABEAEQAMAAgAEQD8/xkAAAAVAAQABAAEAAQACAAEAAgABAAIAAgA/P8VAAwAFQD8/wAABAAIABEAAAAIAAQACAAEABUADAAIAAgA/P8AAAgAAAD8/wQAAAAVAAAACAAVAAQACAAVAAgAEQAIAAAADAAIAAgACAAIAAQADAAEAAwAFQAEAAgADAAEAAQACAAVAPz/BAD8/wwAFQAAAAAA/P8EAAgABAAAAAgAAAAEAAgABAAAAAQACAAIAAQA/P8AAAgAFQAEAAwADAD4/wgACAAIAAQACAAEAAAACAAEAAgACAD8//z/CAAEAAgAAAAIAAwABAAMAAgABAAIABEADAAVABEABAAAABUABAAEABEACAAEAAgAEQAIAAgACAAEAAwABAAEAAgACAAZAAAADAAVAAQAGQAEAAgABAAIAAQABAAIAAwACAAEAAQAFQAIABUAAAAVAAQAIgAMABUA/P8MAPz/CAAEAAwACAAIAAwAEQD8/wgABAAIAAQAFQD8/wwACAAIABUACAAMAAQACAD8/wAACAAMAAgABAAIAAQAEQAMAAAADAARAAQAFQD8/wgABAAEAAAABAAEAAwACAAEAAgA/P8AAAgACAAAAPz/BAD8/wgABAAIAPz/BAAIAAQABAAIAPz/+P8EAAgAAAD8//z/CAD4/wQAAAAEAAAABAAIAAAACAAAAAQACAAEAAgACAAIAPz/CAD4/xUADAAAAAAA+P8AAAAA/P8VAAgABAAEAAgABAAEAAAADAARAAAACAD8/wAA/P8MAAQACAAEAAAABAAIAAAAEQD8//z/CAAEAAAACAD8/wAA/P/8/xEAAAAVAAgABAAMAAgACAAMAAQACAAIAAAADAD8/wwABAAIAAgABAAEAAgADAAEAAgAGQAEABEAFQAEABUAEQAVAAAADAAEAAgADAAIAAwAHgAIAAQABAAIAAQACAAVAAQAAAAIAAgACAAIABkACAAVAAwAEQARABEAEQAVABUAEQAeAAwAGQAZAAwACAAVABEAGQARABUAEQAMAAgACAARABkAEQAVABEAEQARACIACAAVAAwADAAVAAQAGQAEABEAEQAEABEAEQAVAAwAHgAMABUAGQARABEAFQAMAAgAFQAVABEADAAVABEAHgAEABkADAAIAB4ADAAVABkAEQARAAgAFQAIABUABAAIAAgAEQAZABEAFQAIABUADAARAAwAHgAVAAgADAAEABUADAAeABUAHgARABUADAAMABUACAAiAAgAEQARABEAEQAVAAgAGQAVABUAEQAVABkADAAeAAgABAAeAAwAFQAMAB4ADAAVAAgACAAZAAwAFQAMABEAAAAIABUA/P8RABEAEQARAAQAGQAIAB4ADAAZABEADAAVAAQAFQAMABEACAAMAB4AEQAMABkACAAZAAgAEQARAAwAFQAVAAwAEQARABkADAARABEAEQARABkAGQAeABEAFQARABkAGQAZABkAGQAZABkAFQAIABkAGQAZABEAHgAZAAwAGQAZABkAGQAMAB4AFQAeABUAHgAMABEAFQAVABEAFQAZABkAGQAeABEAEQARABEAEQAZABEACAAZAAQAFQAZABUAAAAZAAwAHgARABUAGQAMAB4AFQARABEADAAMABkAFQARABkAGQAIABEAGQAMABEAEQARAAwAGQAMAB4ACAAeABEACAAZABkAGQARABUAGQAZABkAAAD4//z/GQAZABEA/P8EABUAEQAVAAgADAAMABUAFQARAAgAFQAMACIA/P8mAPz/HgDv/zgA5/9AANH/UQDI/2sAnf+SAH//ygA6/xwBzv57AUP8LAUn/U0AnwAP/9wA8f4yAfH+3AA6/5sAr/9rANX/PADa/0UA7/8rAAAAIgAAADgA/P8eABEABAAeABUAIgD8/xEADAAZABUAHgAIABkAGQAZABkAFQAMAB4ACAAVAB4AGQAeABkAHgAiAEAADAAvAAQAIgDv//T/MwAAANr/IgDV/ysA5/8mAJgCFggP/5z9aP10AEf/WP/e/2X/Ov+Z/9r/2v/r/97/7//8/zgAigD8/xEAqv9NADwADAAzAEAAKwAmAFoAFQAiAPj/IgCXAGcAQACXAF4AJQFnAHL/GP9d/5X/zf/v/83/qv/R/zMAYwCOAMj/SQAmABUAWgBwABEA7/9RAGcA7/8iACIAeAAzAN0CowbyBUH9yPz1/uQDBAPB/i3/xv5s/V7+2v98/k3+ZwCSAGH/dv/zAo8FFgKS/jH/fwG8/JP9jP+S/ob9fP5H/A76qvnr/PX+W/2g/ab/Lf+g/Wz9HAFHAUwBugL1A00DVgBzASkBVgNaA/QB9QPWAWsAGQDE/9X8VPwY/In+Z/vR/LH92P15/YX+sACFAMj/PwERA/EAPAAIAM3/mv4n/Rb9Z/s3+Kn3U/eT92r2Sfg9+tr8Nvz8/1MCOQVqB9MJ9QwcDWAO/w7OD4kMwwstCrUJ7QYcBEoCkP/4/Ln7FvpE+JX2vPbu9xD4L/iI+f/6Df1Q/y4BHgMvA9YEFQb/Ba8E2wMwAucBUP/y/T78Yfks9z/zge8j66Ln0OXK433j9eZy8Mv3YQG2DggbHR5/H+QeAyQ9I60jgCRYHD0XMwzwB2r8PPKE6ibpF+gC56nlY+NG4ivj2uqp8Yj2Bf1KBXsNqRG6FPwWnRaWGJwaUR4pH6MYPhCpCGf+hftJ9ZnzGPAi7O7rhekX6JTokux/8538vQNxCDIHxgaRB6YHGQYWAlD8vPZq7TPm6eO731ThAuTC76YKXxr9HloYdRG5GAofKyllLoAkNhz0E68NogHG73TpJern7ZTu5+d03U3Xvtpk6G/yBPh4/k0G6w17EKARxhJuFlwfdiWnJHQY9AprBnAJjAptBQb8HvLn7brrCOyK6anoG+6i9ir7d/lx92r5ogHvCrkPUA0LBxEDcAAP/CDzC+3U6A3jCN0x1jXZBd8q+DoclyY0IIgQexOjIQcqtDlnNaYoLxjDDqsEhfKU6DbquvEi7EbiJ9TEzWXQvOFo9G/7ovysAHwJMA4xE4wZsCEHJ4wobySMFjcJagTWB14MhQbn+fHye+r452vpOOnt78zxJvi8+f71fPV1/d4Hzg+vEG0LsAaYAt0CngE0/Sz00e3e59LeNNQt0HPSpOAc8IMWDCdaG/8OiArhJi8yakKYPSoqpxhhDWAL0/vT8pbv0/LM6CHYcMsdyebTd+Rx9GD0NvDj8+0ABhCNGLAhEyVeJ6MkPSC5GLwQBRHEE2EQmQHX7xfoGemt9K/zo+8C503mU/Ed9TD9KfxxAoQHeAySCc4G2wbWCr8O6ggY/+Ty0e1Q6sTqiOE82vPQ6tAH2/jnHwsMJF8gphPHCCkfnjAsQG1A7SwJHTYQRA/CA5P6BfQP8xjq1dmuzc/LCtap4m3uVuyS6Y7s+fsmDEYXox4wIFkhpCAwIG8eiRs3GwMYExDnAUn1a+8g8MP01/h78CvmwuBX6Jb12vyz/6D9NP3A/3oFMwk5CwgMogpHB1r+NPd38+vzqO/Z6DXcC9UB0w7c0OtdAf0eVRjiDaIEuhQoMdY5fkDzKNIYeQ6EEMAQvwVY/7zz++sx3NrVftbw3nHl4egA5o7giOc69r0JDBI8FV8U5RTVGVoejyMmIWUcRBUwDgQJqAYMACf9UPbx+A/zi+vQ6BjqevRy9uj4MvOI8874egKtCDwG8QMlAYQEFQOiAV38R/av8FDqbeWQ3NzdnNxx6yP3lRD/GioJmwamCqor0jb+NW0o3RRUE3sT5Rp3DRsCvfU375Xn998u4SziaeWL4ibj+99j5tvyMgFeCa0INwlaDMEVCB4+IjggFxkWFKARrBKBDzwJeANa+7r3EPjb+5L1qvDC7CDw2PRg9I/37fVE+C38Nv+z/7n+BwEeAzUCTv1R+I711PER733p9+J32wDgTu4CAXQVIBbdBUAAKg8eL903kTDlHfgQeBIPGSobrQ65AGL1te8s6xXmvebX5jzmQ+HV32Pgo+li9T7/IwJ//8MCtQmdFjYcKh57GTwVqRSgFyIYzhL+DHAGOQJE/uj+SP5t973yLe0c8Fvx4/PR87Dy4PK09dD6VPx0/v7+s//X/kH9Ufvo+G/1nO416yvpjuY/4WDuIv5kFIkYLAX0/0QG0ir+NQQvKhsPCnsQlhhrIf8RkQHL9J7w6PIV79HtDuge5lDhsuK94+vqwfKz+cb70fk7/iMFshHlFzsYVxRqEOEUZRmgGhMWvw4WC90F/gP3BcYGu//u9C/vt/BL9tT3W/TZ7kLrzfA99zf7pvnY9zz4g/lR+7H6/vhl9lbvI+vq6Lrrqegm71H+aBGLGvIFsADBCZEnMjYTK+kaSQkyEGEcbiLLFKz+EfW68cf3x/Qw8RLozOJS4CnkDuhx6w/wo/Iy9jb2s/w1BaYN6BKTER8RYRCYFFcabhzyFxkPQAxNDLYOwA0UB9L+tvd39iX53ffl9NnuWe3o7G7wyfPu9O70jPOo9d33vPnD+jP4qPV68V3tM+xA6TPsxPCB+8YJShduDQgANQjvH88yICt7HDcPPQ7XG24iNBrNBHv2kvVX+rD7YfNo67bigOFm5H/qpuru66PspvD88874XgCZB9QLVgzGDOgPjBMtGb4auxlaEtcPMxL+FRsRMwluBA//rP7H+mj6FfWO707uLO5x7v/uAvB18a3xL/LJ8233YPfD91f0y/Q/8CDwz+ms5rnsD/k9C/4SmRD2/R4DRhedMfIv3h/tD2MMExlYJRcivw6M+T/2nPrzAsf6mPEY5M/geOOM6p7t+ulA6ULoUe8W9Br9LgHWBGAFZQdeDPgQARexGiIYRhRTEZUW2BrSGIIOeAazBDUFhASf/if3kfCp7uvw2vDa7S/sfutk7qPvM/Ks8ozz9fK18rDyQPIH8LPt9+XT6S/yGQPREDEWMwZk/QQMcydwNRMo3RcRDO4RtyK7KJAcGQMl9oP54QKVBMf3gus530/iYOiW73rr++UP5D3ohPCz9q/8Hf6i/38BWQfADf8RSxaCFwgVMBRYFvMcpxuFFRgNSguCCzYKIwWL/Q/2LfMc827z3e456+TpaOvJ7WDum+/q7uTv6/CY8anxMvAY8Ofq7uXG6V71AgfIE34Uyv66/YsREy7WMxkk/hKzCsgWESnoKhwZn/7Y92v+ZQrxBhX4aOjj3qnlh+6O8hXpleF04G3oYPGz9tf4k/eO+JL+XgaWDFsOlRB1EXQV4RenGMcaBRpbF3gSCRFlEM4MUAeEAdf7PPi09aX0P/A27SnqT+tw7LnsMu0H7Rjt6+3u7h7v4e5+7vXpc+RF6drzWgN1Dv4SiAF1/a8N6yh5MmIkVBaIDd8VcyfgLBcf9AR++jUCeAy0DOf85+2m4QvnbvDQ9BvrTeDp3b/lEe9B9Iv0gvHh8aP4ggLUCFEJcQvKD28SxxSIFpIbbxvxGL4UxBMPE+cQnA4JCOf/WvuP+r76xvUy8LbrTOoR7EftU+6M6tTorOm97CzuPe6B7AHoueOX5nHuSv0tCnsQPwQD+yMI7B5WL0corRr3DpYSZCPILmgmTQ8t/7YCiQwdEgcHpvbx5jLnKPF59+fwiuOk3UjhQuv38eTy+O2y6zXxp/ujA/UGkQesBt4KPRF+FycasRfeFpgUExYWF1EVoBHvCtsG6gJUAZr+LPog9m7w6u5C7kbuP+0W6+Tpa+k/6vTqOOwZ7LLo7eNQ5NHnlvKhAnUOjwi9+Nv+WhIdJ+UpnCD+EtsMQRpsLAIu3xusBuYCVAosFGcS9QPn8A7oMvAJ+oX46uua4RLfSeb/7qrzj+6H6A/qJfNx/W0C2wOfADkCogowETQXBha+FHwStBKTF+4XFRV8D68KdQheBqAFKQGI/Mn2pvM286Dx6O9q7T3rUOrt6eTpP+qV6lbp0OXK403j+ulJ+DcGLQpo/cD5IQSaGIclqSNLGUsNFhH7IDstXyZYExQHwAeEEEMWHBDR/z/wsO+p9/j87fU96+7irOOR6o/x0PHe6s3n4esm9ef8qv+q/y3/zAL0B4QQ5BLDESAQSxBxFOEUNxVNEk4ONQvbCYEJ3QXNAfL9MPoV+En1G/T48Hru5OyU6zrqhemw6TPpReZr42vjM+az8Cb+WgZNAEP57P4GDZ0cdSBuHDkRQQ5iGLMlnif5GzkOgQnxDHUUORQlCq36r/MS90P84foL8z/q4eXZ6NTuv/HE7bnpQ+qz8ND38fs6/Kf7lf+zBD0LxA1dDaoNGQ8GEywURxPiEKkODg6dDZMLGAc4A9cA2/57/PH4L/Ui8uPwTPBT7trqruh96TLqDugA4zLhc+SL7rP8ggWm/wn3VfslCqoZ1x7fG8AQSQxnFakjMyfzHBMQZQqbDJ0TCBU2DUT+e/ZA+Lz8sPtW9bPtlOiO6WTu9PD47XvqKOtE7370MPrn/Av8M/7+A+UIkwv/C20O8g4bEfUSoxJQEGgOtg6ZDaoKBwfgA9YBJP80/c35fPWS8rLxOfE57tTrBOlN6V7p0edq5PDhzeR+7pP9+wUAANH5XfxeCX4XaR+pHSoSiA0fFOEgsCTlHfUSLAvECiAQjhJEDK//dPhK91j5a/ju9Hru3Okh6lntzO7K7MfrQ+238Fb13fqZ/C38RQCpBdEK+gyVDeEOxw5VEgkU0RN/EEEOVA1ADO0JNwbdAuv/Gv2j+0T4rfRx8a/wlu+i7Qrrsuhg6HHouOez5Gbh1+OW74EAmAhtAiX88v1DCikZjyN8ITcVbw8vFfgfDCTsHv8UYAuFCfoMOQ4FCOH9y/d09TP1WPP17xbrw+h36u3seOyR6tbqW+5U88v3zvtD/wL/HwJECU0PoBHqEVUSYhLNE7sWohb1EiMOuQy8CusH8QNeAFj85Pgs99D01vCe7b3s8ew964rpjOdu54jn8eah5b/iqONC7mEBAQ5ACeECzQGTC9cYVyb4KOUdNxUkFhUeKiFRHkYXiA1CCPwHmQcyAQj4G/Qi8vDw9eyo6UrlR+QF6JbsFO2V6vjqfO+W9d/7nwDTA4sFHwjTDEoUjBagF/UY5xm+F0MWjRVuE0QPLwwICWsD9Pw9+mj3xPPR8N3uTeyF6ZbpP+r+6ZzozOhJ6YHpvekK6BLlEeMs64L9UBAZFTINwwi8CksWHSTsLYYpJB8sGugbih0MG7EUew0UByMFyQG6+vHvJeop6m3rc+qj5jHiet8E4xTqGe868OfwW/Q5+psA6gUVCQsNvBP7F4wZ0hutGsMaqRrzHG4ZExNqDeAJhwWBAH/8zfZg8QzvKe096yjoWecj6MrpLOu66wzsxOqt64jti+796p/mguiC8RQBxhIGHCAW/g/OEqkauyJSKfUqeSOaHtUcABr8EJMIYwMhARj/EPuw8jDoHuCk4MLjh+Uc5AvkuOSe513twfIc9nf5BADaB+sNyRCBEl4VjRhsHWQg5B4cHBcZFRgFFFgQ6AnKA0j+//p/9jnx0Osr6RfoJuml6F7pyum662jusvGo8ony1/KB8mvyPfH762vpjO1b+lEJhRt9IHgYnxWGFz0dpx4eJugksx/AHDkabBHxA6n66/aB9S32b/IC7ajjA97N3lTheOMK5VPr8e/O9WL7D/+oADIEEgsYE2cYNxuCGgka2xjiHKQdGheSEuAPcg2wBogBzvvR8yDwve837/3qnOgI6ePqou0e7znxkfNe9aL5+fua++H3UPY/86nxB+1r6U/rBPWZBKAXWyBhHN0XMxgtGfUYYh5lH84bixowGiISCwRR+OjvTexH7TXuOu086W7k5uIp5DXljubT7FP01fx1BfILMg1UDTwP8RLVFjQaOxu6GqMYoxW+EUQM2gdGBe0AL/6L+rL3hfKp7pHtHuyJ7PDtevFH87P20/jq+gL8j/07/vj/o/78/G/4nPT37srp+uOp4u7o1/jkD5cdDx9VHgAdwBnNFsgZEhpOF38ZVBwPGQYNuf5O8YDnouR75HfnyefA5wzp3ett65/pi+v78Uf5zQRlEB8XsBgpGf4YQBiDFiUToBGYEcQQxw6LCykE/Pyl+lD25fH+7+TvxPAB8T305fQv9R31Hfgv+xD+JgC6AlQEWwUMA2YBvfup9MTtVOrx4/PcENsv3VvrHwV8G60gTCQZJz4lyh6hH5MdohYMFUoabxuzE5sG8fVP6K/elNnW2Nrbu9xx4hHsf/Nu82D0ovbd+jgD+w5dGdEftSPfJDEl3CCPF3sNUQbnAej+DP5L/N72nPQm9WfyLO5g693rDO+38xL64v/dAp4EVAcmCV0H1gQRA9QCCgJnAFf9DvdT7vrm5OBL2SHPSMws0+jv8hH8Ircu8jU3OWowSCqkJmsYEA9kDikW2xXJDWMAHu/x4KfS4soeywTLU9Dk3ZLyVf6IBMoJlQrbDKYQyhi4HnkjxCUAKb0qNyRyFlsIyfnG7FflO+QH5ODmme298vT2Z/iy97L3Dvd1+q//twdhDd0RfxYaFxMTagrqAu76r/P77mbq0+bC44Dhv9w71Z7MK8j5zw70PBU6KAs8OEoFUrlHA0I/M60a0QcD/ogBwP9u+Rvuc+Rk3G3Nu8cAxT3CqMW+15/yowY0F6Qj4SkRL3Yuhix2KIkhbhlAGG4ZMRMiBoL6sOy239zXWNYl1YfZj+Iz7/H+QgivDfQQYRMiEoIRvRLREBAPqQ66DrYLqwTf+/fxVOq/4h/cz9eY1kLWCtYi16DUHtGI29EB1SW0OcZKk1j/XnFV1EnINxUbrf1j6SHnzOVD3t/S+c+ez+jJzslczc7Pt9P24zH/VBmXLNA3tUHDRo9DvDkxLq4ciwgV+1r1rO/Q5WTckNbf1ZPULtU42gHlR/Do/tUQyB8NKaortSxIKnIiVBbWCs0BBvlO8bDshekV5mTiDuIV44Liz+Ai4P3hIuOx4DPdFdqQ3CD2dSYYRYtYFmGuZutjzEz9M7YRcvAyzxzEuMlOznPMq8kB04jY7NvC3Y/ijuaC7gwDyB8lOcZHIk0cTulKojwaJk4LsvHF28/Oq8x9zt3QZ9Hq1izinO4T9vT86gXDETgdnShIM8E2PzNZKl4h/BNkApzucd8f1mLSJNOO10LfQ+dg7kn1bPo2+ZXzBe7A6gLk6dqb10zkQw2GOwhTLGRiZedj+lBlMZwRPOwKyn+yrLfswyvRhNUY3gjpn++B8urx/PPd9BD+vhE4LKxBaktXScJEVTm1IxkG4eh/0CO/JroTwbrOItpD5KPyRgI1C5YPjxTeGa0guyVcK50xUy4NJkQYfwpL+RnmQdTMyuPJCs2L1srjzvJs/RIF3QiHCBICzfa57AXlbdzs1eTXqOzLF1dANVX1X6BezVdGQA8f2v8p3onAxLJuu7vKpdmI4dHqV/Sj+/j8nPrL+hj8/gOQE3wqyTzsQmc+gzc/KjkUlvib3QTI8bqpuZHDz9Te5C3zjAFNEsMdCiKHIpwgbCPLINshkiHiHOASOQVD+S3trOCa0nLNPM781vDh6O+T/dYHIA0yDa8KxQGt9NrnAdyg0ZjNbNcb92ElpkitW6Jjx2GsVgQ4GRXH8enOYrRKrZq3zMp728rmXfND/1QHMwatAqMAXQFNBnkUXylQOYM9rzktMX8idAxH8LXUvr/OtNe0NcEo1tPsJQEZEs4hoCx8MJ0rICWJHt4ZWxcdEkYOqQW6+pbvReb33DLVJ9FP0yLdLeoG+WgFMA62Ee0PGQmc/WrwQOCT0ZDH8Mk74f4MeTtxVQtmtmeLZJJNjykPBLbZ+bc5pIimUbflzibg1+/e//sOuhRBEd0LSQYCBAUIixfzKKE0pzaqMbgnBhksAoTkzsn/tlSv/7MhxsneMPf1DP0hyzLiOh86DjGGJtAaDBKzCn8Eaf8T9nvt3OZ74THcdNdj1x7ds+ci9b8Cpg3RE/wTbw+tBY74Junx19TIncEGyqnrQR0mRDxc1Gdza+tjT0ZlIo/3vMyvrLidMKT4uFHPWeFt9J8JRRoMHpAZTRKmCosFsAm3Fl4k6SxVLesoOiJIFe/8GuDoxjC2iK+MtWjINeK9+2oTMiqLPfNGh0O8NvMoQBtaDN7/ifUf7tnl4OBD3rzeHN763ZLg6uhR9ZcA+gnVEAUUpRFuCiL+C/Dd32zOI8KZwZTWGQaWMDpOQGJfapBvxlk1OpMRq+Gdu+SfmZqpp068r8/S5FD/AhmdJT0mQx+VFj8NqAkfDsAWKR+UIi0ipyGkHYEMkvK11yrD2LYDtLi9kNBX6NkCIR68NlJHYUtMQtg1BycZFXQDQ/MB6EXgtNu822PdBODW4Sjl2est9mX/kgZWDAIQVBAZDIsCLPTD5fHU0cdRw9zO2PePI79Ahlj0Y1twk2TIRo0h8PAOynioz5nQniWv+MFS17L09hQEKWkuTim9ISkZGxGiDSMOpxKsFTkX1Rl8G5MRjPwy5LfQ+cO6vMK8q8YL26r2bxJLLuFDo03eSz5ADjSQH70JhfIH4WfX9NIO08XVV9zQ4s3q6PK8/CgFLQotDdAO6w25CZ3/FfK946fV48loxWDQifsHJGk9qlSxXvBx5WEOSUAhVvJIz9Cqm5zRnYmrTrwE0XrxnBRVKqExDC1SKSYhWBmQEBUMeAxuDVcO+xFvFfUMbvzP5kjYt81fxUXCxMce2nX0dQ6uKB0/RUqmS21DsjdiJNQLvfK43vbUtM+Ozu/Qotgm497tSfjaAYkJ3g10D58PtAyWBqD6Ou1u4eLTcMjYxU/W2gQZJ/Y+C1QVX8FxDl6YRg8cTPD5zBuqop0vn/ipdbkX0P7y3hYaLB0zKjDFLccm7h1aEnELHwiZB2AICw2wDxIIXfnA5+bc79NBy1XGyMpT3IL0Vgz2Ix44pUltTAtIADvlJlMRs/Pc4JTQ88qdx3zJAdPK4EruPfoCBMkNnRN4FdMS2g3KBmD6++vA3gvSvca6xa/YQQtiJ/0/D1EcXSpxjlm1RMsUNe6WzJiq8KCioG+rn7or0bP2IBlTLl0zCjF9L+0pnR+vEEoItgIiAxED9wgfCywFLfmm6qzjYttm0mPLsc6U38f0RAyFIQY0Q0LwRUlEGjhjJhgNnfP64FbUu83fyb7L7dRw4+Pw9PzmBSUNxxHkEg8Q4AlrABPzFeaV22POE8fizYnvTR5MMLVKe1Q7aF9qH08dM9X/xuCSuiCjkZ2ZoIut2L/93hgHQiUANXw2qzbOM2gsVBwCDcwC//1V/gv/LAURA3H9VvI/6ovlG9xc0xrO0tUr6R3+5RH6JpE2ykRZSBBCPjStHeQDfewa2kTPG8e6xdHKTNiS6fz2fgL0CsESHBaNFakO0AWm+TzsEt+h06HHAMh+3HINmicNPv9P/1uccBlZDUTAE2ju6s3oq3qhXZ3Tpfy1gc6d9iAZ3C8LNpA35jc/M+slAxK8BMr7WPyO+/z/3gGB/oz52vAW7ovlwtpz0vDSyeFX9H0GjBZLKAE6EUR9RKw4aShsEZb7c+fP16HNbcd9yAPST+JH8N/7+AQcDQwVfBUbEckHnP168ajjiNj8zbjJZdMF+sAi2zNnTVZT6WonZIhLtyju9w7cRLc/ozOcPZ6yrYrCPeXbDMgoCjcKOkM84znBMGsbowmm/D759fh0+Mj81PqI+Zz0BfEl7YLiodnp1BLcKe0v/lgNwiDcLzxBLEYKQNExxRuYBeTvcdwlz4fEIMQ+yuzY8enW9vsCTQzLFMEYgRVvDBQBe/P+5lraws5ZxnfP5PjUIMQxCkn4UU9symXeTvMo4frG3Xm52qO/m2Gdw6q1v1DkIA09KQM2EzoEPhI9rTLQGogHnPo8+AH32va6+iz6ZPqc97n1+PDQ5Y7aU9Ye3ajsqvlTBZ8Y6i5qPwVGtD/vMR4jkQo/9uzewc/vxH/Blsls147mBfQc/1ANxBaXGo8UEQyCAmT34Ok82lPNP8aNz/L3jR56LpFFlE8ma5xnQFCWKsr7K+CUvrKn9ZyimqyolL7T4z0LwCULM2Y5hD9qP4c0WhvKBoL6b/jH97T1//fy96X64fpu+ajyAuck3BvZQt/P7Db5NgSxFL8oITw+QyE8di6FHqoNaPrT45XSPsdyx4PNQNqf5pbymP3oCb0SqhZYEH8Hvv2q837oq9uazKHHbtvDCxomsTVWR0dXfXB4X3pGQBib8rjVqbP7oeqYv5vTq0jGbfGNFfwrNDVwPg9FvELgL0EUBAPV+Xz43vME8nr0Z/XV+e/56PgT8EPkT9wn3SvmBPJl+XoFlRmULmM+8T43NnYrgxxoCxH1V98K0PnGRMmh0Pfcceg99BQB4Q6mFjYWKA4CByT/KPR45n3XpMtOyH3a8gthIjU080OLVSpxXl8rR3kXMPQL29S5rKXKmXqbi61Ux3LwORGTJgExAT3QQztCaS4LE5sD0/vs+/v0rfGd83f2U/3i/MT59e+U5engOeLN597tVPMhAdsVDCqaNi45AzPgLGwg7Q+8+aTjl9QbzTTONdPg2hfl0PH4/+oLBREgEHIKoAWT/b/xqOO21ofNTs6O6fsXbCaDOlZHI2Hmbx9YVTlhCuPtwtHLsKudJJVhnWWyzNBu+TkXYiqiNmdEoki1QSQoMw8zA+/8MvkR73LtQfEb9538M/s/9q/tU+Xr4XTjQugP8Cn5UAcAHfktdzkXOjUxnirYGs4JGfKu3JjQCctYzXLTftx96VP38AQ3D3cTohASCxQEhvp/7WnfNdP5yXPSKvv7HRopnjwsTE1rrGgpTqoowgAR6TvJW6qPm1CX8qRyuzveYwP5G5krhzrZRsJHTDlpHBwKCgIf/cP0cesj7ij0p/uN/qz7Nval7mjohebx5vDnUOoq9VcLRB4NLG8z7TV9NewtLhvZBZLvKd5n0eXLA8zC0RTbHOqq+ZUHRA+iELQPvQzaBD/2v+Xm2ebQ981f4IwNoCCkMnREoFsdcdtcFD8QFZn2cN3Ft6+dqJNHmi+uisiI7fgNzCUHNhtGkUtuRVwuchM6B/n+U/ez6o7mlO4s9zf+9PyQ+Tz1ve8B68/pCOmM6rrupvzvEMsgMip8MJAxDTIuJzETtP646pLdBtMRzvrOgNX+4DrwGv11CGENoA53DZsJUf6W71DhLtgn0W3TmfYzGCQl6jqOSuhoy2eCT1Utcgej7yHPm6semXaVUaIit3HWf/ktFm8qUz2KSitKuz2UIjoQ1wYJ/QXx4eVn6QTyI/ow/Qz7sPgE9Q/wcetZ6v3qjOop848CoxVlIj0pJC6NMEUvZCARDOT4v+hn3dnTXc8D0ofZHuZq81D/vAePC9QLOQvABAT4j+ik3UvW5dHX43gMvh2xL9dB1lq2bTRbCz9UGcj8i+IwvC+fEpUPmhWrKMRS5uEFex87M2lGoUwORqoxRxlXDnIEV/c86Zjl+O2V9t/7CPuQ+fH44PV78MfrJunD6FbsUfgOCJkWJiEmKpMvDTIqKo0YrAaj9VDnHduX0ZrPUtQh3hbrJfa9ADAI3QvODIkJZf+p8WTld9uy0wjXMPrGFS0i3zZ3Sxlol2R+TDstqAyY9NPRoqyEms2XUaLftDHT0fOQENgmOzzXSqFJ5zzjJAgVwQzK/kDvu+We6q/zs/kV+zT6U/p4+FTzvO1u6vrmTOdr8lcCTQ8LGQkj3zDmNBAwQx+CDkMB8PAV4JTTVs4D0rjYD+Qt8BX7/gMcCu8NGA3RBJX2c+r44ePYtdE55TwMYhuwLXc/LFsAaihYkD1UHJUBbeVAvfeh5JnRnXWqW8Ko42ACsBseL21Dskn4QgwwORqgETYHzfZ/6mPpPPJL+SD8IPwl/Gf7VPZn7zDrUenx5gLqUPZKBQwSxRtzJ8guaTFfKSkZTgsG/KPsWd4L1SzTPtZf3d7nXvKV/E0DjAd0CcYGcf0s8cbmqN2H1vPfZAXeFngkpTdeUBVop1yKRO4mBQuf8ozNDKtQnZucNqZ1ubHXj/QQD7gkfTvTR1dDmzVNIRoXrA+B/rXvQutW8sD5Xfzx+5L7+fuM+Xzyi+uP5Zji3uQI8sH+4QhLFnUjGDBgNCEtzR9iEvAE9/Rw44HXMtIE1Fbam+OB7Oj1Av/UBdcJrAYV/vHyFOp24kXXmN+MBFEV1SIaNYdPkGYZXCRGISrKD+31KNAsrX2fdZ4jpLu1GtS38BIL5SBFOIBFLkLpNQUjxBnLEZcAv/Hl7pv13foJ/UH9Af02/DT3rO9K6K7i3+Ha50bxGv2BCeIWSCcaL1svlioPH+cTpgTg8oDkTdqQ1qzXU9wl5Drt+fXK/p4E0AVcAgj7QPK56b/f5tYb5TYKtxYdJCo2bVJLZvhXA0KWJzQOhvT2zmGvlaN6oX6nN7r+12XwxAcaHcQ0ekB+OmAu2h8sGmoTVwJD9sD2bP0PAYwBawB8/rn7IvV37c/mrOBJ3Y7gtezA+coDchCfIS0uOjHlLNEiHxpDDQv8L+wH4UjbftkU2y7haOgE7yD2U/0hAbv/Zfle8hztJOWl3FfoVwt4GMAi1jO4ThBi51TwP+8o2hAv+NjUQ7UpqSCmwKl1uazUZOuFANsVhC24OTg19ysuIaYc9BYtBw/8NP3HAn8EsAO6Auf/dPtb9B7sauSa3vraA97o6Vj2TQCEDQYf4iulLkIrOyRpHJkQawCH8Z7npuHp3QveLOKR58ProPHQ9037Dvpe9bfweOyl5SHeGe+gEfEY5CHENAdRTV97Tj88EyiWEs3579aAuoawpqwbrYC9QtYh52X5pw9SJv0wZiq9JOgeIR6jGB4JBQKWBjkLNgovCSkHTwLI/Mf0devC4xDbJdil3LjndfEF+n4IGRsDJ1YpeCcdJKwethSPBcb4ue+l6OnjpeJu5FbmF+hh7eDyx/Sf8qPvau316WfjiOEl/M4VzRbfJK46o1amV3pGjTlHKH8THfi+10LBNLnBsTSzp8OL1rXgQfRuCr0ekiHhHTsezx1AHrAVdQuTC7oRdBJ/EHcQfg7CBtr/pffW7drhCtls13bcIuP952/ydANiEscaqh8SI38iRB4JF/QNcgT3+qrza+/T7LXpl+ZD58nq9+uW6YznsObh5Xbi395j7PILxhJEGM8sOEf8VPpHdkAuNicmBA/X9Vzcfc7Kw8e8FsIt0BDVsd088h8F8QwLClEPvBMtFkEU/w5aD7QVAhllGakaaxugFIwNZAj7/eXuceL93q7idOB33urlM/UiA2AF8QlBEUcWLBRQEA8NzAiBA4P/SP7v/Bv3LfM09Dz1mPFJ6cPlRebC43Hczdij7z8HkQThDkwkiD+XPmM1PDg+MdEiAhB9AJ7wi+UE2l3VRtyA4ZfdhORM84H+4vmL9yIAdQKRATMAYQHoBo8LGQ+vE6oZ3BraFlsXuxaSD1cCkvuG+h31W+7E6vHsTfLK8lP0sPiG/Rz/+f5uASIDlQGm/0wBcANqAbT+dP5JAN7/qfrU92X2SvQz7+Dpbu2Z/C/+fPsLBM4SKh72FPIUdRo7GPsOtgiWBlkBEvpy9h/6+fvJ9kb3wPwpAXAAtvq9+73+sPvu9xj20fYV+EH39Pmj/hQB/gA1BQIKHwuJCeQGUQn+CQgGfQPmAnsE5AMOApQCEQMBAgwA6//s/gL8IPki+Ef5BPjB9Rz27vev+UP5n/jR+fT5TfjR9v/0TPNn8sb4A/6L/ToBsAaTEYgT8hHVE0YURxMVD6YKyQeoA7v/3/4UAXT+sPvX/hgBFgLG/mr8zfx0+734AvbW84L0MPSW9Un4Wvt0+4H+dAMeBvIF7QZyB8wI1AgyB3QGJgajBrkGZwbZBUYFlgP1A60Cov+Q/Ej7iPmb+HL2+/RE9Rj2D/aI9uL2W/fr9rf2t/Y99Bzzgvfy/a/8mf9MBEwKrA9eD3sQshFTEeQPnwwqCSAHPAMpAeMBoQL7/Rj/xQGCAsIAuf7h/XH9DPsg+VD2RPVa9R31R/Zr+D36j/rb/pwCkgN0A/gEawaeBwwG6gUsBY4GowbDBccFLwbABOQDZwMSAt/+MP0Y/PL6Nvlg9+f2V/cd+OX3/Pbn9t33Gfh79m/14fTk9e76E/w0/fQBaAWVCh0MBQ5gDo8OeQ5DDYEJiAecBfMC6wFJA/4AJP89AgQDlAKFAGsAZf8Q/sb7W/p19z33ovZx95P3e/kj+n/8+P86ARsCQAMhBMwFOQV7BCUEJQTwBLgE7QMCBAIEeAMZA5gCvQBH/2v+7/zb+wn6Avm0+Jv4b/hV+Mv3Hfgz+Jj3C/Zr9Zv1EPvk+1H7fQAYBLcHrAkdDC8MFQy0DO0MIgm1Bv8F9QNTAq0COQLa//0BwwJjA68BKQHPAGcAA/5Y/Pj5Yfl0+ED4QPgl+Yz5y/q+/fj/xgALAYcCWQSVBPoDvQMYBHcEUASKA4oDGQMeA8cCaAJDAQAAOv+n/pz9Lfy++h/6Ofqi+Z/4lvha+FP3gvc99y/14PW9+Mb7V/pE/vABpgTAB14J7gsoC8ML6gvDC5EHwgbwBJkEsgLZAs8AlQFTAqUCdQKZAeQAvQAEAAP+Ovw0+vz5Nvm5+L34ovkn+p/7uv1l/+f/8QDWAagDfQPqAkkDMgT1A/oDkgPPA3QDqAMzA7YCWQFjAO//2/6L/Uv8TfvQ+jD6UPnb+BX49/do98328fUR9YH1Zfkz+w76Q//RARUGqAbTCVsLxwttC44M1gpxCBwHWwXnBJsDqQKjAHUCHwKHApUBxQHTACkBiP+j/in89/o5+nv5p/h0+Hz4f/kM+8j8EP7f/nAASgLXA+QDawNKBRYFfgXNBOMEagQhBFoDPAMWAu0A0f9y/7D+Bf1V+2z6aPpU+Vr4rfcf94z2UPYv9VP04fSJ+PT5mflR/voA0QQzBnQJfgsMDNAL4AytC+0JMAjuBb8FkQQiA/UAMAIoAiwCZgFmAcYA7QCM/73+zfxa+2T6g/nG+J/4PPgG+Vf6xvv8/GL+LwBDAeECsAPXA3IEwAQsBVcFuAS4BJkEWQQLBBUDNQJZAU0AQ/8q/oz8QPtg+oz5ifgE+Cz3kPYL9on1oPTW84X1WPmB+K36JP8bAgEFkgaMCrYLdAywDNENnAv0CkYI+gYrBvQERgJqAQoCmQFHAcIAqAA4ABUA5P4Q/lD8VftX+mX5ufhi+Nj38fjv+er6nfyN/hEAPwGBA4wENQXHBVYGeAY8BpgFPQWmBO0DXgNKArwB4ACv/8b+DP5h/Df7J/oy+Un4cfeE9uD1EfVG9FTzs/Od9mL4Wvh//Mj/YwMfBU4ISgt8DOAMUw7WDWcMegupCCwIuQbeBDACPQLFAZEBVgBWALP/2v/x/gP+t/ya+776nfmf+Gf4vvfQ9874e/ny+lT83f2z/0cB6gIHBMkEBAajBv4G8QZ9BmsGLwZCBYgEXgOtArMBXgA6/wP+dvxR+8T55Pj399H2xvUI9U70qvNW8vryD/Zb95P3zvvf/pwCEgV+CEELsAxuDTwPug6VDbQMEwqSCQEIxwVWA+oC5wF7AUUA3v8G/6z+Ff5K/fH7x/rn+fH4CPiL9+/26/at94X4H/rX+x/9Q/8hAQwDmQRKBWcGXQcSCAUIpgddB1QHZwapBaYEkgNKAg8BwP87/qb8EPt3+Wv4aPdD9hH1SvSZ8wbztvHq8a30S/bN9oL60P1zAUMEtwcWC8YMAQ7+DzoQLw/HDjcMUwvKCYgHFgX6A4cChAFeALP/vf6+/UH9bvxR+/z5E/ki+Fv3xPZq9iD20fZ+95/4aPpD/L79wP9xAlQEQgX1BigIQAl4CU0JWgnlCPQHMgcIBsQEZwNmAYUA/v4F/VH75/ln+HX3KfYZ9TT0cvOb8sPxAfE38pP0XvVB9y/7Wv4OAh8FQAkIDNYNiQ+LESMRmRCsD5ENlgxyChII6gWVBIsCcwEVACn/vv2v/Nf7y/p/+W/4dfd39uD1jvVW9Yn1R/Yw97T4hvqV/I3+vQC6AucEQAavB8MIkgkLCmUKEwrXCTMJRggtBwwGfwStAtMAWP+G/Zr7zfkm+Nb2yvWG9Mnz+vIz8k7xyfBh8B7yFvQR9bL3+fsP/9QCrAYsC4wNdA/HEVgTlhIVEu8Q1A5/DbMKfggiBl0E9AG5ACD/9v0l/Dz7W/oc+fL3DvcG9lH18vTQ9N30TfU/9n73avlE+w39jP/RAYUDzAV3B8cI1wnrCmALcQsoC80K1wnZCJUH2QX+A1cCXgBn/pD8k/rG+E732/XD9PjzJfNN8vvxQfGZ8P7vYPGq8+X0FvdV+8H+ggK1BjkLfg5LENcSuhSPFIMTAhNHEJwO7gtrCcIGTATJAQwAgf7E/Cr7pvn5+LL3xPbg9Sr1SvQ99Cj0gvTq9P71I/f1+OH6+PxY/0YCagR0BtkIpgpgC4UMPw1HDXwMwwsSC5YJswcZBiEE5wH8/4b9yvvA+aD3AvYE9Znz2/Iz8t3xaPE98YjwMvAC8G/ybfQC9in50P36AH4FWArHDiMRmRMxFjAXMRZ0FdUTphBXDg4LTgjNBBICMf+t/Zr72vki+B/3P/Ym9Yb09PNq8+DyR/O382D0QPXR9on44fps/d7/QgIJBToHkglkC7QMYQ0JDmQOUw5dDW8MDgs3CV0HTwW6AlEAw/14+0v5MPcz9drzo/Lu8YfxdfFT8VPxmPGg8Vfx3vDd8br0nfbg+Cz9dwE1BYgKfA93E14VHRjIGVgZwxeZFvUSIg/YC/AHQwRNADT9fvoC+d72b/WT9MTz4PLk8pbyhfJR8rXyNvNk9Mb1YPeD+b37gf6MAaYERwfoCU0MCQ5ND4wQchD+D1EPZA69DGEK9AfmBQwDlwBA/mf70/iM9t30hPMq8kbx0fCZ8B/xi/Eq8njy2/LK8sHyN/J69K/2S/lN/pgC9wX0CgsQmBQqGNEZwxrhGgsZIBYfFAwPRwpPBZEBCP7R+Yz2CPV781Hy1/Ks8rXy2/L482307vSJ9Q/23vYQ+Of5zvvy/aMAQAMrBjMJOQsyDfsO8Q9lEHIQTQ/iDVYMswoSCB8FegIiAFv9UftU+QH39/TA8zbzgfJa8mfyrPI/82j0DPW99eT12/Um9Ub0DvSv9i/45PtzAcMFUQnuDtoT5Rd1GrQbFRtYGd8VPhPQDpgIigNr/hD7mPeT9C/ynPGv8MzxC/Oz81v0ePXr9qn3ifgC+ar5TvrO++X9r//RAZEEQwcyCo4Mtw2GDt0OSg70Db0Mbgq6CKwGjASHAooAa/52/MP6cvkm+K/2SfU39ZP0rfQm9Xz1cvYf9/v3sPj5+Kf4Ufid9r/06/NQ9pj3JvuKAD0FfAn/Dj0UKhiLGoAbcRqtF8AT1RBbC4QE/P+p+qD35fTX8nXxfvFg8UzzKvVH9oL3ePi3+Zj6Yvtv+8r7Q/yt/bv/XQF4Ax4GdQj0CuQMQw2dDaYNNwzaCokJUAfnBHQDlQHv/1H+wPwD+xr6Lfle+Eb3ZfaE9uf2zfaC9+H3wfiq+SP6TvoO+gv5rffK9SDzfPI39WX2+/ohAVYGegu2EdEWDRphHH8cJxrfFdoQxA3OBsj/kvuV9lv0vfKp8aDxa/Lo8mf1NPd0+H/5Gvru+sb7jPx2/Mj8rf3R/zACGARWBuoILAtDDUoOxA31DG0LDAmJBkcEVwLV/6z+y/0a/ZX8Avz3+v/67vo5+jL57PjG+Lz5iPn8+Wz65fqW+7n77vpB+nz4xvUg8zrw0+8g89T0y/ohAZUHdQ6BFe8ZsxzBHsMdqhnAE8ANMgr0ATP7fvf68jPy2PHu8f7ysvSB9Tf4avlk+sv6bPqt+pb7WPxu/GT92/70AT0FhAfKCfsLdw2PDuINwwvTCY4GWgMuAXgAL/5k/ar89Pz2/Wf+LP2i/Nr87/zB+9D6yfla+/L68vrO+4n7Mfwl/G/70Ppu+XL2f/M28CntXuy68dbz2/sRA3UIpg0hHsgiLSKXI1sjXh7TEtEHzAK69ybv9exc6A/qK+xe70b0Kfln+7b9HP8LAQcBeP7K+1f9dv+FACMC+gMZCfQNnw/EEHsQyg9WDwEIKALi/G72/u+i7Tfv0/Kl9I74XgB4BrcKDw37Cx0MAQsLBxYC6P6B+6r5vvfu9Hz1FfLn8KrwFvGJ74HsI+hc5Rvi2t5x6+j+Qw3sG2InJz6LTylLkT85NIwlWw7N8IDVlMfsuhC0KbsCx5HYRuud/04XDSl9LMgraSu3KAIfGQ/HAtD92PoB93H0+PPb9Yz2HfXq9Efz9+6j7KXuvPPY91r7HASmE+weECTFJwwnwiZcHLAMHAGB8jDlEd3B2CzZRd3n4crshvoKAk4IfAynDxYRvwt+Atj6kfCU4jTUxMqk0WDukQFvEvUnJT/iWvVWAUaDNDAdaf8P4ZvFzrR5sCCy8MZx31f00wkGH4EyBDv5MDoi7BgjDkMBD/Oh6yDt4fGc93H9DABy//L9yPzN+YTzkuys7OH0wf5aBnUOmhghIUQkGiAFF7oODwSj+Mbv8+hj5gTm7enY8Tz4avyeAbkGOQtoCwUIsgVZBAwAy/oR9T/wKOsV5pHei9ZyzSrMGOEWCFUeNDLIRmJfc3FeWfA5DRqL91bUmrRmndqaBKWzu9DiIgPSGz4xRkNkTN9CfygpE34Fyvhw7OHiDeNU6gjya/jd+lX4SfXh9K/2BffK9U76AQgsF0sf/yCuHyYeZRZKCAj7ovDt5snqpeuo8hj5efpXBXgJrwduBGH/pP3I/yX8LPrK+z784f1R/hL6/PY88mvs+Oex3SXS8stQ0qX0TiBpMUlKNlcfbeJpAD6WFZ7trcvsrkOdnpe2qjDFfewcFrwtDjpsQfRCtDlOIJUBiPNC7nDs3Ol/6jnxtPgJ/bf8QfeF7zbtzPHJ+e//qwcSFK4idSmJJEsZQQtV/oTw7ePs3rzkW+7G/ugJxBNEGFEVJRBUBy/7ovCP6y/sG/Hu9AL5pv86BP0E/wLy/VD5qPKE6ufhrtbwzOnLWNnABKUunj9gWDBeEm0qVuwkPvk01CO2ZKTtn3Soicar5MYM6yt6NwA4wjXMLkUgSgj4823xd/PT9Sr1BPXN9vn1G/QT8CjrJung7/b9kgzIFjceKSVMJxwf0A4g/KPsdOPn3orgr+oB+pMIAhz4H0IirBgIDLgBJvUZ6RTkU+X36w/2tPv4AbkGOQjrB08F2/4m+AvwGOoI4GzUpMirxnrWzfwkMSlFll/bZXJsElsuJKD0o8lJrnWe8qFbrU/N1O6iE90xFDlGNM8sEyXbGJ4Hsvdh9gz7nfwJ+nvzt+016HTm5uXe54TtZ/uJD1Eh4SneKOwkDBt0DAb5Ouf73JjccOPd7jf+twqLFDEfRR0dG1sOCgLf+5j08u5J7GjrAvDa9uv5Lf/qAlsFBQgSCBkDaP059HHrCOPw1cfLj8VbyEbc0RAOSQFeY3OQaRZq+EWsBljTKaz1mUOar6wnxavqKAh4J8w6ojbbJ2Ec5xY+E5YJigDRAW4BcvyV8IfiSNhT02za2ude+OcHyxpvLbw2yy+sHl4MrPuV7Sjiit1w4Pjqx/cEA0wKaw9oF+wYWhjvEGEKMAVe/vT2wu+W6SPoVuxR8gn6UAFGCNoNzg+MCq8BL/hR7x7mwNuq0GLJKsY1zX7cYA65TURod3oFbSJfm0HGADTOXan6mVafULjc0eHxmQemHLwtGiwnIBMZ2BquH1IdUBPkCTn9kuz521/O/Mfmyqjdjvj0EEAhXCsAMtkuBSAIDCL78e/A6m7q6Owm78byrfcJ/TIBlQcJC+ASzRz2Gk0btg6UAv/3uusz41bj9+Xq7tX8MAVNDBIODgs2B9oBQPiM8DbqQuJs2kzSm8hoyOnU/+vsLZJlLXUkfjle7kyAG/7dQbNqoOSfCLft1B7sAgH1CYsXeSAfHegY+x2WKqswVCgwFNr8VuMYz2LDrsEny2beVf6qGYYp6CpKJhYgHBbtCQgAAfq0+O730fbD8fDqC+c9673yp/7qCxke2SUnLOsf4RF+AqbwLeqp5cLmW+u/9Kr59wIlBNkFWwjXCUwHxgO8+frvR+dz3tbS/c8hyVPKYNYZ7MImRW13est/cl1SPgwbwt2PuTyojqvvvqLeTex39lr4cwEJFHsc+SElLUU72j83MIYRj+4n0fK/O8AAyPnYUex9Bv4bnSJkHVgW2hOlFN0UMxJrDHQDR/mL7rnjGtrg2k3m8fhlCv4VOiJVLVkk0RlZB278SveC7vjt/u9y7Z/vBvZD+X0AswQgCr4Rjw4cBBX7ue8j6IDh3N0q2L7X6M/Z0ObcKPG0MFRv1nrZddxNkTC6C5/X6Lq3sju6vs7452PsGO3j6k34GRIXIvktyDrkRF8+viMC/83bicZSwifOlNzE6h/3FQbBD8EPbwzWDdQXgCHrJQ8frA8+/IHsGuDv2aTaJeQl9msGPhAdFbEULBEnEZ8SJhL4DYEGOAC++pjurugs6Azv2vmEBC8J3QsiBtwA8vr4883tTezH60DpUOHd2cjQRc7P1EPtzyk9cP9/mXJWSmUldAYV2lbFPcJ2zf3bCOy/5XDaldV359oKTyiXOK5GbUkyPIkbvvcf2U/N8tGa4ZLsce6V7X/wQfdR+2cDxxE1JbEyTjKtI3oLXvUP523iR+Tj58bv8fj//RX+Vftb/RsIbhytIyQl7hdaDKYB3vP06tTocu0i9Wz9NP2Z/DT6dvxwA1AHZAUCAX/5gfLC6eTdL9S50eDL39KL3Iz5CzmHdQlzll8QM38f1wZ66NDcA9jv2YDbvt1bzv/FRMws7gUaKzU0PphDJTx/K+0P0/h+6DXl6+oE7/7pRtzn1aHcwuz0/CoPkyCHLjExpyeDFugDvfg39Xn3JvWs72rqWun+6RjtWPazBIYRxByhH/4bkhLwB8cCewGM/3n9Svpq9v7yo+8l8Ff3L/7rBIUGyQG8+evw5utm6tbn+uNq4cPZ8dQE1/HmhiAGZqBzCFw7NvwcDhHO8tPpZ+Ng5Tjg2d/TzvK/o8Ai4CAQwTC1OKg4uDMqJ4UVGwUv+xz5mPpe+Djsl9eRyR3P0+OM+c0K9RgFI3AmDSA2FvEMdQhRCRMKowPq9FLmcd/24BTnGPBV+x4JwxHUEZ0NhwhODv4YeBu7FiYJFf5o96nu7uvy6+XxD/md/3v8M/i88/H1Gfuv/OD41PQe7HrlU9mYzTHNH9xTDttZSnMBVTQsXQ15F5YG8QMV+7f2Hux+3ADLnLZxuajUWQc7Ko4vayTfG34aAxuaGB0V7hFQDVQB2+ye1TfGcMu44UP58gW/CF4JHA20Ei0W9RgTHMQcLRkdDHL5ruhq4Wnlnu3088DzH/SF9Wf+8AefDLcZEB5OIGIYfAnwBFP9pvzb++D4cvNA76zs1O5g8S3zo/j0/P/6k/fj8B7so+n64+DaZdZm3ov9/TyjZZlRBjGvDcMU6xbhDtAL7vdC7trbdNETwaa+bdDU9L4XyyApGesQghHxG2El+CV2HyoSCQVu87/iN9UX0+DgnO49+qr5U/cQ+/gEEhSNHlIj9iAAGgERmQQ9+qjy0PG38+DyY++F6WvpDu5A+HQDOg0DGOIclRn/FIQNPQ7ODMwIrwRl+ZnwJuna59bqlO7w8IzzSfXN817yW/HA8NTxK+zh33bZ1d/MAsZE1GEHSyYkuASpEccXuxZNEin8fu4O2brOkcOQxJDWLPd4FcgWwwuyAiAKGR7WLbUvTia5EpgCr/N06d/hIuCl6MfutfJA7B/olO4q/q8TzR+qIowcFhRND1sLFQmgBbUAjvtq87jqTeN04xnsjPYyAWQIKA6zDWIPDhHQFPgW0BF4D5QFqvwo9JTuOvCv8Grwju9U7TDrcOxG7vHyMvPu7pfmZtu82JHk/AqoUINgskO5GEv/URhpHxEmiBmB/hTqxs6UyiPFQc4b3Aj4GAqpBUf5nfZqCrAnXTnFNmsnCxDrAaL59fjU9Ezwhews6FnkU9yk3bbosf0GEHEXbxUvD3kOCxMSGnscThd1C+z+rfTx7BjqTOo17i/yyvJK9Or6HAF4CUoRAResG1gWNBFdDSAHngRR/jL5/vKc6+Hl0OX95HHoZ+mZ6ujpgOdx4sLdJd626wEULVFxXhE7YhX7BesijC5LLoAbfveY4g7NqM7ZyiLR8Nt07+/5EvGm7Rn1gRIaL2I8czO+IAIQ6gs0DioMsAMc9rzqyuDC2g3Xi9z76PL3uAGcAtYB0QSQEO4dfSZ4JO4aPA+bBjYBWPyG98zxxO2j6UDpuOoB95b7Lf+tBSgIZRN5EYMTCBU2EOUOqAb+ANX5vPPW7fXs/+j45KHiP+Hd4ibj092G2nbZ6uVUCp5LgVmENpMUPQttMVg9WTnAH+z7Wulf1+rWxNAK01jWm+O15rzer95u7cYPhizOM2sneRrNFsoeFyW3H7oRmf9t8RjnveBC3CneVOTA6gjsLeo27WD6Ag0zG6AgXx0CGa8WHxeqFtgR0Ag7/lH12+zw58DnSfjx+xn1+PC571YDvwg3D1cRqQvBDIUJawmtCFEDn/6a+3vzZOvn5I7jteaU5XDdodNyzbjYlO5bJtFOATTYFz8Elie8RWdEGzeEEF7+Cut754rjYN/F2x7apNri0JTQkdvy9/gT9h31FTkOVBO7IkIx6S9rJA8TSgUB/RX4gfJa7AHouePu3+nafd2U6HT44AOrB5gI2gpVEoUbCCH8H58YsA9aCYoDWP8p/FAB7/9T8aXoOeUI9Wr8y/0c/CP3BvwbAuMHoAvuCHAGlgPN/7H6QfcE9c7yXe3T4LzVjM3C1H7oyhiKO+kaowDe9usiz0SbRO807xBuBAH93gHS/sv0Oegv4LjbMdMB043bie+9AK0C6/nH98MFdhzPLEwq8R46EzcPjxG9Ev4MRwGB9RTtmOiZ5BLlHul67nLwM+8W8dT37QNxDu8TxhKBD9AO9xGxFKoTbBGpFCoJ9v1N+P74RQCQ+RX1U+4/6rXvKfb0+ef8rPgm+8D8Xv6XAFoAEP5++mXzYOsA5v3eIeT97UgYwjJtDpv4HPBLH786tDn/I00DU/3DAvIOqQvO+wXrNeXr5J/jz+NH56Pv2/jY9xbxifJFACYVKR9UGRsOAgrDDqMYHRu9EgkFpfpn+Kb5Tfg59GXwh+6V7Xft1+839Tr81wD4AYgBuAEpB5UNOhPTEoIOfAytC14MWw6lCwUFVf6Z+X76TfhK96r2xPN/8+3y3vN79h/3bvlU+Sf3RPVD89vyf/DT6Wni0uRq+dwsBCx0Bk7xIPwdMLE7uDbOEtv7H/11DrYXcQuR81Pl9ORX6Arr5ujh6OfqQfEZ75juMPTbA1QT3RR8DPEGMwxGF/Igexw6EPMCMwBgBUcHLAL89srvHO0V7+rxgfKW8sHyYPS89mr5mP25A3sHUQmMB3oIog1BFx0VohCoCZUK9A1qDYQHxv6J+PH4xPlx93/zce487zLwCPLj8MPx0++58i3wSe+p61TnReal6ywLEDMTGTD6Q/B4FdA90zvwJ90C6Pt1C8EhwR4sBbroJeRK66j14fR/6u7fEeDK6ZHtevH08//9eAPzAhYCegj/ET0aOhxGFHQMhQksEYMWwxEFBVD5J/ds+i/+dfqc8TnrnOuq8Nj0RPVo9OH0J/cc/N7/swQwCK8KDg55DiwRVxRyE70S+A29DLMK1AWsA2/+1PqT9zLzBPJR7z/tB+0962Trven/6GjoOucO5a7iN+8sF+YiPQLX8uX6jSo0OJoz7BUUAQwJNiKOL3MeH/3b7PTzTAHUCC359+WN2FnkQ/CI8zPsiubj6nLwGfgV/owBZAK6BbUJ8QznDc0QpRSPFMAQXgzlC9MM4AwtCuYCt/wW+uT7Zfzg+EPzm+8t8KPyo/V49drzkfMn97n+ZgTRBPAE+AStC1sRNxJiDwgM+AqIDY8LrwprA9/+6PvY+n/5+fXE8HvtH+v06ujpo+a84cbjKfN/DeT+mfAe7F4DIx3LHXEXzAKlAtsSVSc4JjETVf6tAuoLuxm0EikB8e+978T/cgRX/Q/t/uah67b0tPv39wXuYOvo8jP+WQGw/u76ufsHAa0IVwv/CK8EVgZUCo4MNwwmCS0HSgV9Bo4GrwSEAX//WP9A/k79XfxL/HL8oP11+tf7efp//+H9Yv4x/Eb9jf5ZAZsA+gDu/Sn/EQAuAdMAi/1D/In7V/1h/EH6d/Z89UD4bQLXCVT8TfhJ9S0HfgtEDLoCsfri/OsHZw+SDOv/LPp0/ggGSw1EBrn+bvb0/AEF0QfFAbP5nPfV/DkCMAXG/hb60Pd4/scCigOj/gj7XvsmANMDOANy/2r8+/31ANcDbQL8/5z9tP5mAcwC2gFH//L9Bv/KAPgB4ABl/zv+g//PAJ4BnwBy/9/+7/8hATYBhQB2/3v/KwAHAdcAlwCz/9H/JgCXANwACAArAKr/XgA8AMYAJgAzAN7/WgBRAHgATQAzAOL/9P8MADwACADI/6L/jP+3/9H/lf92/yT/bv9p/5D/WP9D/0f/af/I/8T/Xf+D/6//MwAeAC8A/P/4/0UAvQDcAF4AJgBnALAAygCjAGsAVgBNALkAwgBwADwALwCBAIoAgQCBADMASQBrAJ8AgQBNAFEAOABFAF4AcAA8AAgA9P8zACIAJgD4/9X/3v/v/wwA1f/A/6r/2v/N/8j/ov+q/8T/s/+v/5X/lf+M/5n/nf+M/1D/WP9l/4P/Yf9h/3L/dv+Z/5D/nf/A//T/JgAeABUAJgBRAJIAowC9AH0AfQC9AOQAAgHPALUAqAC1AOQA4ACwAGsAVgCOAJIAdABFABkAEQAmAEkAHgDe/8D/zf/8//T/4v+v/5X/u//N/+L/nf+M/4z/s//E/7v/mf+D/4z/qv/I/6//mf+Q/7f/0f/0/+f/0f/V/wAAIgAVABkAGQAiADgAQABJADMALwBWAF4AXgBRAE0AVgBNAGcAUQBNAEUAMwBRAEAAMwAiABkAGQAZAB4ADAAVAO///P8AABEA9P/r/9X/5//n/+//3v/R/9H/0f/a/9X/yP/I/9r/1f/a/9X/4v/e/+f/7//n//z/9P/0/xEABAARABkAGQAZACIAGQAZABkAJgAiACIAIgAvACIAIgAiABkAIgAiAB4ALwAmABUAGQAZAB4AHgAZABkAGQARABkAFQAEAAgA/P8MAAQA/P/4//z/7//r//T/9P/v/+L/5//0/+//7//r//T/9P/0/+///P/4//T/+P/8/wwADAAIAAQADAAAABkAFQAIAAQACAAZABkAGQAZAAQADAAeABkAGQAZABkAGQAZABkAGQAZABkAGQAZABkAGQARAAQAFQAIAAAA/P/8//z/AAAIAPz/9P/8//j/+P8IAAQACAD4//z/CAAIAAAA/P8MAAgABAD4/xEADAAEAAgAEQAeAAwAGQAZABkAFQAMABUAEQAVABEAFQARABUAGQAZABkAGQAZAB4ACAAVAAgAEQAeAAgACAD8/wQA/P/4/wAA9P/4//z/+P/4/wQABAAEAOv/+P/8/wAA+P/4//j/BAAAAAQABAAIAPz/EQAMAAgAEQAEAAQAAAAMAAwADAARAAAA/P8MAAgAEQAIAAQACAAEAAgABAAIAPz/CAAEAAwABAAAAPT/DAAMAPz/AAD8//z/AAAEABEACAAEAAQA9P8IAPz/CAAEAPz/AAD8//z//P8IAAAABAAIABEADAARAPz/DAAVAAwAAAAVAAwACAAIAAwAAAAVABEAFQAMAAgACAARABUADAAAAAQACAAEAAwACAAZABUAAAAVAB4ADAAIABkAAAAVAAwACAARAAwAEQD8/wQABAARAAgAEQAVAAgAEQAIAAQACAAEAAgACAAIAAwABAAIAAQABAAVAAgAAAAEAAgAHgAMAAgAEQAIABUAEQAiAAQAEQAMABEAEQARAAQACAAMAAQACAAIABUADAAEAAwA/P8EABkACAAIAAAABAAIAAQACAARABEAEQAEAAAAEQARABUACAAIABUAAAARABEAEQAVABEACAAVABUADAAMAB4AEQAMAAQABAARABUAEQAVABkAEQAMAB4ADAAMABkAEQAAABkA/P8MABEAFQAZAAgACAARAAwAEQAVAAwACAAeAAgABAAMABEADAAVABEAGQAIABkAFQAIABUAGQAAAAwADAAEACIACAAEAAgADAARABEAEQAIAAwABAAIAAAAFQAMAAwAGQAEABkAAAARABEAEQAEAAQAFQAMAAQAFQD8/wQADAARAPj/BAAZAAQAEQARAAgABAAMAAwACAAEAAgAAAAAAAQADAAVAAwAAAAVAAwA+P8EAAQAFQARABkAEQD8/wQA/P8AABkABAARAAwA/P8VAAAADAAAAAgACAAVABEACAAAAPz/BAAIAAwAFQAAABkAGQAEABUAAAAEABUAAAAZAAgABAAEABEAEQAAABEAEQARAAgABAAIAAAA/P8AAAQACAAEAAAADAD8/wAACAAEABEAFQAEABkAGQAEAAQAFQAVABEACAAIABUAHgAMABkAGQAEABEAFQAVABkA/P8RAPz/EQD4/xkAAAAeAPz/FQBh/8YA7/84AO//+P88AG7/awDV/zgAzf8vAOv/CAD4/yIA6/8IAPj/CAD0/xEABAAZAAQADAAEAAgACAAEAAgACAAEAAgABAD4/wgAAAAAAAgACAAAAAAABAARABEAAAAVAAwAFQARAAAA4v8IABEACAARAAAADADv//z/9P8IAPj/BAAVAAwAAAARAAAA/P/0/wQA/P8IAO//CAD0//j//P8RAAAACAAVAAgAFQAiACYAIgArAE0AUQA4ACIAFQAiADMAIgDv/+//CADv/8j/4v/r/9X/s/+z//T/1f/N/wwACADr/wgAEQAMAB4AGQAZABkAHgAeABkAIgAAABUAIgAVAB4AGQAZABkAGQAZABkAGQARABUABAAVAAwA+P/4//z/AAD0/wAAIgAEAOv/CAD8//j/FQARABEABAAZAPj/AAAEAAAA+P8VAAgACAAEAAgABAAIAAAAAAAIABUABAAVABUA/P/0/8T/SQBJAGH/fQAiAJX/LwArANX/CAAvAOv/GQD4/wgACAD4/xEAHgDi/wgANv/+ABkARP4sAqz+FQBRANX/EQDi/1oA1f8rAAwA4v8zAOL/EQAiAPz/HgAIAAwAHgD0/xEAJgDV/wgAEQDn/wQAHgDr/x4AFQAAAB4ABADv/xkACAARABEAGQARABUAFQAVAAQAGQD8/xEAFQAIAAQA9P/E/44A1f97/+0Aqv+v/5cAzf/I/14A5//v/ysA9P8IABEA/P8IAAAAFQAIAPz/IgAIAPz/DAAEAAgAEQAAAAAACAAVAAAACAAVAAgADAAEAAgADAAZAAgA/P8EAAgACAAMAAgADAAEABUADAAMABUA+P8VAAgADAAVABEAEQARAAgABAARABEADAARAAgACAAIABEADAARABkAEQARABUAEQAIABEAGQAIABUAAAAMAB4ADAAAAAgA/P8MABUAGQAEABUACAARABEABAAAAAAACAAEAAwAEQAMAB4ABAARABEABAAMAAgAFQARAAQADAAZABEAFQAIAAQAEQAMABkAFQD8/xEAFQAMAAgACAAEAAgA/P8IAAgAEQAMAAQAFQARAAwACAAIAPz/BAAVAPz/FQAMAPz/EQARAPj//P8EAAQABAAIAAAAFQAMAPz/CAAIAAgABAAEAAAACAAMAAgAEQAIABkABAAMABEAHgD8/xkACAAVAAAAAAAIAAQA/P8EAAgACAAEABUA/P8AAPT/+P8EAAwA+P8EAAQACAAIABkAAAAMAAwAFQAIAAwAAAArAAQAPAD8/zMAs/8VALP/9P8EANX/dAD8/44AVgAUAcYA4ADkAAcBxgC1AC8AyP+m/0f/IP8x/2X/f/9h/9X/u/+I/3//Lf/G/tf+9f4g/4j/zf8ZAOQAGAHCACUBGAF0AIoAqAA4AFoAUQC9AMYAPAAzAHgAMf/d/eX92vy++rH6RPs2/Bz/igNAA7YCBwGyAtoBFgUoCLAJGwgBBasB4f3v/B3+0v6c/Xn9C/wP/Oz7Av8WAoEDBwR+AloARv1A+zP7Tfum/Kf+xP+q/+v/6/8P/7r9wf4IAPUAewG6AvMCzQGXAG7/5P5R/gb/u//+ACEBUAHkAF4AOv9L/58A7QBHAdkCtQN3AQgA2v/KAKb/8QCZAeMBqACFAKL/RP7I/DD9qf0c/xEAbgFqASEBjP9R/nX9ZP2c/eT+HgDtACEBBwGbANH/wP/8/7kA8QBUAWoBGAEvAOL/GQAAAFoA+gBHAc8AWgArAPz/zf9NAKMAhQAVAOv/t/9y/13/pv8AAB4AHgAIAKb/dv+v/0AALwCq/zH//v5V/lr+Ov/4/xkAkgALAXQADAArABEA0f9rAKwAQAAiAGcAJgC7//z/MwDi/xkAhQBjAPj/6//a/8j/BABAADwAHgD0/53/t/8MAFYAeACjAE0A5//N/+v/3v/8/x4ADADe/6b/e/+I/5n/zf8EAAwAwP9y/0P/Pv+Z/6wAKQEUAWYBSgKhAnECwwLqAnUC2gGRAcIA7/9U/yT/Bv94/gP+uv3Y/b79CP7L/XH97/zI/G78Ovy0+3j7PPv7+t36N/td/Lz8Bf3B/o4A+gAYAZQCigMMAyYD6APCAwgDPAMCBAsEowMLBJUErwSZBOcECwTuAigCvAELAdwAAAAG/8r+zv54/oX+8f6j/r3+yP/8/1T/ov84APz/VP+Z/53/UP9//5X/f/82//H++f7+/pr+1P2Y/Yv9J/1h/KP7x/rA+cH4w/dU9vL0cvY5+qf7D/ym/+sEKQezByUKEgs3CSMIFgjxBlQEPAMlBA4FUwXjBGQFZwYEBpUECAPAAUP/nfzk+yL7GPln+Jn56vpv+0P8X/0V/oH+if5v/k3+i/38/HX9Xv7B/g//rABtAnQDbgR+BXQG8AeLCF0HuQZZB1YGTAQEAyMCfQA6/zP+Pf0+/Aj7rfrd+kH6S/nO+Nv4M/gF97T12PRl82jxSvFe9Qb5d/lA+5QCMwm3ClMLDA89DncN1wznCu4IKQecBVsFrwesBh8F2QVkCMIGCwTUAq8BoP38+dP4BffL9CP0qfTo9aD32/jV+f77i/2P/fb9Ov/f/qn9RP7V/3AA7QBCAgIEEQbWB6AIeAk1C9AL4wogCrkJzQeYBcID/QHR/779Mfzf+076g/ms+Df4fvfe9tr2xPaz9p/1+/Q99KLzhfI18YvxfPUw+uT7//0fBWcM2A4pEPUSrxMWERkPWw5jDE0JRAZXBUIFnAVhBPMCJQQhBNEB3v+S/hD7J/eS9TT0Y/LN8PjwqPLG9br35Phn+5/+SQD6ACwCsgJCAn4CLwO5A2YE3gTDBcAHzgm3Cn4LVgx0DOUL6wrlCCsGIgObAPL9a/st+Ub3UPYP9iX2+fUl9m72wPYn9zT3s/YL9nj1uvSi83zyCPJ38+r3qvwc/zgD6wqZEJYS0BTnFgYWdxPEEGAOIws2B+ADggK2AlcCsAAzAEcBLgET/4b9o/uF+NP1MPSF8jXxs/A18Wrzavan+Lb6w/3cAGgCqAP4BD0FrwSzBOcEEgVPBX4FGQb0ByUKQQupC0QMYwxTC3AJzgZaAxkAH/0j+u73S/b/9KD0PPX59Yj23vZT9/f3M/j/9233nfa99bL0f/Px8qLzlfZi+9/+ogEfCCYPmhIDFSwXNhaLFM4SLw+qCikHigObAJn/6/8L/+r9IP/KAEAAWP8Z/iL7Kfn/9x31jvIZ8rrxN/Ll9HH3OvkC/Lf/QgIlBNAFSQbqBSYG+wUOBa8EiAQPBAkFQwd1CLoI5AkjCywLBwo1CJwFrQLe/538qvml97n1j/Tq9Kj19fVu9mT3Wvgc+Tb5tPgv+LL3yfZR9Rv0s/PD9G/4ovzb/tACowmcDgURqhMzFXkUvRJyELcNKQpJBvsCCwGXABkAWv5E/isA0wDR/27/M/5l/N36Avmm9uH0wPMl89rzm/US95/4dPuj/uQArQJhBBYFjwX3BcwFLAXaBEwEjAQVBjYHVAcwCLAJNgqoCbYI/gbNBDkCr//a/HH6KviM9vX1OvYc9hz2xPbd93z4zvi5+Jv4jvhE+E73ZfbG9W/1G/fy+rb9Nv+9AzMJ/gz3DpgRGRIIEogQ6g4mDDMJvwUiA3sBKQGi/xD+xv5RAFoA3v+m/73+4f3I/P/67Pht9yn2ifXb9ZD2G/dJ+Mv6Pf0t/+AATwJnA4wEIwU5BfgEmQSeBHUFwwX3BX0GPwf8B34IzQcPBwgGRwRcAnQA6v3O+wH6kvjl91P3wPYW95z3L/is+Mr46Pgt+TL52/iJ+Lb3TvfL93/5sPss/WX/dANqB+QJRAwoDt0O/w4FDvUMswo1CKAF7QMwAmYBwP8p/97/nwBFAFoAQAAMAHb/if4S/Xj7CfoP+UT4+/f/9wT49fig+hj8bP3f/jgAewFxAiYDeAOoA6gDMgSVBN4EOQWHBbYFlgaWBgQGiwXNBHADaAKKAPX+Rv3x+7H6RvpQ+Rj5n/jB+Db5iPlh+RL6aPpX+jn69Pkl+Uf50fkq+4P8w/3e/+4CcQVyBwwJHAqzCqoKNgpnCbMH3QVMBP8C9AFDATwAPACoAAcB6AAyASUBJQGwAE0AIP8M/vj8S/yS+yb7rfqx+v/6yvuI/Er9Jv4T/97/sAA2AX8B2gFGAosC+wJEA/cCWgObA4oDTQMzA3ECVwJ/ARgBPABp/0j+5f0B/cT8Jfz1+xj8iPw+/JD8cvxY/Oj7fPsv+8v6bPoD+w/8ovxx/ST/4AB1AgsEnAV0BhQHGAcLB/IF1gRAA3UCagE6AZ8AhQCBAO0AHAFdAXcBkQGeAYQBRwHPAEAAkP/s/mf++/1o/TT9Of1+/a39Ff58/uT+Xf/e/1EArADoAC4BPwFzAYwBagFZAYQBMgE6AQcBxgBWADMAt/+i/xj/9f60/r3+b/58/i/+O/4I/v/90P1f/bf8VPw2/J/7Tfus+2r8vPxO/az+XgCeAfMCOgQFBWQFGwWZBL0DHgMFAnsBCwH1AJcAlwDTACUBKQFhAYwBngGIAXsBVAEHAbUAUQD0/53/Pv/S/r3+o/6w/rT+3/75/jr/dv/e/xEALwBjAJsAsADkANcAuQDPALkAlwB0ADwABADV/6r/iP9Q/zH/GP8Y/wb/GP8C//H+3/65/nj+Wv72/Yb9LP3i/FT8C/wY/GX8t/wj/TP+zf8yAaUCuQOwA7UDPAPqAk8C3gFMARgB1wDcALAAvQDxACUBMgFmAYgBogGmAasBpgFqASkBCwHPAH0ALwDn/6L/cv9U/0f/S/9L/1T/e/+v/9r/+P8MAEAAYwBwAGsAdABnAFYAIgAeANr/qv+M/5D/af9h/1D/VP9Q/1D/S/9H/yD/E//s/sH+fP4m/tD9cf0J/Zn8LfwY/GH8yPxX/Yn+HgBMAdEBcQJoAlcCGwIBArMBfwFHASkBFAEpASUBIQEuATIBUAF7AaYBqwHAAckBxQGiAX8BPwElAeQAqABaABkA0f+z/4P/iP9l/2n/dv+d/7P/0f/4/xkALwBNAFoAMwAzACIAEQDi/6r/iP9//2H/S/9L/z7/Nv9D/zb/Ov8p/xP/Bv/f/rn+dP4i/rb9aP38/JX8NvwY/G78H/37/Uv/eABQAbMBswF3AYQBjAGEAWYBRwFHAToBLgEuATYBNgFDAWEBhAGrAcUByQHwAecB8AHaAbgBiAFQARQB1wCFAE0A/P/N/6b/iP9//3v/f/+Z/6//zf/v/xEAMwA4ADgALwAiAAwA6/+7/5X/g/9h/0v/Pv86/zb/Kf8p/y3/HP8L/wL/7P7K/pr+Uf4D/q39Tv3V/F38D/wY/K/8gv2j/vj/8QA6ASEBHAEcAV0BXQFmAVQBQwFQAVkBMgFMAV0BTAFqAYQBmQHAAdEB2gH4AQUCAQL0AckBogFuATYB+gCoAF4AIgDn/6//lf92/3L/cv+I/53/wP/a/wwAJgBFAEAAPAAvACIADADR/6r/dv9Y/y3/C/8C/wv/+f4C/wL//v7+/uj+vf6a/m/+Hf7D/V/95/xl/N/7lvuO+yD8LP1r/gQAUAHFAfQBIwISAsUBswHJAZUBMgE2AToBLgEyAVQBQwFhAYQBqwHRAf0B/QEsAj0COQIoAusBxQGEATIBBwG5AF4AFQDN/6L/g/9y/2H/af+Q/7P/yP/r/zgAWgBnAHQAdABeAFoAMwD8/83/qv92/z7/GP/o/sH+rP6S/oX+gf58/nj+SP4i/uX9k/0f/a/8HPyJ+/f6i/pg+jf79PxD/68BlgMzAzUChwImA/sCGwISAtEBqwFDAW4BKQEUATIBYQFMAVkBmQESAhIC/QFGAmACLAI9AjUC3gFzASUB8QB4ABkAzf+Q/1j/Ov8p/yT/Nv9Y/4z/zf8MAGMAmwDCANcA6ADCALAAfQA4AAAAzf+Z/2X/Kf8G//X+vf6s/nT+M/4Z/uX9j/05/ef8g/wT/GL7uvoF+m755Pjx+K/57PvB/jACAQW3B2EHLwbkAykEeAPQAk8CdQJhAc8APwECAfoA6ADkALUATAF7Af0BKAKPAh4D5gLqAjACXAJHAXMBqABjAD7/Q//b/rn+L/5r/k3+tP7+/oj/3v94AMoALgElAV0BRwE/AQsBqAA8AAQAwP+I/zH/zv7S/sr+tP54/kj+A/7y/ZP9J/1//BP8TfuL+oP51/i+9/T2HPY69vn1ZfYc8AzvUf6rASP9hAefEjMVjxHDFEoUHRIyDdsJEQYOBbYCOACv/88A6ACwADoBRgKYAigCxgCBABEAYv5R+w/5cfeZ9jz1bvP18pP0t/aB+Lb6w/1/Aa8ECwfqCF0KWwvDC8MLPQvACsYJbQi5BmgFwgOiATr/Cf1V+9r5Ivhd9lb1n/Xb9bT10/V/9n73b/ij+Jv4tPjT+E34J/eb9Yb07fL889P1vfik/RYFYAvGEpwaliHeJfImYSWHItUc3xXODHUCbvmL8bXp/uMH4RHgVOFm5FrpQO9n9Xj7nf9DBCIJjApuCq8KTArkCRkJWQf1BgkIdQiLCGMJVgkvCWAIsgW/AisA/vug99rzYPEW8dTxkfM098H77QDDBQwJtgv1DKgMggvMCHoFiwK9/uz7LPpE+DD3mfYY9nf2mfYl9on1SvR38w/zh/E373vtluzU7kfzPPuiBEQMwxSPIPkqNTHqMUUvpypbI5YYUAr0+TbtT+JL2ebTidKl08HYrOA565b1n/5RBngMthG0FbQV/hJqEI8O2wz0CroIHAfOBmEH6wejBn8EyQED/sT5vfUj8Y7sm+l46XftlvK0+LAA4QgjEakXghr7GgwYrBLKDH8EOvyJ9aDuH+ue6ojqkuzt7w/z+/cP/LD+lwBJAFT/Tf6f+0H3WvLJ7Zvs6O94+HADiwsWFM8g/S2YNJYzpy2eJHIZgQwm+9HnEdrV0OnLhMyo0TTaQuU68wQDtA9rGOkdwR7LHXIcphZUDZgFWgB+/SD8Hfuc+rn7O/6XAHQAkv7X+zP49/T18t7wa++v8Oj1GP+TCCkQzhWfG2ggQSAAGq8Q5gVh/Izz5Onh4szfveBx5ZjrrPJx+v4AygZgC2UN8QxaCZ8DKv53+WXzHuzH5a7iruUM8hkA8gjuEcUesi7VN5s1Di7YIz0XHwvV+bLlwdil0AbN4888113hluy0+A4IxxR4G6MezhsqGJkWARHkBrD+nPp3+Ur6rfp0+4/9OADmAt0CXgDL/Tn6E/a883/z2vN49aL51f8vCQsT/xcPGSwarhlRFb8Lmf/g9Vfux+jW5OPh6eMW67rxtPjn/4cFPwrGDJ8MBQusBoUAmflJ8kzteui74r3gpudV+LwHphBQGYcoNTfVOh0znSggHA4OGP+s6cbXKs/cy7zM/tG13dvsPfp0CWIYtiBZJHwkYh4qGCISbgcv+5nzaPFG8ZzxfPIl9ib7XQGiBO0DIwLjAdr/1fxT+jf4y/cP/IoD2wl0D4wTlRa6FzEWrQ53BJn53fH46jLknuFp4sLmGPD++M8ABQi3DboRbxKFD9MJDgJl+TzyDush5Hfeadw+38PrBv+RDRUYNCPbM7E+yTxmMLQkqRTHBbfzg9zizeXIzskJzpHVZuRQ9ocFnxWWIVcmvSeQJRod2BRgCzr/t/OP7sTth+4e77/xoPdv/qIEYwbRBLADBwR7AXH9QfoJ+jr80f9mBNEK3hBQE24TtBLkD6sHvv1U80nsQugw5SvjEeZt7nT41wDxBtsM7hHRE6kRmAt4A877P/PE6pfjyt1J2mTcceV/+eAMwRiFIcsy7kAUQsQ0AycsFxEG8vQf3JHJnsPWxu3LXdLA4TD3vwizGc8mFyvMKz8qrSBOFOoIVPxa76noKOhw6W3rXu+Y9x4AMAhtC+AJSggVCXQGEQAq+135i/oW/ZIApgQqDL4RRBJDEMMOQAljAG/1/e2u6LLlBeXQ5azsU/ebAPEGQAypEb4UaxIvDGMDSvpR8pvpIuDm2Z7YtNtn6VYAtBKDHL4pUDzjRSdBDTKDIiwOw/345zfPnsA0v+XFd8zT1+3sVwIvFYYmhi87MOousygdG6MM5P4j8bLlduLK43vnmOuI87r9fwfDDtcPbg1+CzIKhATa/Lz2w/Rr+OT+YAKYBQkO8hSFFVUSnwyrBFX7tfLo6cPinuEC5GTovPBv+/0E0AvLEdsVZxWVEKAIX/1H8zXrkeEd2LnUjtc15eH9vhEqG94o+j6cSYVEFzQCJdMPk/3T5nzMIb0avKfDLcpt1tHt1gSxF7opRDN8Mw4xbCk9Gq8KkPym7ZHh497F4Zfmretx9Nr/bgo8Ep8SHQ+FDJUKrAOF+xP28vQf90T79P/MBWQO7xOVE0YRPQ71Bqr8JvIK6yLmGOS85AXowPC9+9EEogqWD9oTZBSwD1kHzfzt8mHqkeEx2WbV39h75zMAyBPpHWkrEkAFSepDNDLoIfILOvlC4h3J/LstuxPEc8yB2sHyeAl2HB0tTjXINJYw9iazFsoGePj+6d/eRd1D4VDne+0f96kC/gwSFPwT/g+wDOgJ3QLy+jz1f/Ne9Tn6Pv/ZBa8NbxIcEzwSpQ7OBrz8D/NW7Gbn4+Sv5OHorfHs+z8EzglJD6oTyBMID4UGR/w280zqVuA22FXVkNmm6hUDGRVrHqour0KCSQtCqC/SHuUIMvb33B7FM7pPu0XFf83+3VP3qg3/II0wqzaONWIwziTvE4UDi/RW5n7cH9zK4HfnNe46+SwF2w/KFY8UqhBlDSoJ3AAQ+HzyZPHK9dH8swGRB3IQMRaMFq8T0wx0Axz5JfCv5xLi4OCB4zrq4/PO/hsIjw6CFGQXCBVbDmoEvfgE72Tlktpm0oTSX92C9PsLHRitI3Y6wko8SkY6Vil2Fn8BU+tSzv+8jbdkv/zHm9H76IEDQBh8Kjs25jfzNMssbB1TC3z76uvA3ljZttwV44rpgfIrAEAMwRWCF0YURxCmDUAG1/sT89vvjPDT9ab82gF4CesTwBlbF5kTRAyCAsv3Tu5+5f3eOOCb4/jqUfWz/1YJchAGFtsYuhSsDIICvPYi7ELi79Yb0GnT/eT2/bcQGhrMK+FDDE05RvoyQSNtDmj6A97ExNu3yLgHwzvJMdlG9HINZiEaMhQ5ITmaM6EoIBZQBJXzouTw2O3Xed0Y5E/r4fcMBr0SfxnbGLEU7hFDDV4DRvfo71fuI/Hk9fz5KwBWDEEXrBhUFpoSqAzhAt33Uewp5PrgouGe5Jzrs/ZZAXAJchBQFmQXzhKzCjMAhfU963HfY9RP0KLYbe4WBTQRnRwnNVlIl0qdPS4tbB2/CKXxctNSvw+4T74TxAzM2uFA/l8UCigeNZE5tThBMnAjUBDS/hvu+N6h1kzYfd2b41nt5PvNCm4WfhopGZkWShS9DFEA+/SO72juPfHY9HT4KwCdDdUWnBfUFMkQKgwbAqn31Osh5Czi3OMU5xjtmPdzAb0JxBD/FLYU+Q/0B6P+9POy6Gnc39Jt06jjmPq1CdARHiYlP5RJv0O8MxYmwxRWANDi/MeIu3u7NMJ1xRXUZ+9rCY0eqC92N506GjiJLR0bbQii9jjm9Nin1bjY9t1x5cryrQJKEcAZQBvRGdcYUxTlCEj7CPLU7r/uLPH48z369wVXEbEU4RQLExUPFAdT/bXyXune5LnjEeYO68TznfwfBb0MIBNsFNoQVAr9AWL4q+174aXWNdMV3fXyHgaYDlAc7DZgRpRGxjguKhAbmQfH7kvQcL/yuVjBcsQkzYvlCwHeFqMqNDW0OZE5bDI+It0O0fwM7Obcc9X81qfbouEH7dX8NwyLF3gbxxr8GYIXZA53AT/2h/GW73zvAvAd9fT/jwvREN0RiRJ1EWcM/wKF+EPwouqR54rmL+kY8E34ov9EBvEMCRGVEAwMrwT0/NHzaOi73MHVQNoc7bwBUwtoFD8tjkGeRY47dy37IB8OIvgs2WzFBbw3wLDDAMgn3f74hQ99I7IxbDihOtM1ICiSFawDQPKz4RXX8NXV2WregOfa9tcG5xP8GekaxxofGpoSxwUp+XTyB/BZ8DXxovOf+4UJ2xJlE+oR6xByDX8EfvqU7uvnzOVW5tHnWe179p3/lQeZDfsRwxElDdkFCf298sXntNtn1HfbG/FuBBYL+BbIMSZExUXcOF4qSh1bCzPywdItwQ+7YcEXxMjKPONd/70VESn8NKE6CDuNM7UjZRAM/n3scdwn1MHVz9oN4DDrC/yoDBAYRxzFG0AbHBmfD1QBm/VK8SDwBO8v74X1igCtC7MQ1BHyETkREgs6Aan3a+826tzm+uaZ6jPymfmOAHcH0Q0jESIPHgkbAqD6iPAK5X3aDtae3sDz2wayDl4bJzU2RSJEuzfiKNgaDAav7cnPeMDoui3Bj8U8zjXoJgNRGPAqiTaYOhA54C/zHykNEPvC6Qvb+tTC14HdIuME753/8g6FGB0bShr+GKcVIwut/VDzZ+/37k7x4fRE+8kEAhBEFXEUxhLEDQQGavz+8rXpauQh5I7mB+1x9CP9lAWFDAMSjBPhDgEIOv+j9bzqDeDD1uDUKeEw+tsM3hNKI2k9F0mSRK8zUiO0Eov9beITxxO7OLnKw//I5tbA87MNbyEeMuM59zrZNFQoWBabA9DxCuJP1sbUc9sr4/rp9/eHCC0WDxw3G9gX7hQzDxkDWPZj76jvTvHb8t33CgJKC0QS3RStFJUQjgl4AJn2QO9g6GbkYeQU6mfye/lwAEMHQQ7/ES0QHAp1AvT53vCU5fnbetbX2tTuOgfKEkQbaTG4RQRHvjsNKVQZHwUB7qjRxL6QuN6+ushy0Lro+AQ0Gg0sZzj8OjE3IyxLHPUJ//c/5yLaedRt2Rvi9+jk8kkD5RGpGuUa9hdOFNsPMwYS+sTwuu6Y8Rn1Xfm4AdAL6hHUFM0TbhDZCA//cfTW7ULoD+RH5GPpqPIg/MwCiwgZD7AS3REwC9YB/vj172Dlmtu01VbXfujTA4IUWhtMLQ9FEUobQOAsxRsBCNrwQ9Xpv2G4ZbtByKLPyeRgAtcYgikXNwg7ZTcJLAYcewpU+eHoxdtz1dXZC+Tm6+PztgJKESwaRRokFmARrAw/BOj40+/C7LnvJfY5/YsCnAuVFsobQRcIEikKigBE9WDr++J+33fh2eXu7mf4aALeCncQUxQ8FS8PbQVi+zbwx+Xj293Tt9Mb5VABExOpGp0ryUUXTM1CSy57HJsJL/Jq1Qa+/rdNuqbHBtA75PcCvhq9KiI4qDtpN3YrVxo1CG33ueYA2qDUItqH5XXuLfZxBQkUNhwMG84V5A+RCucBS/YW7pbsqvB49Yn79QOCDqIWjBnnFngSTguKABb0aOu/5SziwOGK5uTv6vpNA44Jxg/vExYUeQ5uBHT7zPGF5qfbMtX3043e5/a5D5obHSd9PtBMFUf0Nn8i1w9R+A7focR+uYm3aMJzz37cwfiQEzElczOlOmk31i2nHsANyPxA7NregNhJ2uDjAe5i9dwAdA9EGJ0ZeRQdDwwJiwJE+Bjwgexr7yn2Zf8HB8ANeRSkGggb7hTWCg//rPUZ7IflCt/A3jbkzO7s+BQB7QmdEN8VPhYbEQEIL/4o9KPpq97S1X3R/NaZ7TYKmRnCIPw0H0xxTLs96SYiFbkABOn2yxm6wbcAvyvOFNg3770MECHqLrk4mDd9LxQhzRCXADXxOeIV2vvZtePl7u31fv0dDB8XORo5FFQNfwetAtH59PC17MLvnfaL/fQESw1nFbsZNhloFIgN3QJU9lbs+ubU4r3giuP360T4DgJtCA4OohONFV4SWgm5/mX2dOwO4izZbNTp1LPhxPwpFgAgNyruQORNc0WBMuQbwQkW9DbbCcJBuR26eciV1dniif62FxknEDMoN8QxzyZbF9EHNvld6rvfCtyF4LbrZ/WL+moEDhE0Fy8VlQ1/B4ICQf1+9GPvce7j88P6tgLMC7YUgxk7G/wZgxPDCF38Te/R59TiHN4z3ZXkHPAT/FMFgguQE4UYBRelETYHzfwL80PnH9yX1EnRZtWj6QUIkhtkI5oziEuMTuM/kylxFGEB9+g8zqS5F7i9veXOBNpo7okMRCHSLWU3OzZRLfEekw4k//jw6uIF3KncVuZE8if6yP/6DJ0WURh5EcYJeAOS/jT3eO867bzwr/mMAU4I3Q49F8MaQRriEw4LagEL9hXsruVx4lbguOQc7fv3GwKHCOUOiBNEFTQRnwnE/6X3Be4U5LnaBtYq1WfdN/VxEUMfcCbsORVNGEj9NsQfLA7a+Q7i8MafumW7W8Uu1Ubfi/eQE88jyC5sNYwxhSe5GMYJC/w97iziQ96e4TzsOvZ4+xIC3Q5EFQEUkwuPBdcA5/wZ9UPwHPDk9XT+XgYZDM4SjRjRGV0WrQ5TBb765O8S6G7k8OHu4hnpUPOW/iAH/gwZEs4VXxSgDusEUfst84XpL+AQ2CHVH9b334P53xU2Ihop4zz4TgBHnTR/HBUMU/cK32nESLpkvHbH5tbk4Gz6axUuJDouvDOkL70kHBYoCPH7W+5j45vgU+X+75L4NvxxAoYOCxMpEM4GMAJR/ib79PNT8Q/zbvnKAAUImRCSGIMZJxesFZsPMwNu9iPrDOY75FThdOAi6W72LgGyCIQNWBO2F2QU6Ay5AyP6t/A651nebNfg1ArWZ+MZAK0aQCQNLO5AGVBFRGgvDRfKBsfxDtkQwLa5nb6ky4raoufRAb4aFCf6LzczoCxyH4QQFQPu9yPr2uFU4R7pfvQ6/A//+wWvENsSNg25AyD/TfsV+C/yfvEM9YP8/QQYDVoSNhYtFsAWpRSqCiL+VPM57rDpj+Uk4mTlHu/n+ZkBFQZUDV4S/BOiEIUJ6wGG+nrxK+ld4erZttab11rgMPrkFashSyhmPNlPl0eJM9UcAg0c+avewcOtuei938bj1SXhqvmsFQckHS18M+AvrSNrFfAHvPxW75/jnuHj5/vxQ/lq/BsC7w22EbkMuQMEAAn9GvoJ9LDybvb4/EMEVwtgEc4VRxanFfgTEgtY/0D19O3k6cLmJuNG5Y/uZ/j+AL0GCAwvEt0U2hBTC0kDmvuZ88nq0OIs3D/YP9gF3Ojs1At5IK0mnTHnSAhNvDw4JqURjAGf6e3O77uGvBrCEdGk3QnuZAtHH0IoczAgMd8nJxrhC3gAxvW/6EXjTeZe73j4V/1Q/6UIpw93DTUF2/4T/NX5+fUT82H2JfztAyAKfxD+FZAWdBJlENENWwUl+dTuDOwE7NDoTeYh6nr0wf5UBKMGZwzHETARsAycBf7+D/kg8HXo/eEX3FjZOdkA4PT50RbvItYn5jobT/BI0jNQHHoLavna3pHDSrmavXbHqtaY4kb6ahZrJLosITO7LksiLRMIBs77ue9D5O7iz+mc9Cn8Wv7HAikNMhAYCvUAXfxB+ir44/M99D751wABCHsNLRM9F8YVdBKnDxkJqf188k3sxOqf6bnmBeg68Kf7CAMHBw4LWBDsEvsO3gdmAd36P/Mw6wvk0t6r2wDaQ9uU6HAGlh5wJigu0EOUTytBFyuTFD8EFe9P00C9JroKwTHNOdw56yYGEB6wJ0Uv4jGoKYAblgy5AEr3T+uw42PmWu+m+fn+TQB0Bm0OiQyIBHL8OvkV+Db2xPOy90j+iQaODA4R4hPfFdoTyRDACq8B5Pgb8ZntEusZ6RHp2u0i9d39xgNDB5YMUBAlEJ8MTQbI/w76xvIo62bkp97N21XbtNtZ53sEMx6mKDQviEK/T9JCjS1RFTgDq+3I08K8Ern2v1HM99zm63AGIB+zKOoufzEnKeEaggsY/wL2pevW5K/nR/Dy+joB+AF4BikNHwu6Akb6Bfcg9mL1EvQT+coA8gjLDkcTWxRhE9MPvA1kCLP/vPbh8Y7v5O817tfs+PCj+Oj+6wHABBsIHA0TDUQJDgWbAHz7lfbo77LozOKL35/dud2f4LLxbw8TJWstXzWmSHdLSTsUJD0LCPi44c/IMbj9uonDdNQf5b73wBOKJh4s3zBCLnIi+RJNA/L3hPCu6Cvmsuvg9aMADgWrBEQJIgzCBkb9Q/aq83X0ZPSq9mL+cAYsDrEUNBdXFykThgvyBUwBNvk68ITq0+w18YTw0PG89jr/fQZhBxEGKQqlCxUJZAXb/ob67ve68UnsXOio49PgLN/q34foPACdGVQofy6VPItMs0KoL74XegIV7yfXy78FuSnBHczF3q/t2wM3HoIpsSzELgUm1xgTCtH8KPSi7TnoaOvJ8939PQWlBdQFDwqzB8b+D/by8ZLy//Rq9oP8BQVLDYYULBe7Fn4UlQ2bBu4CPPub8jbtVO1Z8C/yUfKl9Hb8tQN+BUYFewfxCcYJKQcLAUr9PfrG9YTwI+tW5qTjP+Fa4GDiH+61CSkiUS3YL/ZBkkpDPFIm/wta+Pflyc+muwi9D8cr1wLqbfdWD9skUikdKlknuRtTDsIAavbQ8fLuvO2885D8tQbWCpIGkQSpBVoAR/bD7kft5fEf9+z7BwS9DOEUMRnrFioSgg4gByEBsPv59eTy7e9r8jr27vcd+IP53f3nAbICygBNAyMFgQayBSUB5f3a/Mb4sPKc65fmjuNF4EDdu9867YQKTCS6L44yWkSlTKs8BySgCA70zeEOzYm65L3EyqXc0+8Q/i0T8yXsJ0IlZCCiExkGIvvA8/7yW/Qv9UP8vwXRDUoOUQYZAG/+2PfN7XXoyunQ8Yn7WgPYCzAUdRpRG4EVfw2iB2n/hfh/8+H0bfeg9yL4LP24AVT/3/uv+aD6yPzk+1v6Kv7jBDoHNwYvA9cAjf7R9ivsZOX33zLblNlt3DLt/w49KS4zKjaVSHRNYzhvG44AC+3m3ArKmbu3xGnWCOkO+hUGHxcqJH8fCxm0EvsFa/th9kT15frv/3EC3QjVENsShQyf/nj1wfLG7Gnl5uUl7Vf6owbqDgMVsxlSGmIViwvFAZL7zvWy9KX3zfwAAAIB2wPGBtkCdPu29KXxNvPU9P/0dfprA+MK+w7TDBIIdwQa/cPxyee734baJ9rJ2xjheu5aDPYpijjjNog8HkTyMjoZ2v/h65zfPNejzADRHOEv7xL93gS/C0YU/g89CO0GRwE3+2X8fQBMB9AOjg+PDqcPEw3wBOf2pevK6TbqSeko7iP3jAFrDM4SHxTOEvcOVwg/AdD6Jvhn+FT8FASqCngMAQthB5YDHPzQ8TrqBegj617yGvqvAY8LaxLnE+IQHwg7/uj16utM5IrgBd/K4KPmgut78Lb9gBjrK2IwqCk3MJ4z7yIZD2L+OfFQ6nDjy9p+31Tq7e9g96P7HwJDB/cCfgKRB08FRANlB3oLPhBAEiUN7gieB/cCmPp78HDs++708I7y2vlAACwFkQqODKYKgghQBBUAsP5a/gwA2gHqBbILjg8pDfEG1f8O+lf0Mu1r6RbrPfG6+jUC2gemDYkPtAzJB2H/BfcW8cfrVulw6QTpq+ph7YnvwPCi/CYSsCGTJg0jQSwlMGIhwBBoBW/4Oe6451rgEuWw7GTuyvXY+t7/hwKf/t/+swTZAr0A1gdqDXcQdBJiD8wLawkmA3X6lfMl8DXxKvIw9FT8ZgFtAgQGIwi2BeoC7/94/v7+mQEYBOgGEgsLENAOUwjFAVf9/vWs70LueO8M8rn45/96BaMJRwrRB9YEnf+C+kD1VvIM8vryzPHW8HHxiPBj7OPqMvAjBZAWPSBAIeYomjCmJZkWWgxNAI/xOOnQ6ELr6vHr8N72LfzA/CX89/d/9mD6iPzn/NAFwQ+0Eu8T2hOCEckKlAL7+uf2BfS38272PfpH/1cCRgJDASUBQP6G+lv6YfyN/kcBggW3CmoQyhKwD44JKwO+/cf3k/HW8KbzYvUt+UP/MwMLBCsD+gDn/xL9J/qV+cT5s/mQ+WL42/U88vvuvOqu6Jzrqfr4DQMbnCCZIsgoeCGdE4UMZAUj+k7xfvR8+O/8dPsa+h37WvVr8kfwzfAm8jr2J/0zBnwP/xFgEdgOJgx4BlAB7P4N/dr8O/4FAhwE+gN9AOX9UfvO+DT3Ivjo+B/9BwEoBaUISgiLCAEIYAX4AZn/Vf6T/bb9sP5FAFD/Vf4M/vj8g/ya+/77jPxb/Z/+dv9U/1P96vpr+Jb1DPKW70ruke3G7wT1rAOPDpIV7hdbFx0YRA9xC3cKrAkHBIUAvQObA1EDQf3l+n70i+5079jxvPaG97b6r/9CBVoGtQZRBn4CpgEyAR8FxgbmBZwFtgWyBWMDmQHb/hP8MPoT/MH++P84AM3/0f+0/gP+7/wT/5X/tQAmA+0DcQU5ApUBZgHE/wj+YfxB/RD+e//A/xQBVP+x/an9zfwL/Ib6r/lh+Ur68fhE+NH2I/SG9Iz2Tv1XAs0HXQrqC1oMaAjXCX4LVAqeB7IFJgYBBQ4FvQNZAZb77vfg+Fj5dPvU+vL6yvsQ/sj/hAFdAf7+xv7b/sUBvwKYAnUCFAGEAc0B1AKyAuQAdACVAeEChQNAA+cBIgCJ/jv+qf05/Sn8qvyW/jH/8QCFAM3/5ACFAG4B7/9aAM3/uQDGABwB4AB2/8r+6P5a/kD+N/6i/AH9R/yF++v5//cw98H1E/Z7+Qz+BADrAUADaAKjBggJngpqCgsHrAYmBmoHcgegBQsBhf7O/tL+WgC9/uv8hftD/Mr+GQDA//v9Rv1X/fz/1wB0AGX/2P0g/0UAKAKHAi4BZgFTAoEDRwQHBDACgQDa/8T/bv98/r79M/7+/hEAeADI/8j/HgCbAIUA4v/K/mf+tP4g/wv/a/4v/lH+Pv+Q/1j/Z/55/e/8g/zT+x/60/gv+B/3b/jo+z7/QACrASMCaAIpB2cJ7wqsCe0GnwayBb0G8gXKA27/gf4p/9H/YwAi/in8Hfvv/D7/FQBU/9j93f3s/lQBFAHa/zf+mP2I/88ATwLRAQsBjAHQAg8E8QO6AuQADAAZAFYAt/9r/kb9j/2d//T/gQC7/43+RQCwAAsBkgDO/hn+Bv/a/6L/t/9R/m/+iP/A/7P/eP49/YP8nfwG/LH6Q/le+Gj3DPh5+v/9g//kAJQC/QEiBocI9QkHCtsGZwZCBYEG7gUyBNcAyv6Q/6L/BwEg/1f96Pvi/BP/+P/a/yr+Jv43/ooA0wCq/6f+U/0L/zwAvAHJAQsBbgFGAoED0wPhAmEBUQAVAEAABAA6/+z+7P7X/jwAIgDN/3AAu//I/83/S//f/hP/mv65/vH+jf5L/1D/UP/5/sr+RP4I/ur9ovzb+2T6/PlD+Tf4Xvh8+HL8VP/kAEADEgKiBKIHownNCjkIPAbEBIsF6gX0BB8CIP/f/nL/8QBjAGf+jPyd/IX+EQBwALn+Ff6T/Xv/wgD4/yT/bP1E/s3/DwHrARQBFAGvAcMCygMrA7wBhQDR/xEAIgBaAFj/JP9u/w//4AAvACYAHgDS/j7/HP/5/qz+hf7l/TP+3/4p/3L/Lf/B/o3+tP5A/u79t/yf+7r6FvrJ+Tf4QPiw+Jr7Nv+9AIcCmAI/BHsHgQlHClcINwYSBVsF4QXJBDUCu//k/sT/1wBaAM7+I/0w/dL+HgBRAPH+//0I/kP/eADa/9v+tv0Q/qr/xgBzAQcB5AC4AYsCfQP/AqIBuQARAGMA7QBRAI4AFQA2/4oAIgBWAIUAS//f/nj+Xv4m/p/+oP2p/RD+Gf5D/1j/Av+j/o3+Hf4q/rH9UPxR+3H6Cfro+PH4WviZ+Rb9C/9mAccCRAPDBSMIjgm5CckHIgZxBaAFRgXPA4gBiP+Q/wQAdADe/2L+x/0m/n//HgCm/73+SP6N/rP/2v8t/2f+3f3B/rP/tQD6AOQAQwEBAiYDOAPUAv0BKQEpAdcAuQDTAEUAf/+M/xP/S//N/xz/yv4i/tj9A/6S/m/+Hf4M/sP9Bv92/3v/Mf+N/lr+Vf47/jT9Kfzu+mT6yfmd+fn4+fix+iP9GQCIATgD9QP3BTAIBAkiCdsGHgYjBXEFEgUrA5UB0f9FAIEAygDr/6f+SP6s/vj/4v+i/4X+fP71/p3/u/+w/kD+9v31/sj/awCfAJ8AmQFKAjMDTQN6AgECpgGiAfgBbgEiAJD/lv71/kv/o/4m/l/9cf3U/Y3+O/77/d396v0k/2H/Yf8k/87+5P4P/7D+mP3i/Cn8rPtN+5j6t/n++Ev5j/qv/Db/jgAFAmsDCQXxBoQHDgjGBhUG7gWLBU8FBwThAskBTAGVAUcBwgD0/z7/Lf9p/3b/D/+F/nT+uf7O/gL/p/4z/jf+fP4k/4j//P+XAP4A4wHzAiUEjgPCA5IDZALuAp4BdAB//xD+2P3D/Ur9+Pz0/Jn8fv0m/ur9Hf5i/ib+0v5p/7n+/v6f/p/+p/4d/rH9yPx7/Kf7gfsq+4b65frh+uz7A/4vAHsB9wLKA8QEWgbxBj8H9wUJBToETARMBGMDrQIpAT8BRwF/AVABFQCm/xj/0f8AAKr/Q//O/in/iP/e/3b/Lf/b/pX/HgCfACUBJQHwAXoC/wLmAqECMAI/AUMB6/8Y/4X+mP3U/V/9NP1o/ZP9Gf6j/hz/5P4c/1D/2/5d/+j+Tf6J/hX+DP4d/ov9aP0N/ar8UPw6/NP7b/uJ+zP7+ft+/df+VgA/AfABDAOiBIIFQAbQBSgFZAUOBVsFzQTCA6ECCgIfAq8BkQFWANH/Zf97/wAAnf97/xj/Yf+q/yIAhQAVAAQALwBwAP4AXQEhAV0BZgEWAmAC8AGRAcYAkgAAALv/zv7d/aD9LP1b/Tn9LP38/E79oP3h/f/91P3q/dj9QP4I/tT9gv1b/YL9Rv0s/a/8kPyZ/K/8Yfwx/Kb8oP2i/9cAngE5AggDbgS6BbAGKwZgBRsFBQUfBcAElgMfAowBfwG8AXMBkgDV/zb/xP8rABkAqv9Q/83/ZwAYARgBwgAiAHgA5ADTABgBuQCBANMAKQElATIBtQBwABEAbv9Q/6z+EP6C/WT91fwJ/VP9Cf1x/Ur9aP2c/an9y/3Q/br9nP3h/fL9//3u/YL9U/2Y/aT9ZP0n/Xb8yPzH/VT/OADkAF0B6wG9AwkFtgVxBQEF5wRtBYcFLAUtBKECtgKCAocC1gEHAWsA+P/CAHQAcADN/+L/cAB9ACkBfQBWAPj/PABeANH/xP9d/2X/s/8iAOv/1f/R//j/6//E/5n/2/6n/lr+Wv7h/XX9fv0n/UH9H/05/QH9Df05/SP9Sv1b/Xn9oP2p/eH9Tf7l/er95f2T/TP+xv5U/y8AtQCzAb8CcAPtA1kEQwQpBIQEJQTkA6gDDANnA60CiwJ1AsUBxQGEAW4B5ADPAMYAmwDXAJ8A8QCFAGMA5ABRADMA1f+M/5D/cv/E/9H/f//E//z/+P/0/83/jP8c//X+5P5r/jP+7v3U/bH9pP2c/UH9Qf0w/Tn9LP3e/An9Gv1X/WT9nP0D/v/9QP5i/jv+L/5V/uj+Q//a//UAOgHaAaUCawObA8YD5APbA5YDdAOSA60CmAKPAlcCKALnAecBLgFUASkBHAHCAGMA3AC1AA8B+gApAbkA0wAyAbUAxgAVAC8APAAiAGcAMwDa/+L/BADE/53/C/+5/mv+CP7//bH9cf1f/b79mP2x/Yv9ef2C/Vf9ef1G/Ur9cf2k/dj9+/0z/nj+n/54/qP+sP7k/iT/dv+I/6r/YwAlAYQBfwEBAsABDgLQAtkCIgNGAq0CKwMRA4oD7gK6AmgCiwLQAoIC3gFDAXMBLgE/AWYBAgGfAKMAnwCjAC8Azf/a/zr/r/+v/5D/pv9U/8T/mf+Z/4P/Lf8T/87+yv6a/lr+Jv4i/hD++/3q/d39qf2k/a39i/2g/XH9uv3U/Qj+RP4q/on+rP60/uT+wf7x/gL/Q//i/8j/DABAAKMAWQFHAaYBzQGIAdoBggKcAjUCdQJTAjkCcQJxAm0C2gHeARYCxQHJAX8BRwFhASUBUAFmAS4B9QALAfEAzwCOAFoAXgDI/8j/6/+i/5D/iP+D/13/Pv9d/5D/Mf9d/z7/Bv/f/m/+Wv77/aD9qf2Y/XX9Rv1X/UH9i/3Y/Sb+fP5e/rn++f7s/kv/D/9U/1T/Ov92/0f/Zf9//9X/QABNAGMAZwD6AEwBagGzAdYBPQLeAXECQgJ6AjUCMAJcAs0BjAGrAcUBagF/AaIBwAFDASkBZgFQAfUAygAyAcIARQDA//T/OACv/2MAyP8IAHv/pv8vAB4Au/8vAIz/Bv9H/1j/yP8p//7+Yv6L/fz8Rv2k/b79Qf30/DT9IQFcAvcCxwIT/4j8tvoB/WX8LP2S/mz9rf1q/M77s/xf/a//VAGeAUwBIQFdAWoB8wK9A5sDBANTAjwDYwPHArYC1gFgAgoCzALDAvUAWgBmAakCcAPaAUwBkQGMAQ4CIwISAj8BPwEyAcYAgQBJAHAAjgD4/3//kv5r/vX+dv+m/7n+dP7l/aT91P2g/fL9ef3v/Jn8ZfzA/N780fzU/YX+Mf+5/o3+rP4c/3//SQAT/wP+Cf1K/Xn9Qf1T/Y/99v2p/Xn9Yv5Y/5D/f/9NACUBjAF3Ad4B5gKYAkYCsgJjA7ADOQJgAoUDggWgBVAEFQMWApkB5wHqAr8C9QBp/4P/cABAAK//gQAHAeQARQBAAO0AHAFMAW4BQwFaAEf/dv9nAJ8AIgAG/87+uf7d/Ur90fyq/NH87/y6/QP+b/5A/nj+0v5r/vn+IP9//0UAEQCV/9j9bvzO+xP8Gv3V/DT9aP2C/S/+8v25/j7/nwD6ACUBQAAmAPoA4wELAVoAYwAlAVkBewGjAD0CkgNRBtoHogc8Bv8CxQHMAm4EVARdAR4Aqv/I/yn/af8c/yn/R/+z/8oAlQEuARwBXQG8AZ4BPwGZAYsCzQG3/zv+0P2G/VP9gv1G/YP8JfyM/Gz9p/5//2cA1wCBAJ8AsAAlASIAlv5B/ev8yPw+/HT70PoD+4H7Cf0v/sf9Uf4Y/9X/CwGsACUBVAHoANX/6//oAIQB2gGD/xX+RP4x/0AAjP9l/x4AOQIZBkwH/wX0AdwAigM/B3oIKAW4Ac3/1f88ABgBZwC+/eL8n/5DAc0BFAFhAUICHgOtAjACVAEuAdEBAQKjAMf9NvyQ/Lb9EP4j/Z38qf2q/2cA6/8AAGMAigDTAHAAlf9D/9r/nwBU/xD+7/wW/Zn8w/pT+sP69Px7/3QABv8n/Yv9Xf8VAFEA9f4T/8j/cABdAXgAWP9V/mz9dP7f/mH/7/8fAh4D9QA6/ysAigNTBRQEkQTEBNoEDwSOAysDmQF7//T/wwK/AiUB4v9U/+//uQAUAd4BAQKXAFT/TQDFAVwCEgJtAgQD2gG7/03+O/54/kD+p/7s/tj9WPz0/FD/eADxAAcBdwEhAZL+x/10/vj/hQBl/5P9vfsB+nn6p/vq/Rj/C/+I/y/+vPw9/cb+SQDcAJkBKQHn/7T+S/8iAOf/Kv4l/An9mv7D/Wj9MP0N/RUAhQOWBq0I9QbbA4UDXQSvBDAFFgIg/3n9+fta+/v6fv1eA7AGIgafA5YDGAT3AtMDlQSrBFkBa/5b/QP+JP8g//z/sACoAFoAnwC8AeAAKwDV/9X/zv6I/Of83/6v/yr+L/7KAOoC6AAS/cf6rPsq/sYAmQHA/wL8k/qi/DH/5/8eAAcBUAFnAEj+Ev2S/m7/V/3N/NX81fy9+wj7Ev3CA0QGdwQpAU3+hv0q/jb/2QIIBu0DsP4C+cf3xvsfAjcJngqmBwEC3v/k/mgCrAOBA48CnwBNAO/8bPoS/TwAuQM2BEkGgQPa/yL+r/+/AikE6wRtAgv/6Pun+5j9CAApBCIGzwNU/+764fri/Jn/TQCz/2n/3/5d/z7/WgD+AGYBPwG9ALkAmf+a/rT7y/ql+kf88v2a/s7+R/yi/N7/sgLeAbD+nP1B/Wf+Xv7s/pn/g/8C/1H+Q/84AD8BwwJdAY3+PPvO+xD+DABjA70DQgLxAIgBVARoCEkJbQIn/Q/5vPzE/9v+b/sd+/T/YQStCKAIJQd+BZ8DTAQ5AkwBsP6k/er9y/2G/fT8kP8UAawD9QORAa//GP86AUoCYQGs/mj9+Py+/Xv/WP92/2/+r//cAHQAZf/S/nAA+P+N/lD8M/uO+9X8f/+OAGYBcABH/1ABswEm/gL8J/37/S4B6gK8AQQAcvwP/DT9qv8UAQ4C2v9H/HT7WvtD/xgBRgLPAGsAdAPkAykELgEL/5r+5/+eAZ4B0wA3/hUAfwFgArP/2v9u/0f/JgM6BGEHGQavBGACmf8M/sD8LgE4A9MD6ADu/cv9/vuv/4oAQgK9AG7/Yf+3/6kCIgNDBFQBsP7D/UD+awDA/9j90fyv/GT9CP6B/uX9vv1+/Uf/ZgG1ABz/Kv5u/w8B+gDe/zP+9v0D/i3/1wBDASEBkP+8/IP51fl2/FT/VwLnAX0Ao/7y/bT+zwC8AT0CUARGBTMDHgD1/gwArADr/1X+p/u3/Er9i/0UAXoC4APzAo4AiP/KAMcC1AULBxQEegK6AmcDagFrAJr+xPy+/d7/JQH0/+X9oP0T/43+t/9wA+oFWwW1A8wC2gEAAPj80fx1/TD9f/yd/GH8Yfy6/foA+wK8AZb+NP1FAAEC0wBL/6L/+gBMAV4ALf9B/XL8S/ya/lT/9v2L/af+awCS/hP8wPxL/68BZgFaABUAS//i/wAA+f4+//T/aALrAaf+bvzi/J3/HAF1AloDZwPqAhQBawDA/zMAKQG4Af4AiAGQ/w//wP+tAt0F5gWlAsH+1/7N/9oB8wJmAc0BfgIcASEBf/8MAMkBPQKBAIb9zfxD/Mj8Kv6BAPoA0f+3/87+vQC2AnECmQECAcT///0c/H76qfoY/E79jf6a/nz+2v+oAHcBDwHFAZgC5AAC/xb9BvzK+5b79Pxu/3AAdv/H/Wz9lv4cAWgCxwKBAFv9g/zl/dr/XAL7AmMDkgOwABD+J/q2+hwB2QVqB34FGAF1/Zz9mwD1A2cGKQQSAjUCwAFl/0H9WP86BIsFfwGM/Of8kgC6AikEHATmAsj/if6g/XT+0v7o/toB0AKv/xP82/s6/10BXQH6AIoAnwAp/9L+n/6x/R/9I/3y/Yj8ifst/Hj+uQBrAM3/4v8rADwAygD6APz/2P3K+3/8qv8UAdwAf//s+7T7Ff4CAe0DewQbAjf+N/tb+lP9rAC8ARQB3gELBIUDhwK1ADYBTQOOA4sC5P4T/G78WgDwBCYG8ASCAkP/uv1b/cr+0QGHBdcGeAYiA8v9L/tL/Cn/XQH9AZIADADI/5X/GQDe/2n/Ov/AAbICogH8/0T+tP5e/i3/awCrAS4Baf++/UH9HPyP+hX7zfwM/sD/hQBQAcD/zv5N/u//aAL7Ao8CIgB8/l77ZflU+ez7zv5WALv/Fv0g/DT9S/+lAskEEQY3BpEENgGW+972+PZq/N0CxgbdBdcApP2g/RED+gYHB3ADkP+m/xYCqANkAgcB5AAhBOYFhQMPAan95/xV/l4AZgGjAN7/owBgAgoCwP/+/isAoQKjAwsBKf/H/Vf9M/4q/qT9aP1G/R/9L/7K/mH/7QBTAvUD+wLa/8P94f0p/8b+r/xI+1D8nP3D/Sz97v2C/W/+WP9aAL0Aaf8J/an92/6v/1YABADS/oH+nP2d/CT/dwHoAwkFLwO3/8P9p/48AIICBwTCA44DPwGrAVAEIgNRAGL+s/+/BawGAQXMAin/Yfwn/bUAvwJ3BHEC4QLKA6IBQ/+T/Z/+eABhAbkAuf7r/AX9RP7e/wQAf/+7/+f/qv+k/bP8e/ys/ikBQgLMAsIAO/5q/Pn70fwd/uf/sABNAGf+U/qw+Ln4xvsv/rAAjgCq/1D/CP67/4j/Wv6t/TP+3ABgApkBn/6x/fz8Hf63/5IAiASIBzAI5wSvAQoC1AIzA3UCVwJoAvQBEgLDArIC7QCrAZYDHAQBAp/+fv2n/t7/GAGCAm0CrwHxAPj/xv5v/jH/MgE8AywCWP+v/HT7wftT/df+2v+BADr/CP6v/JL7cvxT/bH9mv4zAB8CBwThAlkBE/+2/ZL76vqv+Rz5n/jJ+Ub93v+IAWsAGQAeAET+6/z8/PT/ugKjA5wC9wICBEkDJQEcAQ8ByQEMAyIDWwX6A6kCwwJ1An0DuQNCAnUCoQLTAEcBkQHgAH8B9QAmAAsBg/9B/UH9r/zY/cT/7QA9AuoC7gJXAlkBIgBu/0v/8f47/iz9Bvzo+w/8avym/Mj8SP7V/5sA6//+/oz/D/9r/h3+2P2p/Xb82/s0/b3+1fxO+nv5I/rN/LD+hQBQAYEAuQD/AoIF6AMIAKf+5ADWBGQFKQQ8A7wBUAEYARgBjgCHAnoF4wcPCtoEYf9L/LT7zv6mAe4CzQQbBTkFxgMVAK/8iftG/ZUByQQHBCMCt/90/h3+8v1R/msAiwJjA7gBGf48+zn6vvpU/CP9Ev3V/Ib9hv1+/cD8LfxG/Q//2v/n/wb/Ev1y/Pj5ZPoW+rb6a/67/1oAAv/y/e79dv8ZAEf/GQCjADoEQAY6BxwH/QRGBc0EWQSfA7YCJgO5A0QDowD+/qT9//1NAC4BrQJ9A0kDcgQiA3cBcAAZAGEBHwLaAZsALwCi/wAA/P9Q/9f+Hf7//Yn+6P5u/x4AJQGCAtACyQHN/xr9Z/tO+rz5+Pkj+tj6xvtT/fb9+f7E/14AQ/+J+0v5xvh195/4EvqJ/nMBBwH1AM0BUwKhAisD8QMyBJkBM/74//oA4AMzBogH5wruCJQFfgK7/8v9WPxy/Kf+tgILBLwEcgRoAvABGAHeAWgC6wGPAuECSgJAAH/8TfsF/d/+JQFGAvABQwHr/wL/8f4D/pb+FQDeAQ4ChQBV/h/9Q/zs+z78E/zX++T7a/vq+h/6e/nh+pn8Wv55/eL5Aff09kD4YvsF/UP/6gL6BusKYQ0zDA4IrwQ8AEf8LPrO+IX74AAjBbMKpQvNCt4HcgTCAH79a/vT+0P/5wEiA5YDjwKKAyYDBQI6ARkAUQCRARQBAv+L/cj8uf7tAKIBhwJNA3ADOAMuAZ/+bP2p/W7/3ACKAMT/Pv+s/oH+U/0T/HL8Df3D/Vf9Kvum+ZL4fPi3+U76qfpd+ZL4N/ig9yz37vfl+q//hQasDMQQhhEbDmgLAQUV/s35FvfJ+ar84v8HBNEHxwiJCWUHlQTnAcb+gf7I/53/EQB9APUAmAKzAdwAUAHPADoB9QAIADUCowBD/9f+RP6SADYBhQDJAbgBngGUAvABVAGsAC/+lv6s/gn9vPw2/Hn9Mf+s/tD9x/28/CX81Po2+UP5Xfmc+sT8ZfxX+hD4HPZ89fXyWPOf+LMBDw2sEnYWaxhVFYQNHgNr+NbzTfLW8zT6/gAPByYM0wzdC8kHuAEI/gv80/uZ/Fr+cAAzAwIEOANGAkMBSQAZAJD/JP/O/sr+R//e/9f+5/+bAJQCnwOOA4UDwwI2ASsA2/6N/tv+VP+BAD8B+P83/j78VftY/OL8gv18/pL+rP6t/Zb77/km+D/2sPWI9hj2EfVH8xjzbfQc9kj7TQkaF14hsyJKHVUVTgix+jfv0ery60zzVPxXBSwL0Q14DP4JhASd/4H7QPtH/KP+yP8PAaUC5AOFAzMDcwGjAAAA3/6s/vv9Tv2N/vv9n/5v/nb//QHxA5gF+wU5BegDyQGV/4v9e/yV/DT9A/5I/jv+//2c/d78Bf0s/Uj+Pv8+/x3+vPwB+qX3LPTT8vHyifLt8ojzovN59138Mg23HIomlCjpIH4XKQrH91zo+OFd4X3sV/fzAtoNMROYFNMSzQp+AhX7wPbW9m75YPpk/bUAtQOWBh4G+gOtAmYBr/9a/mL7NPpv+1P95/+MAd4BIQSgBQcHfQZ3BBYCNgHN/43+VPzU+t36Bvym/NH8zfzd/Uv/OAAzAKL/C/9I/t78PPun+J32SvTb8ibyGfJJ8qrzAfSt92MASxNBIw0s2CmfIe4X9QbB8kbi2dnd3OnmcfSbA+gP5xbRGcQWgg7gAy35KPTA87T1pffK+44A3QW8B+QGPwQOAu//sP6Y/cD8BvwL/Fv9af+RAXAGvQzbDLoLtgVWA5cAi/p/9lP32vn//Qb/9f7PAPj/n/5I/tj9Hf5Y/0v/GAHxAE3+SPui+YL3BvaJ8oTwNvCg8Tbw0O797VfxvwW0HuYu9zflL3Io0htCAovo4NTozAPV+uM2844GRBX5HisjBR3HDtwA8vS578Tw8vHY9IP87QOMCvILKAjzAuAArf0p/N36NvmC+nH9ov8YAZUBfQBKAowEgQkbDqoNrQtlB7UDRP7q99TxcfFR8qr2o/twALMEvAfnBzkIegXNAQL/nfzu+kb6BPiP92j3wPZY9vv05PLU8QLwlO4J7rns1/ItCr0kITb0PL8x6yuSGHL8AOAQzPbF89Ar4ED1pQvKGwolHCi4HvUPN/638JjrXe2o7zz12P29BnsNqg2cCO4CsP5A+7P5e/lu+QL8f/9CAj8EjgOrARwBLAK/AqwD0wN3BOEFGwvBDCwI9AF+9wT11/Ks7+vwkvU0/SIJmA5hEG8PXgn1Awv/6/YE8jzv/u9k9Az4m/gc+RD4J/d19IXvYeou557qlf+3H/c0UEJ5O3wzOiLGAwHi7ciAvSbGhtfA7eUIOB1mKu8uDyidFr8CGPAw6KbnFuvg73f5yQQSDksQjgx1BXAA/vtY+VT51fkC/DgAeAPZBWEE3AAk/2n/VgBzASMC/gMcB5sJvwiRBLD+/vhU9hP2zvVb94b67QBtCGgLqQvbCXsHDAZtAsD8a/iS9Un15/al9zf4zfk3+9T97v33+nv2HPMz78rsF+ge5tvvGQ//KeM8Lj/0M84tNBTW9mLYVMRIwCPOMt4L+XwPACAkK+wtiiPkEvz8pe5A6QzpAetU8Ij5pgRjDO8N/gmRBHAAk/09/Q391fzB/toBngSzBGoBmP2q/Eb9IP/CADUCyQQYB24HrwSZ/1P6Fvqg/QL/hAE2/5kBfQOOA6kCKQEG/zYBUwJPAkYCx/1V++H64Pju9w73wPaT+n796v34/OD4x/S/8Xvt0Ogz5lDnAv92Ip42sUTZNygxuiC/AhLiEchKvCrGSNjQ7iAKmRxFKSUwLip2GRwEQO+R53TmrujP7FH1KQFNDIQQSg4JCLIC9f7L/Zj9qvxB/Xb/xwI6BOcBZP37+rT7M/7cAE8C4wQPB7IIMgdRA3gA9Pwd++H6bPpD/EH9xP/qApwFqQV0BkwEKQSUArf/pvyg+gj4Ufi+93z4Afom+1D8mP2I/C/7ePje8znxf+1k62DrYe14BtUlyDfpQXYxqyoIGJb7Y924xvO+DMyX3bL0hg7FHqgp8C0eJnQV4ABd7cDnhOdD6vfuOfdCAngM5Q5EDJ8GQgIx/2/+eP4m/pb+awDHAlYDRQBD/Pj5tPsD/jYB0AKYBWUHRgjUBfoARPss9xL6Iv7RAUQDIgOsBogHdQXgAIP86vow/RX+VP9Q/wv/pv8MAN398fst+RP5efpi+975rffd9NbzNvPn8DXujuyf7HH6gBuoMpo/zjlRKn0jMgcU6kTMh77ywh/WWunPA7QYjybELvktmh4FC8P0NegY5+PnZupK8af7CQhND5wOHAqHBdoBJgBAAHz+3f1I/o4ASgLTAEv8lfkw+mz9hQC/ArgEhAciCTUIBwQM/gj4MPfd+lT8WgBGAvIFEguoCTYHHgPU/ef8Jfy++i38jvtH/Bz/6P6C/Xb8MPrQ+qf70fm0+Kr2FvQJ9KXxj+4z7GrqrfEGEHMtgDzsP38uwikDEpXzQdRRwDa+fc6m4WL7kBNCImws0S4cJboRE/xt64voPOkK60Dv8vcKAqoKqQv3CA4FGwLgAF4DgQOhAmYBNgGIAe//Ofpd9tv1lfmB/uoCawafCckKcgpaBooAAvkO9DD0hfuFADUFswf6CQ8NEQmoA3z+PvzD+jr8Tvqm/Kb8Ovx2/JD8fvqC+lD59/qz/MH7XfkS9wLzjPAm7LPnceVN7zMSoDKuQ0lEwjIaLFYPsu79zHm5nLk3zGTitQBvGBEmXy8yMMokjg/X+M/pTeld6sLs0fBJ+MoAjAe8B8cFjwIlASsDIwhwCc0HBQVTAloAmvvQ9AHx//HD91T/BAavCpENSw0sC8MFVf429izxovAb9Oz7TAR6CLIOUxF+EToNBwQI/vL65/Z193L2SfgZ+x/9Kv7PAOT+uf58/iL+NP1A++/2evRU8MrsWerw52fmZOh+/YYmtT56TGI/ljD9Ib79C954wB+2I7+01UDvpQ54HswoXi1iKhUbMgdd8wfttu4t8HXxI/S+9+f8dABUAbgBbgHxA8kKiBAtED0LDgW0/if6f/Nx7uPtHvLD+joEoAuPDosO8gu6COoCfPvd9BXyLfOC95L+sgIOCEYL2g3hDuMK+wUYAdT93fog+WX2Cfey9975bvy5/gwAkQF1AggDiAE7/oz5wfUI8vvususi6aHoL+ki7CP9IB+TO6VGskDRLjgg4QK/4unI5bycwpHVYe0pByAZKyBPJbgk6RqPC1D8RPVq9pD2KvWZ88Tz//RV+O76Yv6mAWMGAQ66FEoURg7QBcP9SvfU8Rjt1u1v8q36zwOzCqYNZQ2vCsQHrAMV/gv5S/Yp9hX4U/oa/QkFiQlHDa0OEw10DL8FKwDA/MT5M/Uf9G/yPfeZ+Yn71/6VAcABegIZANv+OvwB96rz4O+y64/oGOdU57Xv0QqrLRBC8EUdNrEmXhLO8mLYPsS+wkXOleTU+o4PjBZ5GqQdJhuFEn8Hkv6I/xkAQf3D98zxYe297IzwrPUw/agDOg3nFj0a2xV0DAoC6/n88/7v7u6L8Vj2tv1UBCMIeggUBx4GBAZyBIwBuf4C/ET7PPsg/0v/HAFZASIDUAe5Bq8HIgYWBaUCmf/G+6b5wPY69m/49/px/Uf/f/8uAREAw/0D++v2I/Tk72fs6Okb6EfnvO22CJMv2UDzRpEzHiZgEX/zY9rtyDXHl9EH51X7iQyYDrcQRBUjF4ESXgzqBVoJCQgEA535lu9H54/luOol83b8CwQfDukXrRovFQkLNgHQ+uv2w/SL9JL1V/dv+83/vAESAs0BHARuBwQJpgdDBKMAqvyM+W72JvVa9Q/5lgPaDS8StxNhDSYMaAUeAFj5m/UT8zz1d/Z3+QH6dfqc/doBNgS/BZYDNQJH/9T6DPXk78PrzOjW5yXnT+hM8/UPdDL3QPNAly+PIPIL//Fj3d/Pi9Ak2fDq7/nuAr8C6gULDXcTMxUnFDYTcRQ6EGsGo/im6pvgeOB75zfyn/slBD8NwxQpFmgRPwoUBFkB0f+5/pn8Tfh89cP0Lfap9135U/1WA9MJIA3GDDwJkQTR/6r82vnl9zT3jvjK+wL/CQWtCC8JUAqsCa0LPwczA6D94vx/+SD5P/YB9yP3HPn0/BQBVgNDBDIEUQNjAHz7lfYl8zDxWu+H7gHuq+2w7x37Og18IacwxDHfKrccTgsI+/3qmuEQ3rbiGOrK8tH2PfoW/XIEfAyIEywXExlfF8YSfAlx/brx/ukF6JzrW/FO90P8HAE9BUIIcAn1CWUKsguPC5IJzQQ7/gj4vPNr8n/z5PXi+aP+VgNnBjYHHgbWBPoDmwMIA5UBmf9f/dv7nPrJ+dX5Z/sV/tYBTARrBogHBg2YC2sJLwMm/mL7zfZK9wv85ACIAYQBxgAEAxj/EP5O/c3/6ABnADf+JfzE9hL0KPTg9XH3I/cb9wX3dfdd+bn+mwn+EpMaLh4jICoYcQ44AAT4tvHa7XftMO5B8RHy0PSS+CL+hQP+CaMPghTQFIsRWwsOBUj+E/nb9TD0nPSg9Ln1EvdH+dP7D/+FAygIzAtlDdsMJQqsBgoC2/6J+0r69fj1+BP5PvnV+ZP6avwY//ABmQRJBgcHnwZtBYUDTAHE/17+5f1G/fj8f/x//K/8fv2j/gwAdwGpAk0DwgP7AnECFAG5ALP/g//K/sb+Gf7y/er9M/7S/mX/awD6AK8BxQH0AWoBdwEHAe0AigA4APz/t/8c/y3/tP5//20CSguvCiMIlv6w+5r7g/9qAe//cf2a+4n7qvkq+Hj1WPmi/JEBiAFjAC38xPlo9LDyDvHh9Pn7UBNKHZAcexPaB2QIVgAbBeAAowMg/8T8H/c58ffo+OqR8KP79QObCf8LuQnoBjUFXQcFCJIJlgkJCLAD6/yQ9mPySvFh80D4qvzk/uz+JP/E/yEB7QM/B3sKaAsgCkcHHgP5/uj7qfqG+gP7DPul+nv5zvgp+VX7lv7wAQkF4AZZB30GaAUyBGMDzAKCAq8BKwCg/Xj7pvkY+bf5Yvto/fn+MwDkAEMBswGUApIDqwQBBasEYwO8ASYAif7H/Sz9Gv0N/fj89Pz4/Er9Gf4g/7UAvAHzAgwDRAOhAn4C4wGeAToBlwDR/5b+Iv4f/RL9Df2k/R3+zv5l//z/VgDtAGEB3gFXAo8CnAL0AVABowArAIz/Xf/f/qf+Iv4v/v/9QP50/iD/s/9AAOQAHAFMATIBYQFqAWYBRwEUAcYAPAC7/0f/7P69/sr+zv7o/vn+HP9d/6b/+P9rALUAGAElASkBIQH6AMoAnwCbACsAFQB//3b/VP9Q/0P/Mf9Q/13/ov+7/wQAGQBeAHgAowCjAKgAmwCoAI4AlwBeACsAIgA8AMj/mf9D/1T/UP92/5n/kP+7/9X/KwBNAFYASQBjAF4AfQCBAI4AfQBjADwAHgDv/5n/nf+M/6b/nf+i/5D/mf+Z/9r/5/8eACsAUQBeAH0AZwBwAGMAXgBWADwAMwD4/+L/t//E/6L/ov+d/7P/pv/E/9H/9P8EABkAIgAzADMATQA8AE0AQABJADgAHgAMABUA5//r/9r/2v/E/8D/xP+z/9r/yP/8/+//FQARAB4AGQAeACYALwAzADMAPAA8ACYAFQAVAAwAEQAAAOv/7//V/+L/zf/a/9H/3v/r//z/7/8EABEAFQARAB4AIgArACsAMwAiABkAGQAVAAQA+P/n/+//5//4/+L/4v/a/97/2v/r/+v/AAAEABEAFQARABkAGQAZAB4AHgAmABUADAAeAAgA/P8AAPz/FQD8//z/+P/0/+//9P/v//j/BAAEAAAA/P8AAAQACAAMABkAAAARAAwAEQAVABEAIgAMABUACAAIABkAAAD8/wQABAAAAPT/9P/0//T/+P/4//z/CAD8/wAACAD8/wAA/P/8/wAA+P/8//j/DAAIAPj/BAAAAAQACAAAAPj/6//r/+f/zf/E/7P/r/+i/6r/nf/A/9X/7//r/wgAMwAeABkAGQAZABkAGQAZABkAHgAeAB4AJgAeADMAWgBrAGcAawBjAF4AXgBwAI4AgQA8AB4AHgAMAO//BAAeABUAHgD0/9X/6//a/9X/4v/r/+v/4v/V/8D/u//V/9H/2v/e/+f/6//0/wQA/P8EAAwAEQARABUADAAeAAQAEQAVABEAFQARABUADAARABEAGQAZABEAGQAZAAgAFQAMAAgAGQAEAAgA/P8AAAgA/P/4//T/+P8AAO//9P/r/+v/6//0/+//6//r//j/7//e/+//+P/r//T/7//r/+//+P/r//T//P/4//z/+P8IAPz/AAAAAAQAAAD8/wQADAAAABUADAAEAAAACAAVABEAEQAIACIABAAMAAwAEQAMAAQAFQAAAAgABAAZAAgABAAAAAgA/P8EAPj/CAAAAAQAAAAIAPz/9P/4/wAA7//8//z/AAD8/wAA/P/8//z/BAD0/wAA+P/8/wQABAAIAAQAAAD4/wAA/P8RABEABAAVABUADAARAAgAAAD8/wQAFQARABEADAAZAAQACAAIAPj/BAAVAAgABAAIAPz/BAAIAAwA/P8EAAQAAAAIAPz/+P/8//z/CAD8/wAA/P8AAPz//P/8//z/AAAEAAgACAAEAAAABAAAAAAABAAIAAQABAAIAAgACAAMAAgADAAAAAQABAAEAPj/AAAIAAAAAAAMAAQAAAD8/wAA9P8IAAgAAAAMAAQACAAEAAAADAAIABUA/P8IAAwADAD8/wAACAAAAAQABAAAAAgA/P8VAAwACAAAAAwADAAIABUAAAAMAAQADAAAAAwACAAVAAgACAAMAAgACAAEAAQABAAEAAAADAAVAAQACAD8/wgABAAMAAQACAAMAAQAAAAEAAAACAAEAAAA/P8RAAQAAAAEAAQA/P8MAAQACAAAAPz/AAAEAPj/AAAEAPj//P/8//j/BAAEAAgAAAAAAAQAAAD8//j/EQAMAAAACAD4//T//P/8/wAAAAAAAAwACAAAAAQAAAD8/wwADAAAAAQA/P/8/wQACAAEAPz/CAAEAAwACAD8/wAACAAEAAgA/P8EABkAAAAAAPz/AAAIAAQABAAMAAQADAAMAAQACAAAAAwAGQAMABkACAAVAAwA/P8IAAQACAD8/wAAFQAMAAgAFQAMAAAAHgAVAAQABAAMAAwABAD8/xUADAARAAwABAAMAAgACAAIABUAAAAZAAgADAAEABUACAAAABkABAARABUAEQAEAAgABAARAAwA/P8EAAwACAAVAAgAFQARAAQADAAAAAQAEQAVAAgACAAIAAwABAAEAAwAEQARAB4ADAAVAAAAAAAMABUACAAMAAwADAAMAAQAFQAIABEAGQARABEAAAAZAAwAHgAVABUAEQAVAAwABAAMAAwAFQAZABEAFQARABkADAAEABUADAAZABUAEQARABUACAAVAAwAFQAVABEAFQARABEAEQAIAAgAEQAVAAwAHgAVAAwAFQARABEAGQAIAAwAFQARABEAEQAVABEAFQAZAAwAHgARABUADAAeAAwAGQAVABEAHgAVAAwAGQARABUAEQARABUADAAIABEACAARABUAEQARAAwACAAeABUAEQARABUAGQAZAAgAEQARAAwAFQAIABEAFQAMAB4ACAAZABUADAAeABUAEQAZABkACAAVAAwAHgAEABEAEQAVABkADAAeABEAFQARABkAGQAZABkAGQAZABkAGQARAAgAGQAMAB4AFQAZABkAGQAVAB4AEQARABEAFQAeABUAHgAVAB4ADAAVABkAGQAZABkAGQAZABkAGQAZABkAGQAZABkAGQAZABkAEQAVAAgAGQAMABkACAAZAAwAHgARABUAGQAIABEAGQAMABkAGQAZABkAGQAZABkAGQAZABkAFQAZABkAGQAZABkAGQAZABkAGQARAB4AEQAVAAwAHgAVAAwAFQAeAAwAGQARABUADAAVABUAEQAVAAQAHgAVABkADAAZABkAGQAMABkAGQAZABkAGQAZABkAGQAZABkAGQAVAAwAHgAVAB4AFQAeAAgAGQAZABkAFQAeABEAEQARAAwAFQARABEAFQAVABEAHgAVABkAGQAZABkAGQAZABkAGQAZABkAEQAVABkAGQAZABkAGQAZABkAGQAZABkAGQAZABkAGQAZABkAGQAZABkAGQAZAB4ADAAZABUAEQAeAAwAGQAZABEAFQAZABkAGQAZABkAGQAZABkAGQAZABkAGQAeABEAFQAZABkAEQAVAB4AGQAZABkACAAVABEAHgAVAAgAHgAZABkAFQAMAB4AEQAVAAgAEQAZABEAFQAMABUADAAVABEAGQAIAB4AEQAeABUAEQAZABUAEQAZABkAGQAZABkAGQAZABkAIgA4AC8AGQAmAC8AHgAeABkAEQAIABkAGQAZABkAGQAZAAwA/P8AAPj/+P/8//z/+P/0//z/CAAAAPz//P8AAAgA/P8EABEAEQAVABkABAAVABkAGQAZABkAGQAZABkAGQAZABkAGQAZABkAGQAZABkAGQAZAB4AGQAZABkAHgAeABkAHgAZAB4AHgAZABkAGQAZABkAGQAZABkAGQAZABEAFQAVABEAEQAeABEAGQAIAAgAFQAMABUACAAIAAQACAAEAPz/CAAEABUACAAIABEAEQAVAAAAAAAMAAgAEQAMABUADAAVABEAHgAIAB4AEQAVABEAGQAeAAwAGQAVABEAHgAZABkAGQAZABkAGQAZABkAGQAeACYALwArACIAOAA8AC8ARQA4AB4AGQAeABkAGQAZABkAHgAIABEA/P/0//j/9P/n/9X/3v/a/+f/3v/V/+L/5//a/97/5//r/+f/6//0//z//P8EAAwAFQAIABUAEQAZABkAFQAZABkAGQAZABkAGQAZABkAGQAZABkAHgAeABkAHgAeAB4AHgAmACsAIgAZAB4AHgAZABkAGQAZABkAGQAZABkACAAVAAAACAAEAAgACAAMAAgAAAAAAPz/BAAAAAgA/P/8//T/EQAMAAgA9P/0/wwAEQDi/+v/EQAMAPz/+P/8/wgAAAAVABEACAAVAPz/GQAMABEAFQARACIADAAIAB4AFQAZABkAGQAZABkAGQAZABkAGQARABEAHgARABEAGQAZABkAGQARABkAGQAIAAQAFQAEAAAAAAAIABEAAAAMAAgAGQAIAAgADAAEABEACAAMABUAFQAZAB4AEQAMABkAGQAZAB4AHgBAADgATQBNAKMAqAAhAaIBrQX4B58DZgGVAcUBa/5h/Gr8f/wx/Fj8Pvze/Pb9mf///TT9YwCZAev/FQDAAb0Ab/6KAHgDwP/y/SIApQLr/4/9tQAzAO0AnwDa/2X/S/8mAIQBmv5h/7wBTAG6/WoBMgEk/3UCmv4v/owELf+p/ZIDSgILATIH+gMN/fT/bQUW/UT4+gCpArz8dPij/jkC/gO3/E79AgRy/939wgMsAhX+3f2bA2oBZ/ug/U8COf0ZAIEAkP9o/aIBDwTa/Cr+rADr/w8B2QLb+17+XALi/978WP8sAlP90P2hAvoA3vyJ/j8BUAHS/i3/FQAUAbD+YwAc/+ECHPyv/x4DogHn+SsAPQWN/hb9JQFcAoL9HAG6Asf92gGV/6b/9P9MAdD9ov9xAkv/8v3Y/ccCo/4p/xwBDwGB/oQBu/+L/UMBqAAg/ykBvAFn+4QBJQR8/oj84APkAKz7qQJDBNf7aP0PBD7/nP0OAoL9r/9KAjwAbv9NAOf/lv5Y/1QEFf7X+6wDFAS6+o/9BQXXAN/7nwDNBIUASvrRAXQDEP67/3v/+gBO/eQAewEi/pn/+P/uAjgAC/yG/fcFPv9R+/8C2wOV/N39pgTE/5z9/gAeADwDcAB7AV35LgGcAsb++/2V/3//VgCz/2cAHgAp/8D/EgIk/zv+rAC5ACr+Pv/PAIj/EP7RAYgE3/sN/XsBDACQ/7P/JP+fAMH+QAB9A9/7gf6EAREDDPtWA/gBI/1aAJwCe/9G/TYE0v5NAHz+QwHS/s8AMf/S/vABk/0n/WgCjP/X/l/9XgOvAXz4PAMLAYP8ZAJeALf8xQHPAE0Aa/tRAy8ADACS/in/vAEbAh8CIP9JAPT/CADV/BEDlwCj+y8AEQMG/yL7tP6PBVD/GQDh/Sn/bgRN/rD+FASc/a36tgKlAvL9yP/E/8T/9P/1AGj9b/61A3oCH/ohAYP/LgFTAp8AifuzAQECi/1nAGYBkv4+/GYE0QF8/iL7rwGwAxz/AvzuAsYAn/guAe4FNv8q+9f+Hgbx/gb8lv4UBCr+tQCEAQj+sgLu/U0AogFv+1wCM/5u/ywCdf0c/5gCmP3JAST/IvvKBnX9+f5CAp4BDvpu/+4ITf57/Nf+1gH1AG78dAClArf/2v80/QIEiAGRAZ/7TAEWBQz7zflGAq8BnwCf+639iwJ3AeH9gQB4A/j8if7uAscCPPtGAk0AFgKO+yYADAN1/Q39cQJ9AN/7JP/4Ae//xgBo/dYB+gBv/g4ChftR/ggDaf/8/HgD0v6a/vUD+AGn/swCdwGj/vcCZgEq+58DGwW9/h/9qAOsA3L5wP8VA6T9Kf8p/2QCLgHr9nADugIZ++j+uATo/qX6lgPzAjACxPnH/QkFzQH8+Qz+qwRwA4n4+AFDBND9Ev2RBGH8vfvEBEQDMfzy/X8EVP/H/Z8A5APD/dL+uAG5/qAFFv2++mQI5AOC+pcArwF3AaD62v+oBtX8Ev3n/5EEogF4+1X7jASvAVr4Yf+oCTD9pfqVAQkIvfs6/H4FIQHV+UwEcQKZ/PEDwAT7/ar8VwKrAYP/Df2i/FwCggKp/d39tQPgANv7dwFQBxz5/PmOBhkD6v0C/DwDHgN5/RX+swELBL79hv2IAToB8fup/ZwC7gIv/oICTAES/Z4BLAVu+YL9lQRRAzL5uAF0Axz/n/63/1MCsABn+2EB9AEuAYX+TAGKAJEBLfzPAFMCdP5wAM0BfQA4AO//PABrAKwA5f3+/gwA2gHA/Ef/A/7e/9cApP0zAAgDVf71/nQDRAP2/c77CwH7AnL/df3XAGcDzfxy/y8DiP+D/JcA1wYx/9H8/wKvAWL+s/z9AWAFDf1U+bICbv8wAjD9TQCIAWsAIv6s/kYCH/1Q/H0DKQQ9/c7+cf2rBEYCC/w+/HAD/gB2/9f+OANGAuT+HAGwBugD6vqa/m0CyQGS/ov9LALu/X8BjPkcAZwCJgA99/n+jAS0/u/8NgH3AvoDw/0f/SsDXQQT/9j9ngEV/kf/PADPA94Blv5y/9/+XgO0/r37V/3TA+j+WPw/AeAA/v5x/R4DLALL/Xb8swRMAXX9qAC/Aj0CyP+g+vgB8AF3AYP/pgEC/17+2gHXAPoAx/3Q/cMC1/7h+msDxQELAYP8mwA1BUYCRPgP/ykHKv4O+vQB+gaZ/EP59wWbCQv8qvkJBSIAHgBWAOT7FAHtBqf+o/tUAbgEBwHd/VkBSgLB/s8A6Pv5/i0EzvszALkAxv6V/0H91gE5AisAmQGV+aMArwRv/q/5KAgBBer6tvrHAtsGlf+O+6wA+AHB/ov9mwDUAgb/XfkIBswCC/9R++T+3gRNAMf9CAAF/YICTwIYAfb9PADdAhQEwP8n/cwCDgX1AEv/Ov+vAWX/cvw6/xUDfvrn/KgDOgQB/V38yP9DBG/+TftaAzACR/w3/iEECQWY+iX8GwV0A4/69f6IB9L+eACm/BYCFATG/uH6YQfv/8r79v2eAeECkgBs+gcEvwIn/Xz+OgR7/7n7LP0pBCMCuvre/zMGJv7a+TIBzQT0/5j6hQCp/eMBdAN8+9oBYwMD/iIAzv54A2cANgFs/Rj8zQQ2BDD6Fv1rAysAsP5k/dsDXAIw973+9AcbAkkA+f7l/ccCo/69+OECjgYv+EH9fgJKAuT+sf2F/j0IhQMS/Vj5zwMmA4X+NPr+/kkGt/wM+B4D2waz+Qj+pv8yCur60PeeAckHHP+p95gCTAdI+1H7kQe1AyX8vQBEA8P95P6zAXsBp/50AJcASv0mAKwADf3d/ZEBPwGg/TD6WQEEA78Cyvsn+rgEuQN6AqP1vwLjCov94vkhAZ8DYPpo/VD/BQXi/Hj+ogGhAvz/9f6L/cMCcACz/Bz/9QNUAZD/Bv+fAGH8i/3dBVoAgQBkAgH9lv6YAn4F2Pqd+Y8IlwBb+tr8Af1HBJkE/PkF/YwEUQNa/rP8fgX0/+z4QgLUBaL/VvLbBiIG+P8w+iL7mQQsBbD7Lf+wBnX9sP6a/lkE2v/L99AFLwPy/Sn8SP7UAnb/agG1AAH9DACMAbAAifvKA/4AmwCV/L3+PwRaAMj8E/9RAKIBCwEW+v7+SgvCAM38XvvoBvwK6/k0+mACDwfo+6D6ngReA5D2TwIrAMf9VwWq/Fv6dADZCAz+J/og/6IE/v4Z+4QBvQMBCK/8BPLRAUoOYvUl/JkE5wTx+Dn90QFhB/4Aj/db/SwL+P9H+Wz9JQGiBK//sf2bAEIF/vh2/MwC6AM8+xP/ewGUAgn6EP6CAhsFR/zn+YQHhAFl/FP9mAJFAGX/4v/0ASn/LP2S/j8EeAO++voDKAKz/I3+Xgb+AJr7qQJ8/mj93ACP/WsA9P95/ej7PAbXA0P2lv4hBMoG6PuG+qYHLQRx+vX1pQXuCH79y/Sm/yMIgf7r/Or6ewdQB7n4jPz6BgwDUPzwBMP9fwGeB9v+sPhaACIJVP/4/GD6WQejA5/4tv31AzkFJfwt9vMCvwh5/Wj6MAJmASkBE//N+XMBPAwO92H5BAPHCK0CYPQ8+xMQTAGl9Lb9mwyYBevw1fwjCAoC7QZU9kPzuQkOC7z5b/VWBrcHFvpG/QQGUf6cBXv//Pk5AjAIGftl/Gf+TQbA/3vzSv3LDjIBFvE6/BYLqAbQ9PT5xgY5At39WPzWBwQD1fwZ+HADPAn1ANH5BvwSAtYEXgCZ/Kb5i/1dCmMAuvevAUoC+AS9/tX83QJMB9L++/cjAmAIpgHn9ugAcQuBAMf0jvijBvQNEvd8700ARBUwAhLovftbF7ILye2j9cMIURLU+uvwaP3GEkAGn+wV+xgNNwnN9vDwbQVBC1oD9PaP+oL9QggzBhX1xPkpClcC3vlH+QIKhApl+Vv0bQKwDLAGUPYm+4oDIwiCAn/5hQASBUP8YPd3B5IGmfzd/bD1lv4BCIoDo/V//DoN8v2I9nX3fwrOBsv0wPl8CYsIavwl8Kz+lgn8B9783fdo+p8GKQE9+qr5TApkBRb31/g9C1sLs/wZ7MkHRBLjAdHzQfQiCRIIA/ut+rkGWv7JAccCE/9H+RED1wkz+3QAAvYEAxYFNQLJ+Sf9YALFAYz/qvm2BbwETv0I+LAAqQXgA6b5kvtNA2QIoAUb91P0OgpWCcT82Pfn/6wGNgfY9Hf5bgfaB0H62PQqCVsFG/eM9soMxwX++JX57gJoC5L7DvRa/ioPuAHb9Qn9uQmT/Sb4lfwpBOoInAKd89b2hA3WChz2WvI/BxEMsfqQ/NX89AHy/foDMvkG/0wHLfym+f0E3QjO+Gf4sAbwBDwDvPmq/9H/LwBgBUoIKvWI7coDghobBWniZPcmD9sMj/QY8BwHWA2N/qXxSQB/CmcA5ffDBfv9IgZy/D/2TQZWBrP5NvksAmMJ/wI18d7wURK+EXr05/AlBHEFHP8x//z/BAD4/5cAOgSS/oL6mf+sA04IEQAT+d36swpuB9D3RvTdAhgKZgQn+nH64fon/RkMowC3/Cz9L/6cAqgDXv6d/EwEqwSJ/uv2ewFNA9AC+fuRAQQD+P+I+QQDHgkt/47yKv5XDt7/5Pjy90QMXAJT+uz+MwC9AOcEw/rs+4QKTAFh87T7fwrGDOPwzvUYCusEbP08+737aAiw/gL5BANtC6P4y/eXADcMswSt9DP78gVnA0QDdPho+gQGLA6z9gjvmQGcC9oE+/1d+eH3mQHXDL8Fnfwn9zoBnAK5BkP8oP1AAMj87QDZCGH5CfoL/zwDZgTqAlX4EvdNAE4R3v8H7Uf53xgWC5HtfewVCYgZ7QBW5rH6SxaLC3/td/OgCCoPzviO9T8EAgTd/YX1Q/x1Dp8JKe1u9gULSw1B9wT1TAEvD3AD3u3S/q0LwgZB9PL38QN1Diz9ge8IALMH9AGn+/L6AgTxBlT/ov+0+Ej+aw8MA8H1LP0mA4gEk/2x/d/+IwKq/yr+Df37AvQHkPxC7qIBMRkjBX3mNPTYEboRN/h07Br9IxpdBBHvmPEYCmgL0fwKAnz4+gA4A8ABAv9d+dkC3gFwA639+AEIAMH4E/+8CokGn/IV9RYLfw3G+6X3X/2iBysAb/syBAcEMvkG/GUH8ghk/Y7ykPzvCgYNqPWH8UMHxQHq/dwAoQKiARL3ifu2CK0Fdf3u/V744AC/C639sPtl/yL+rAC4BEP/U/pEBn0Ddf0Q+/wHEQas+yXzKQFtDoED0eqM/LoUTAQv78P3LROlBVPxr/aBDJwIjvu38M8AtxDwAWjxPf0IDA8BKfYa/WUKQwRB96r5AgF1C9D3JfkJCLAJvvpb9G4B1gpnAAT13gFaBskEw/dH9uUIW/1uB44Aa/5A/pkBawBr+Ej+GAoSCJv4OfTT+4QNMwPr8+j4Tg6SCQb5SvT1/m0FBAmW+838agRGBVH7ZPqi/CYGBAk+/IH7N/uoBs0BnP05+voDIgzs+3j4t/+tCwL8wfWFA5IJCwFq+Qb5JP+RCqT9dfRWANQLVAGj8hP5WQd0DIH+jvK0+8oPEQCV9hsFBQi6+kf5TATTBtr8b/v5/jr/1wPTADwAtPuj/vj/Z/7bA6wAGPzXA5X/wP8IAE0DFAQZ+LUDbQJ0/v7+4ABe/lD/A/7RBAsBSvp4AEQDrwE9/YEAmAIN/c8Di/oF/dYHBAad88T5LwbbCa36o/UAAAULGwL7+vXyeweSBmH5DP5bC8382/XxADAIxwJO/cD85/+mB8D5SQDN/44J2PoJ+pEK5ACP+g/8Ogo5As35p/thBK0FrP7H92786AYgCpX5PPLPA2gIMPrh/fQENgeY9B/9dAO3/9YEiP8N/e/8zf/EB+QD2/Us+lcFwAc3+073+ga8AdHzEP5KC84GTfsC9p4BJgzgBoztcwGJCTgDdP7f/rT+SQBeA2D3ggKtC6b2Z/jABNAFW/0w9B8IPQjQ/Tz4Gf7XA1kBBwG6BRj53/sLBFYAwfubALkAdwTV/E3+vfsbBX//JQH1BmL7JvsY/+oCzwA0/QH99wIVCcb75ffUAqr/pvm8B7kGAfo2/JsAYQSZ/OMEngGjA0ICTfhK+lkEzgna+Tz74v8CBAgDrPuL9+cHHApT9Fr+cAZL/ED+BwE2BFT/dPjs/ioJ8gj07SP35A9UEDLzR/m9BrP/o/jY/akO/gay60T7Jg8JC33sU/S9DOsQt/nB8vj/JgOlBSD5N/7gBtoBg/n0/Pj/YAKLBbv/U/eZ/xUM+fuC+nX6NgqjCdnuo/tXDhYCxvUw/RsLAgSZ/7L01P3/CFkHbvYw+k8F7QYx/874jvsOC6P+6vemAa0LngEp8x34TQwwDu/zpu0zCeoRawBC64UAkw5HBEr00PSZB0kMmPqF8s8DPw0m+GT3MfxOC2IPV/eO8mMGKgmeAWXzd/kwC9AFswHJ8+L2qQUqCX73fPjzAsANqwG58mL7sAaoDGX83fG0/vES8QNO8fT5YAXGDPT8EvRl/GUKGwth+U34zfx7BHQJ3/7d9HADmALA/xL6hAEHCm4BV/S6+hgKNgot+Q73+fvYC6//dP7l/S3/5QjQ+nn6lAIfDlH+3vDI/LYF5Q7v/2Ht3gEMCU8F4va7/3AD5Abk/l3wygAOCzr/VvKfA10KmP1q+Rr6hgthAb73LwA/AcwI9wLl9NbzCAb8B0cBePvU+jwJnf9u/JUB/gCKAPcC8f7L/ej+3/4cB+r9w/oOBZYD0wBR8tACgQwL/0T7kvugCF4J8fI69jkFRw0UAbL3LPTwB2sG9v1l+XEC1P3cAJkH8fj4/EwETwIfAp3/ngG5+97/+wV4CYz2+fWjBrIORveO9eQA7Qz2/e/8FATy/eX3GAd7BNv74fS2/a8Eew2W/kfwjvtNBu4Ia/6I+WH5Vf5RBpsGswSm+ePzLwOwCeUL7vfZ7tQCvhEZAIH4Xv7v/1T/kQReCSn8UPZH/1YJiwXG9WH2wAd1CzH/+/Eg/HQMgQPD9wX32wMzBlT51/V1CMoJvv2Y91cC8wL/BRUAFvfCAIUGJgPQ/S354v9+CPb9yP8f/d4BogRQBJ32YvvWBCgIS/aS8rgBexC8/LXyUP+ZBIUD4wQLAXH90/uS/hgE0QRWA278VPx+ApL+QwE6AQX6Z/6LAi8GSPt1/XAA1AgLAW75igDNAXgAH/3GA0T+p/5O/Tn9agRAA1T///od/oQBMwmc/Rn1MAKPCO0AvfUv+08CLQrzAgL5mflyB7wHX/2l96f+7QZJCcn5+fhn++4IwgPb+Iz2wQmZBL793fTN/34ODgLA8Db/xwvhAhnyx/p3ClQEPPvy+uMBKAJD/3oIeP7s+Iz/BwdNAED+lv6J+2MAMAJMAQH9sfptAhwHygDe/KwAVgNMBEH6NP2jA3sH2PqQ+VD8XQcrBiX2UPYgB+APf//j8Jb16A/6DJP6LPTCAMYMfwFq8ED7PwfXBtYBovbX/iUHFAd8++X37QB7CnMBQ/k+/AL/1/7XAEMEyQFT/Ur6NQXWBC3/avmCApUB1/trA6ECLfyF9WT6PQ4wC1/9xOrT+3ELjwus+yP6HAG4AfgB1gHU/d/+7QCWA54BZf8PAeL/+/1v+5IDzQED/t39+gZA/pX/e/9i/vUDNgSt/aX6mQGVBMT/Jvjf+2sDoQJUAb37ZPoIA1YD3/6J/mQCif5DAfj/KwCa/sb+UQApAbD+YwO5/oL9dP7qBZ4E8fjY+i8D1gr3AlX+ufWJ/gcHowY5/Ub0Fv3eB2cGjPnO+2z9/wXgA2/7fv3dAo4DEP7e/+v/uAHs+xgBlQceA5L4tPirAc4G6gKP+oX4MAKrBC4BSPve+UoCmAVMBN362/i9AHUFOABL/+j+WgBMAXcErf3D/cT/BwGjAEcBigACAZP9kv7aAcUBOAB0/jz7WgCrBGcAr/ww/QsBqAPeAZP9cfoeAG0FVAFx/WcAOAOI/5D/ygBtArICOv9E/jkCJgDf+zz7ZwM9ApUB2/sv+8b+0wPrAcP6+f5UAf8Chf5//Nf+IwIyBJb+af/NATH/mP0M/hQEOQL0/zn9Vf6RBHgA+/2M/FQBiAGKAAL/mfwHATIB1f+3/EcBmALS/v7++P9WA8T/5/ya/s8ARgID/uX9hAFUAQv/r/8UAUwBXf/b/k0AugKXAKL/Kf9d/9cASQC9/vj/nwAlAaP+bv9HAWgCXf+J/rf/7QDcACIAXgALAREAyv4MABsCrwH4/2H/JQF/AZn/2vzu/bkAoQIvACn/ov9wAGcARQA+/7v/CwHTADgAVP8k/2/+dABDAfQBmQHx/sv9TQC/AkwBrP54/oEAAADd/br9HgCIAf4A1f+jABQBowCz/5IA6wHeAR4Ayv4t/y8AJgBD/83/FQDr/y3/DABwADgANv9R/jb/rAB//0j+lv5FAMYA4ABFADgACAAx/3b/1f/KAKgAg//k/uH9gv3D/RX+JP/n//X+U/2i/GT9fP71/qf+IP9y/9/+WP/PADkCnAIIA7ADMgTCAwwDtgJaA0cEqwSKAx8CRwFdAZwCCAPwAY4AAAC1AEMBzwBWAEUA4AD6ADMAGP9I/hP/UQCKABUAaf/K/r79Gv1K/d78Mfzq+sD5VPmD+c35zvjl90D4a/gI+Nr21vZh+WT9Av9f/Xn9uAFABqIH5AbJBy0KCw00DkQMUAqqCiwLcAmWBucEqANCAoUAxP+D/zr/dP6i/Oz7Mfyt/Zb+D/+M/y8AmwBmAXsBLAJ6ApgCegKzAdYBUAF0AFT/zv7s/kj+/PzB+6D6BfpQ+bD4Ufi39l71UPMz8kTyRPIb8U7uNu0m7+PzYPrqAjcJ2wwfDrcQIBP/FGIY7hpFGoMWoBHQC9cGkgNkAi3/S/zO+Hr0gvGV8PXySvT89s35vfva/Df+fQCKA/4GqAluCtYKvQyPC1sI5wRoBToH7gVxAiz9oPr/+sH7Vftq+af4jPn8+TP74fpx+hn78ftf/eT7t/k59471bvYl9qX0pfFW75Xtiuk/6rnvjvugCFcRXhUZEtsSaha0G24fUR75Gy0WwBCBCWMAt/nJ9l32ufVr8uvtTelF6f3tavNv+P/6ef0k/w4CxwW/CIQNMxWuGbsW9A0SCAIHuQbGBqUFagTK/kr3TvEq8t72s/ll+TP4Evpn+5r7n/sv/mgCZAU6BEkAPPvs+Pn4rPhT98nzZPGC7urr/+iN5NrhXeRl8C0EmRacIHMbIhWkFx4jLStUKF4huxkOFJML+P+o8oLrAeum7XjsT+jm4tzga+Yl8LP56v3E/+YFcQgmDEoUohALFqkUsRRvEtEKHgbv/43+igAbAgL/3fdh8P7vH/Qt/K8B2QIyAS3/lQFwA78FoAURBpIGqwTGAHn6kPbA9kn4bvlX947yiO3X6Wrqf+pU6gXr++hC5cbjZ+/EB4Ig0S5bLHwkayGDJYcoaSXKHusWcQ6hAozzCONa2tfajeEi5l7mGORr42Pp7/Oi/6kILRC9Fa4ZMxvLGrkYdhasFQsTqg0YBJj6ifI57s/sM+zH65jrq+169Bz83ACtAoIIaxVpHxcfvRX+DDALugszCQIBNPee8CvsjumA5/rmfekt7SryKPSJ8i3wE/C58tr2mfac8eTpj+v2/UEa4jRZOast4hxVGDEc/BxkGmQRDAlo/Z7wQ+Fv1ePSjtqX5gLw0/K17zrwhPaiBIwQIxqSHlgf1x7DGv4Vsg5hCp8G7gJH/ITzZuq94zzjM+YZ7CnwQfQs93z76wH3CxkYvh2ZH2Ie3h9AHhwWtgtMAbD7VPb67wHoAeLX4GfjH+h67jbz4vZg+ur9ogE9AuQACP4P+Zb1b/JU8CnqKOgj8XcNCS+dOiUt9xEjCx8RsBvVHC0T9whE+xXye+Sr2wfY7d2l6L/0Ufsc+fX1LfY5AvIOfxxbIFUeRxl3E0QPUwjgA87+bvy+99vyI+sk5SHkvOeE8Jj3Bv93AUwEBAk8DzoWJBknGssXDxZUFtAUnQ2wANT0N+9k7tbtxOrK5srmPeuc8WD3A/sd/qwAowOHBYoDa/48+CDzn+8c7YznJeH24FHyDxnTO9dBWSpHEGENlhVYH4wcORGZBKr2PevS27fT39JM28rpy/ed/xb95/ns+wUICRewJMUn1SJsGjkRxgkUAYH72/Xx8sbv1Ote5kLiWuNF6Wj0Pv8RCegMIg9dEFoSXhVLFvEYlhvHFwYNeP4t/L3+tv2W9V3qzOjt6RHvHPDq8WD3y/3KA6IEkQSmAU0AQ//r/138JvVo60XjEeAz3a/bEt+E8/khqEo2UXo00RMPENUWwCKDH9gRogGH6/vcx8u1yB3MYNYO6DL50wYHB2oEvAQ2EBAh4C/dMe8opxsiDDb/TPNm7RHpKeeY5Y7jEuI54iLmRu7I/LILsBhoHYod1BrQF/wW4hOZEP4JoQIT/zn6Q/aP8QjvP/NO9E34ifj0+cT8Ff6UArADRAZtBRYCvf5O+uX3ePW380fwnOvP5q/kZOK/32ncXN/G9RAqpVvaY5pCsxnnDZMOyhg6FkIIsvds4NLSj8IwwmzIftPd63QDWhhAG/kV3RH1FdckbTHvMYIm1RPS/jbt9uB63CXbCN0u4YvlXerq7sTz6/w5C9Qa9ibcKcImlx2iE60L4AML/0T4bfEy6hvo2euU7rf2VgB1C0oO0AvECioJdwopB8YDiP/q+vz2AvA67TPshO388Jz0zfYw9FPuOOl95ormsOMO5cT2eCfKXJlpbUnyFzMD4wGJCWQOiwJ79rHdrc6ZxLPEqNFW2j/zPAxfI1UqMyHHF3cTFxzzJUommRxHCgn0e+HQ1hPWT9mP3yHnC/BH+XAA3gRECfESQR3YJnooMSJqFsYGHPzx8pbvau3g6Qro/uag7jz4WQFqDZ8YHiPHIKAX/gzTAw//7vdQ85jukerr5wrl3ucH7aLzi/rV/5QC5P7A9k7ulOht5V/jKerDArs0rFxLWlkz7Qmx/ej7NwYpB4P/R/P33B3SpMhp0Kfb8eajAGwXiSoqKmYelRO2DpIV3BrKGF0QQ/9169DczNaL2RffDuhn8kb9XQcmDMEMpQ6pFOEa3h+9HhYXxgki+wnx5Ole6VTqAeuZ7XLwKfnQBTkU0R9rITseGBYbDr0G6v299Q/ti+hm56bnc+rb7PfxE/n4/5QFwgYCBMD8ZfOP6zzmRuKi3v3hzvLoG2BMdmArR/kb1AXy/XgA3gSjABD4+uOb16LP89CL3A/k2vk9EU4m2y1EJK0XaAtHCjwMMAswCDP+JfAl5EzejeG55hHv0/vEB5wRIhWJEqINmAsjC0AMOQtRBhj/VvWJ7zjsLO7o8nn3Ff4ZA9oKGRLdFHUXiBbOFVQNGwIq+MrvSu6B7MPuQPKv9in8Kv5qAdACHAFi/qX6b/i29FfubudD4XDgT+KZ5HrrRQCYMeVhEmq9R6cYzv7K7Bbrzeqo6bzn2dxW2m3ZyeS38Ab5+Q8QJ8Y4cjezJdcP5PvK8i/vfu6l8ajvlepn6dvsMPQ3+/gEuQ+7GTYffBvREAEFC/xn9aD05PWl91v3qPVU9rb3kPyjAMQEcgrRENUTvQ97CgkIqAYWApL7VPa29NH2Jfkx/Az+2v9DAVQBrQJQAWH8UPYJ8SDw/u8Z70Ptfuu46n/qe+pm6qXurwHEMYFiymusR3kU+PO83nbcV9+E5EPqyeda6ZXqE/Pv+bz8gg64JPc0UTOIH1oGqO/X4xviM+a38Gr2tvdb+vb9/QGKAy0HYQ2GFHgYHxQvCab8b/IU7a3u6/Ni+3gAGAGYAjgDxgOCArICZwZbC0cN1wzJB58DZP1O9zz1vPYz/l0BZwPMAi4BawCC/Q39pvzy+i35OfRt8cbvEe+g7ijuqe5O7uTs7ewf7kv2qRG1RMplx1uhLmsDpucO2Unaud3451fuIPBh83H3zv7R/IwByhLjJFMuKSVDEI74mee54DLh0eo59639IwI3BiIJvAfeBAUFegizDXEOFQk4AHH3UPBT7inzfvojAkAGfggqCWEHkgOS/lT8LfyP/REG1BF+FJIMhv339HLzR/kT//ABrAN1Avj/3vwf+sv3gvS59S35dPs9+h31Hu9a7FrsD+3x7AvtWe098cwCIy8fW7xg9j6cEarzrt8I2mbbCuIR7Hrxf/Z8+6IBJgAT/M4GrBioJkIlARdGAqPvr+QD4VbmFfK0+2ACiQlODgsNIAfrAeMBGQZACbwH6gLI/AL2oPFD8zz4uf6VBKUIiwuCC+oICAPU/Xz7jPwVAJwCTQPCABkAxP/KAH4CRwSPBcQEXgN4AKr8n/jL9OfzPfSb9Qb2tPXx9Zb1y/Si82TxR+3C6RvowuzV+b0Y2UbDXoxRmShoAmHndtkH2NLbYedE8qr5Tf5KApgC5Pvy/ecKcxvVIr4dMA6a+3Lt4OOp4kPq6PXe/wgJchAWEYYLEQOT/Uj+HwJdBC0E6wEV/tv4avZg95P6BAA9BfoJWgwHCo4DlvvA9l71e/x3B2oQow91CIoAqfrV+b76M/5UAQIE1wO8Af/9Ufim86PyGfXo+LH6sfqJ+ET1BfH47Sjrn+kc6h7sI/FQ/7ojYE9dXcBIeCGf/vDkY9e/0znZw+V18br67QMLCvcF5f0RALoLNhnyHZYYpgqS+6btAuSB40zqU/T5/k4LjxR0FSIPqwT2/WX8J/2W/hkAqAC5/s77dfps+gv8Yf+OA6kIsgsPCiUE9PxT9zb2yvvWAV0KtA+TDrMHzf9X+kv5pfri/N7/QgJoAkf/kPlN9cHym/II9VT5Pvxl/L34mfMZ76/qwOcc5zPpI/GtAvUqqlRBXohF1RzR+dLhUtQn0eDXu+Uj9Hv/6AksDqwGNP3U/aMJWBYzG50Wfwow/SbvbeVA46noXvJN/i0NjxfxGGQRrQVx/Xf5tPj8+Rb9LwDtAOf/9f5x/Xb8gv2wAAwG0wmjCTUF8f6q+U76EQAMBvUG1wPhAisDZAIiAHn9ef1h/+AA3gElAU791Pdb9Ib0LfYF9xL3Kvg++e73gvTX72Tr0OiH6PTqWPMqCWIzRFZxWL4+KRkI+MjfCtAozSHVAeWJ9XcEbBGmExwKaf90/ikH6A/0E+sQ8QmD/0zzuenm5Yvowu9Q/OoLbBegGjkUgQkIANf4fvQF9Lb3Qf02AcYDfwSLAuf/EP7k/jACMAVWBkkGvATCADz7qffh+u0AfgUOCPgHfwcvBroCcv9H/Fv6W/qW+9r8avwB+sD22PSg9NP1x/ej+En4f/bt8j3uwukP583n2+8mBskwZVQmWR9DQx+a/u3juM80yDHNTd3N8LwEDBVYGUMQqAOv//EDVAqVDW4NDgs6BJP6yu/U6ODmUOoq9f0EQxNbGk0YiBBhB5z9DPWE8N3xoPfd/dMDkQd/B2YElwCB/s7+6/8HAWYBMgHA/2X8GPwpBFYJQghRBm0F8AcUBwsBzfy++mH5NvlG+lr7IPxB+s74tvqf+4z5J/eZ9iP3ovZU863uj+vZ6Mrmauqm9oMTuT6BVotSlDrBGGj6c96UypTErcvm3NPyZwm7GaEcZxLaB8ID/QTXBu0GcQh3ByYDsPtv8rbrCuhq6tD00wMjERMZLRlBFL8LxgAt9vfuV+588j75RwGZB+QJPQi4BIwBXf/D/UH97v1aAEkDvwL0/4L9WgBkBaYHEghjBtQFKAVtAp/+cfr09gv2J/eq+W78xPxD/D78xvuT+sf37vSJ8t7wDO/+7JjrB+oW6xzz0AtnNZ5R1lFfPkghwwWB6WDQb8OhxMvR0ed7ARYXqSBFGvkPuQkcB38E6AA6AeYCeAO9AMP6CfS87avq/+5X+uQGMBGnFRgWPhMwC8D/4fSl7vTtoPEp+doBEgh/CsEJWQcUBH//Yvtq+SP6f/wt/5QCmAW3CiYMfwcOBVcC6ABAAAz+pP2s/oz8SPvl+vn4Ovm5+Ln40/ss/T78j/qs+A/2GPPq7szr9enr57LoTe9GAo0nBEq6UjxH4y3TElD2qdmWxnjA0ceo2nX0Rw2JHtUf1BfvEAkLPAbi/1f9Pv+8AakC5/+2+rfz1u047LDyr/zKBo8O3hMFF18UJgwEAE31M+9h7YTw0PeZ/5gFowlBC3IKLwYrAPv6PPj1+CX8Lf8CAQoC6AP8BykK4AlxCNAFYAXoA88A3vw3+P/0SvQv9bL3mPoC/Ln+OgGIAbP/vvqw9Zjx8u6z7fXswOpr6dbqtfIbCLcrkkfwSxtAXCsmFbP5mNxOyHm/6cXT17fwPAn2Go0eLhtIGGsSCwoc/yP6VfuW/rAAqv+I/Cf3ePJu8AX0Bvkx/wgG4g1RFfQWthG8B9j9IPa88NDuDvFH9sD8DwQcCsEMzQqlBR4A8ftL+dj3hvdU+cb+QwoLE1ATPQ6wBt0CLgHD/Zz6Hfhk97P5XfzR/Br9nflg9wH69PzX/if9rfpq+Zv4wfXG8r/uHOpM52vmw+to+twaWTzcSg9IVTmuJXoLmOvi0Lq/x7xjyJXe5PhkEZYeTiBFIFobEBKVBIb6Yvg0+pz9AACjALH9Zfk99PvxrPIi9bH6BAP8DYMWQBgfFMEMowOi+QHxQOyO7J7wCPhHAUAJQw2bDP8IHATs/sD57fUZ9Yv3/vv+AIgKURXRFrcTbg2zBxkDr/m98rDvcO8v8q/2Fvpi/n8BRQClAt0COgHu/Yj5J/eS9TPyOe4/7RLr4+oy6n/trfq3FjI2hUQVRHM5ayrEE1H1CNowxe68UsJW1PHsIwX8FhUe+yPhI1QcAQ6OACz67vct+fv6Rv2i/Pf6Z/gt9kT1V/SS9Vr7ggWFDy8VBhZyE9YNGwUQ+wjyPOy46hbu9fU+/6MG1gozDE4L0QcwAt/7LPfb9Zz3GftUAesKVBNiFWsSCQ49CJsAHfgv8n/wwPA68/T2RPvI/0MBNgELAWoBKf9y/NX5wfhK9wn0svG171ntKerM6ArrN/jYFIEyZEDVQCQ6pS74GfX76t8ryFm9DMDtztrkAf0pEP8aACbzKG4iNhPwBKr8Z/iL9/f3MPqW+wX9OvxB+sv3H/QV8nj16v0LBwEOnxKJFWcVZRALB2H8yvJR7DrqMu2i8936+AFCCKwMew0PCu0DA/74+UT4hfiS+zgDwQzJEJ0Q1A51C/sF5f159/Tzn/Jq8yn2Rvru/bAA6/9jALkAD/9d/Gz6Qfqq+Sb4NvYd9YTzPfEO7gHrIeq28eAGuCTnNg07ajmEMzMnqg1b8XrWh8TPv33FCta46joB4A9YH3MqLipYH24QggXe/Pv3L/Vv9dD3p/t0/kT+Gv1u+Rv07vFR9RD7KQFqB/8OhRU3GCoVRw1EAwv5lfBb63/qIO1v8lP6xwI6Cn8NgQy2CGYECAD1+8D5YfySAPQE6wraDTwPMg3jB/QBsfro9ajyj/GO8iP3M/uj/vcCRAOoA/QBnf+z/AX6Pffb9R31+PN19MDzjvKi8Kbtv+5++kQSyidVMJsyyTMBMbEgkwhn78LX7Ml2xOPJstaW6U37EQx/Hwcq+CheHnkU9ApMASn52vPx8rn1Qfqp/Uv/Ov//+hP26vT19Rb3kPn0/yIJwxGqFnYW9RKbDDYE1Ppr8rnsrOkF683wLfnKACsGowmcC5MLrQiOAxj/o/4mAzUFQAZhB4EJSgtUB/AB+fu89qLzrfGV87D19/o9/ZQCqAZMB+cEgQDq/Wj69Pb68mTxCfEM8pP0BPVi9RL0V/S0+1cOHyDHJnoobSvYLO4jexA2/Grn2tjWz5DNldID3sbsYvuSD0geyyMMIYMcnBe6DlAErfoM9U70JfYi+MT5Jfwg/EH62vnA+Sb41vbB+Oj+6gXQCzcPhhG9EsAQdQtJA3T7EvSt7rXs3u388Bn14fp/AZEH7wrJCuQJuQn0CiIJtgWBAzgDqwQCBMABKf8x/Mv6kvjd91j25/Z59+76f/+zAQwDSQNrA4sC0f9R+/j2+PMi8jnx9PBk8eXx9/Es9J38eAw2HMgiLSVBKbcrVSQWFC8Dw/H64yTZKNPi09XZG+V38OsBiBA2GUgblRw+HEsWbg1HBOX9//pY+Qz4tvez+f/6cfpb+k76Kvjg9fn1Yfks/T8BPQVhCtcP7BKSEuoOXQp3BGj9t/ag8Ubum+xb7sryn/jd/W0CtQbvCrIOtxAfDm8MbQuECq8HugJ2/+z7Nvlb92T0avNa8v/0WPap+iL+WgBJA+MErAZyBDoBcf13+S32Y/J78E7uoO7u7ofxs/nZCFcXsR3KIc4nPitLJccXKQom+xLuKOKL2eLWNdlw4Ebo7/Y/BJUNKRNIGJYb0hhrEpgLvwUFAv/90Pr++HX6xvvG+xj8jPzL+k343vZ194b3Jvgw+pb+jAS5CUcNVg8OEdUQSw38B+cB9ft89fzwre5t7mvvm/KY9x3+mQTdC9cPWxEmEsoSRxBlCg8ECABA+933zfOj8mPyj/R39lX4+fti/n0AXQH7AscCzwDK/gX9b/uf+Dr2fvQO9MnzwfJx9BD7OgcPEHEUaRnCIIUkPSAQGG8PPwQl+SXtbuTF3tncXd624ozti/dwAFsIThHlF7QYqhYLE00PiAr+A6z+w/rN+cr4m/jJ+WL7E/wL/G781fyJ++f5GPkF+sb7aP2m/8MCHAeiCokMSw3bDCgLfwf7Amv+kPmb9QLzTfIg81b11/gj/SwCQwd+CygO6g4wDnQMTQn0BJ3/wfsI+Mb1AfSi86X0hPZY+aP7Iv6i/9wAFAFRAMH+UPzr+bb3n/Wd8xnyTPP39+cBQwrKDxUVUh1SI0Ii0RymFn8NfQOG98Ls6eMc3mncmNwe45HqmfO3/EcH/BA2FngYjRiPF04UlQ3+BtMACf1Q+fT2Avbr9qz4i/rN/Nv+g/8g/0j+tv3v/Df7zfn4+c77DP44AAQDRAaJCYYLNwzHCwsKYQctBHAAf/zK+H/2xvUY9sf3H/ra/LkA7QPXBtYHZAgfCJYGdwQ6AZr+zvvn+YX4rffY90D4nfnU+vn7f/yq/MT8JfxE+5n5//fx9cH1N/jB/hgEhAfTDP8U6BsnHfUb2BoLFsEPvwV//M7yaupH5Bvfg9/X4HXlsuvq9NL+hQZ7DW4TWhgAGosXWxTgD1sLCQVy/5j6dfeO9fL0xvWl97P5rPvQ/QQALgGoAJ3/C/9I/t78Wvsd+8r7MP3S/vEAmwNABmgI6AkwC/sLngoBCMMFDwQHASP9Rvo6+Rn4ZPf49kn4Bfrx+4b9Ov8yATAC5gLqAgQDCgJ4APn+i/0T/M356vcO97f2P/Z89Xz1pvY++SL+YwOSBvEJXg/2FNEWRxYpFusTGBCqCkMERP4B9zfyyuym6vPoTelT6x7vi/SV+W/+wgPHCBMNQQ43D9gOKA6gC5gIfgV+AvT/0P2V/Ln7b/uB+0f8Rv0m/lr+M/5n/lr+oP17/L37b/sm+1771/ss/Yn+igBgArgEzgYMCUMKvAooCxsLrAkcB54EcQIP/xz89fhT97n10PTL9Hz1bfcL+ZL7A/5WAB8CMwMhBBgEUQORAZ3/hv0m+8H4JfZ19N7zsvQq+Lz8GQDoAxwKsxBGFLQVixc0F8cUYRDNCvQEvv2Y9yzxMu3X6RvonOjw6h7vovOw+IX+RwSWCWMMyw4CEC0QRg6TC3UI+AR/AWL+R/yP+qL5d/l5+iX8vv1Q/44A2gG/AosCxQG9AHv/j/3f+1v6d/no+Av5Afqn+7H9JgB4A0AGjwh7Cl4MIA2wDMwL+gk/BzoEygDU/U76hvc39fjzjPOi88f0ZfbK+ET7nP0AALwBFQOjA3gDrQJQAar/U/0D+4X43vaI9tf4IvvN/Of/fgUoCxsO/BAfFFoVhhQmEioPxArJBL3+9fhO9BHvaOvG6ejpPeuI7TnxP/YG/CEBUwXOCVANZw/KD28PBQ5tCwUI1gTnAdv++fsw+pD5jPne+br6S/xI/vj/JQEOArYCqQLnAQcB0f9I/nb8Gfsw+rf5g/kO+p/7Gf44AFcC+AQbCH8K1AuJDNcM9wtQCqsH1gQ/AdT9ZPqG91H1VPOS8rny3vOO9Yv3J/r8/K//qwEiA0cElQQtBOECXQFL/9r8YPqn+Mb4H/qx+g/8g/+iBPwHrwpbDnkRZxJAEiMRTQ8wC2sGYQHv/Kn3XvLd7r3ssuuh69Psyu/N81r4qvxhAQQGxglaDCwOCA+TDtMMngpTCE8F3gEG//j8UfsB+oj5wPm++gb8df0L/5sAmQE1ApwCjwLRAbAAWP8I/qr8QPtX+kH6oPpA+4z8rP7kAPMCUwXjB9sJtwoOCyMLYQpXCLoFGQNJABr99PmP96P1RvSm8/TzFfWI9nj4x/pO/ZX/JQF+An0DvQMZA/gBuQDK/tH8Gftr+yD8C/zN/Ov/zwMIBpwIEQypDpYP1w+wD04OCQsgByYDWP9O+oX1DPKO79Ht+ux/7Y7vlvIC9tX5Z/62AiYGNwm6C1QNjA29DJgL8QlhB2YE6wHi/6n9AvwZ+9j6//qf+6L8Ff5Q/00ACwHNAf0BfwHcAPT/1/5o/SX8YvvY+qn68voG/I/9Ov8pAU0DqQWmByYJBwp/CjoKVgmEB0oFvwL0/xr9efom+EP2EfWl9O704PUj9w/5Kvtb/Tr/4AAOAroCugJTAlkBGQBV/pD8kvs2/IP8s/wQ/mEBVASBBpsJvQx5DiYPgQ8qDyANxgkEBlcCKv5D+Rn1FfKb7w7uq+267trwnfMF9xX7cv/7Ah4GGQkwCzMMEQxkCzYKPQjHBXADagF2/6D9t/xl/FT8r/x5/b3+4v/GAGoB6wH9AYgBxgDA/2/+yPxr+1v6nfld+aL5dfr1++r9FQBKAuMEQwcZCW4KNQtTC4wK/wj6Bm4EhAGa/sr7VPkW97D1+/QI9bD15/aj+L762vzf/psA+AG6AgQDqQLjAZsAIP9b/ej7W/qq+Yv67Psw/T7/xwIrBvsI8gulDuAP8Q9rDwEOTgtQB/MCyv6L+iD2o/JQ8OXube5R74vxdfSy9177VP8EA9AFEgi5CW4KDwoZCaYH0AWSA38B7/+w/rr9Pf2t/Wv+af+bANYB6gKKA8oDmwPqAqsBBAAm/kf8W/qw+K33LPeY91X45/n5+7n+LgHKA5IGrQhUCk4LjwvvCpsJswc5BX4Czf8S/aD6yvhb98D2nfZG90D4zfl4+zD92/4mAC4BiAGeAT8BigBy///9qvxa+z36t/l3+Xn6Zfy5/iEBBwSRB2UK2wzyDvUPmw9ODk0MgQmyBYQBW/17+RP2NvOP8d7wMPFA8ob0fveG+oL9fQAVAw4FSQYCB/UGLwb4BKgDYAIyASIAjP9y/97/cABmAY8CnwNmBAkFOQXABJ8DMAJnAF7+E/wS+mL4Evdl9nv2U/fX+Pv6Qf0AAJwCHwUcB/sIBwopCtsJ/wiEB34FWgMlAQv/Fv2a+3X69Pmq+QH6qfqW+4z8bP1r/g//dv+M/3b/E/9v/tD9Cf1q/L37SPsQ+yr7mvth/FP9UP8/AX0DtgUOCA8KWwuSDMoMUQznCvIIcAabA5IAi/2t+lH4XfZA9QT1SfU/9o/3d/lv+2z9Pv/TAOMBegL7AhkD8wKcAhsC4wHNAeMBQgK/Ak0D4AN3BPgECQXaBCEEIgO4ATwAdP6m/P/6cvmF+Aj4CPiW+IP57vqZ/F7+RQAsAugD2gTdBYEGtQZNBvsFhwWrBKgD7gIfAlkBfQDi/yT/eP6x/QH9mfzs+1r7DPvq+uX66vpa+/H7e/wn/f/9xv5H/7P/7//r/7f/JP+w/kT+8v3H/af+3v8UAeECMAUUB8MIXQpbCzkLZQrhCJIGygPCAIv9pfoi+Pn17vTh9Gv1iPZ8+Mf69Pwt/zoBjwJ0A9MDygNrA78C+AFdAQsB5AACAXcBXAIiA/oDrwQbBQkFjASKAwUCRQBV/l38pfog+Tf47vc3+AL5cfpU/CL+DACmASYDKQRTBa0FWwVKBbMEAgR4A1EDqQJ6AjAC5wG8AV0B3AARAAL/1P2d/I77pfrE+WH5UPnA+XX6n/v4/Dv+bv+KAF0BogHNAWYBwgDE/2/+Qf2z/Bz8C/wW/cr+mwDqAocFBQjBCfQKiwsbC4kJPwdqBF0BGf4v++D4U/dQ9kv2Tvfk+Jz6pvys/lEAQwHjARYCxQEpAXQA2v9u/0v/xP+bAJkB5gJMBIcFVgaSBk0GaAXgA94B2v/H/cH7H/oC+az44Pii+f/6qvxA/uL/KQESApQCqQJkAkIC5wFUAWoBdwG4ATUCGQPgA94EUwVPBQUF+gN1ArUA0v6m/K36/vgd+L73EPj1+IL6Lfzd/Z3/+gDNAT0CIwKVAb0Aaf87/hr95Psi++H6Vfsl/Gj9ov8bAjIEgQalCAcKagpdCokJ5wecBRUDuQB0/lT8vvoS+sn5xPlx+mL7VPwF/a39M/5N/iL+EP4M/i/+Z/4G/ysAVAGCAgsEaAVRBsYG1wZrBlMFzwMWAnAAuf4S/Qv8XvsZ+zz7yvuD/E79//2n/iT/S/9H/zH/IP8P/xz/nf8vAAIB1gHKA80E1AXGBs4GmwbZBckEXgPAAcT/EP6Q/ED7bPpB+mD6oPpV++z75/yx/UT+3/5U/0f/cv+Q/6//3v/i/wgAKwAmAAwA0f9p/7D+y/1T/eL8zfy6/Qv/qACCAnsEUQa3B6AIwwhTCOgG1gR+AkUA9v0p/PL6Qfow+nH6Vft2/Hn9Xv71/lD/Kf/X/qf+fP54/sr+e/+BAIgBxwIlBDkFxwXhBXoFfwQeA5UBEQCn/lv9Zfz++wL8Xfz8/MP9fP71/jr/Yf9D/xj/wf65/rn+9f6m/yUBIwKsAwEFxwVNBhkGCAYbBQcEaAKwAAL/Qf31+0j76vrL+jf7gfs2/NH8fv0i/qf+7P7S/gL/Av8c/1j/kP/I/9r/xP+Q/0f/p/77/Xn9Of3n/LH9Kf/TAPcCHwULB4sIIgkeCYcI8QbABEYC3v+T/af7i/oS+mz64fqn+6r8cf3U/UD+Yv5A/vb9y/3d/WL+Pv9aAOcBdAO4BMcFTQZEBrYFqwRAA6sBFQCB/mj9wPx2/KL8Fv2p/R3+b/6j/qf+Yv4q/vL94f3d/UD+/v4IAAsBLAJWA/gEjwXyBUkGWwWzBBUDHwIYAUkAQ//B/v/9V/2z/HL8R/wT/Ab88fsY/D78kPxK/Tf+Kf/0/88ALgFhAUMBJQHtACsAPv9I/n79WPzO+5/76Puz/DP+WgBcArMEZwYFCL8IiwjEB4kGswS2AtMAMf/u/QX9kPyM/NX89Pwa/U79Cf3E/F38HPwp/Gr87/z//WX/sAA1Ap8D1gR6BaUFYAWvBKMDYAJQAYEAt/8t//n+6P7o/s7+tP6J/ir+nP0n/cT8jPyV/PT8nP2W/qr/xgC4AY8CFQPCA1QERwSvBEcEGASfAwwDqQIbApkBqADe/2L+Pf31+x37cfqT+pj6M/sT/M385f3f/sT/gQDxAA8BBwG5AEkA4v+v/0f/+f60/v/9k/0F/d78xPx+/cb+igBxAl0EFQZhB9EHwAcUB7oFHARTApIAIP/L/fj8ovyi/NH8Df1k/Wj9NP3e/JX8Zfx7/M38oP25/gAAWQGHAsIDjATrBOcEiATKA78CvAH+ADwA0f9//27/af86/xj/vf5R/sf9Qf3e/K/8wPwB/Zj9Z/5Y/1EALgHeAXoCIgOSA8YDUAT+AykErANrA/cCggLwARQBTQDS/rb9WPx4+8v6w/rH+nz7Lfzv/N39mv5U/97/PABWAFEACADA/4j/Ov8g/+j+zv5N/ur9j/1K/WT9//2m/0cBhQOLBRwHFgjaBzYH3QVMBIsC+gDN/6P+2P00/QH9+Pwj/Sf9W/00/d78dvwP/Ab8VPwB/UT+yP9DAY8CuQNZBJ4EXQTxA0QDoQLaAVAB5ACBAEUAFQAEANX/dv/5/lr+qf30/Hb8R/x2/O/8pP2W/pD/ZwACAWoByQFTAuECJgMCBPoDcgRDBBwEzwMvA3oCPwFeAKP+hv0P/Dz7vvrd+kD7+fvI/Fv9Iv6J/t/+JP9H/0v/bv9h/z7/bv8x/zb/7P6j/v/9gv1G/Qn9w/0G/xgBYwPmBdoHMwk3CWAIygamBJgClwBh/0D+3f1s/XX9aP1T/Tn99PyZ/Bz8p/tI+0T7xvuI/CL+t/+IARUDYQT0BBsFmQTGA/8CQgKrAUwBQwEuATIBFAHGAEAAbv+f/rb96/w+/N/72/s6/Of8vv3S/s3/mwAYAXcBwAEBAnECpQJAA4UDzwPoA+ADrAM4A5wC0QHgANH/kv55/YP85PuJ+7n78fuM/AH9pP37/Uj+if7G/gv/Pv9//7v/3v8AAOv/1f+D/wb/Xv6k/Sf9qvzn/KT9nf+IASkEeAYfCBEJQggpB/AE4QL6AJ3/Bv+0/g//E/9L//7+Yv6g/ab89ftA+/f67vqf+3L8qf06/8oAIwIeA8oD1wOOA+YCMAK8AW4BkQHWAUICegJkAtoBIQEVAMr+tv3r/Hb8S/x2/An9oP1I/s7+Xf+i/xkAawDCADoBmQFTAsMCVgOjA70DxgOWAzgDqQL0ASUBLwAL//L9I/2Z/EP8Pvxu/K/8Bf0n/Wj9nP3U/Qz+Wv6f/vX+Kf82/zb/Bv+s/jv+uv1O/T39U/0v/tH/8AFMBL0GjwifCUkJAQj3BZsDZgHv//7+1/4C/y3/Ov/o/gP+7/zB+776Gvr0+WD6UfuM/O79e//oAAEC5gJrA5sDawMVA6kCcQJXAn4CsgL/AhEDvwL4AQsB2v9r/lP9e/wl/D78ovw5/cf9RP6J/rn+yv7X/vn+af9RACEBNQJ4A1QELAUSBf0EUASKA5QCyQEhAWsA1f8G/3j+0P0N/Yz8D/zk+8H78fsl/Mj8Tv0I/rn+Zf/V/xUAMwARANr/cv8L/8r+Wv7U/aD9cf2T/QP+IP8HAcMCFgWWBvQH/AccB7IFygMSApsA3v/E/97/GQD8/7P/0v6k/VD8Uful+pP66vrB+wH9CP46/y8A/gBuAcUB/QEbAiMCGwJPAoICxwIEAxkDIgPDAhICMgFRAD7/SP6k/Wj9df2p/fv9L/5e/kj+L/4Q/h3+Yv4c/+v/JQE9AjMD/gMYBBgEsANAA7oCdQL9AaYBQwGsAO///v4Z/lf9xPxQ/DH8Nvxq/NH8Fv2T/Qj+Uf6F/sH+wf7B/sH+mv6s/oX+Yv4i/tj99v32/az+1f/JAZYD6gV7B5gIbQg6B6UFkgO8AXQA4v/n/xkATQAIAIj/RP7R/FX7Svrv+fz54fr1+2T9lv6d/2MA9QAuAUcBlQHaAUICfgLuAkQDjgOoA44DPAOlAsAB0wDe//X+M/7Y/bb9y/3u/fv9CP7h/a39X/1f/YL9//3o/kAARwHMAo4DRwRZBM8DWgOUAkIC+AESAjkCMALJAfoAAACN/kr9Nvyj+3T7ufs+/Nr8gv3Q/Sb+EP4v/hD+DP4m/kD+if6f/t/+sP6B/ib+5f3//Rn+s/82AYoD8gWvBxEJugirB78FeAOZATwA5//8/5cA5ACwAOv/gf6z/BX70flh+cn5qfot/KT9zv6z/yYAgQB0AJ8A+gA/AfABhwJEA8oDAgQcBMoDUQOLApUBvQD8/1D/zv6S/oH+fP5v/jP+5f15/QX9yPza/Cf9CP4k/00AewFtAh4DUQMeA9QCbQJCAnoC3QI4A2cDJgNtAkcB2v9N/hr9ZfwT/Ef8t/wf/XH9gv1+/UH9Gv0J/T39mP0M/pL+Av9H/0f/C/+F/vL9cf1b/Yv9p/6OALYCKAVMB6AI6gjWBx4GAgQbAsoAYwCoAEwBrwGVAdwAZf9K/VX71flD+Yj5pfoC/KD9vf5p/5D/f/9d/1T/t/9rAHcBaAJeAxQEWQRZBM8DOAN6AsUBKQGbAEAA6//I/4P/S//f/lH+uv0f/bf8dvyZ/Pz8rf18/kf/gQB/AfABBAPqAnQDRAMeAyIDMwMiA/MCsgLeASUB4v+a/sf9/PyZ/JX84vzi/D39Fv0W/RL93vzn/B/9i/3H/UD+Yv6a/nj+Ff6x/Wj9Qf2p/YH+QABoAp4E+gY5CAgJHwisBskE6gLAASEBZgHWATkC+AH+AGn/Sv1a+8n5avmv+cf6D/xf/VH+mv6w/lX+Z/6J/i3/TQBUAaECYwMlBFkEIQS9AxEDpQL9AbgBUAEyAfoAsABAALf/E/87/pP95/yi/Hv8qvwa/aD9eP6V/1EAFAGvAdYBTwLaATkCXALqAkADrAOWAwgDFgLXAJn/kv7D/YL9tv3d/dT9w/05/ef8VPwl/Bj8f/zR/EH9i/2p/Wz9LP3N/K/8vPzv/Mv91/7tAB4DZAXwB/IIygmpCD8HQgVeA1MCpgFcAqECFQNTAgsBD/9u/HH60/jT+Ef52Pop/Gz9DP7Q/Zj9Cf1G/an92/50ANEBYwMCBJ4EXQT1A3AD+wLUApgCoQJtAlcC2gFDAYUAnf+5/sf9MP23/KL8lfze/IL9Kv6w/l3/ov8iAC8AdADcAFkBCgK2AooD1wPoA1oDegKeAZ8A/P9d/1j/HP8C/5b+N/6T/eL8cvw+/F38dvzv/DD9hv2c/Xn9Qf0f/dr8vPzR/AX9qf1e/s3/vAHPA7IFVAf4BwkI2wZxBRwEMwPdAgwDfQOjAwQDuAHN/8f9yvuL+jT6y/qn+538MP1s/TT9nfxY/H/8Qf1a/rP/MgEWAswC9wIEA90CugK2AtkCFQMvAy8D8wKHAtYBJQFWAJD/8f5e/u79tv26/TP+Tf69/vn+Av8x/9f+Lf9d/xkAsACZAVcCwwLUAj0CswEcAZIAMwA4AEkALwAZAIP/+f4I/mj9zfzI/LP8zfzv/Ov83vyI/CD80/us+7n7+fth/BL9Iv4MAEYChATkBh8IwwgJCJ8GMAXxA58DzwOVBP0EzQSFA24BC/+8/B37dfrd+qP7lfzv/NX8WPyJ+wz7Hfv++zD9sP4zAEwB6wE5AkICSgJ+AscCJgOfA/oDBwTbA2cDvwL9ASkBdADN/yD/vf5a/jf+Yv5N/mf+RP5R/lX+Tf6N/vX+s/9WABQBjAH0Ac0BiAE2ARgB+gDXAAcB+gDXAFoAr//+/mL+4f2L/ZP9gv2P/Ub9Df2Q/CX8mvtv+5L72/s2/JD8+PyC/c7+6ADhAnEFNgdCCAUI4AZtBTIE0wP+A8AEbQVPBToEGwLe/5P9Kfx4+9/7nfww/Vf9yPwT/CL7rfrQ+sr7J/2J/sj/nwAPASEBKQE2AbgBSgIMA6MDBwQcBMIDXgPDAh8ChAEYAagAQADE/3//f/9U/yT/2/6j/nj+Hf4m/kD+9f52/wQAfQC1AKMASQARABkAUQCBAM8AHAH6AI4A7/9Y/9/+lv5n/m/+dP4v/rb9Of1//Oz7fPtV+3z72/v5+yD8bvyc/Yj/iAEhBBkGfwdMB0QG8ATtA88DJQRgBSsGSQYOBdAClwBi/gn9kPw5/er9Wv4M/iP9Avy++iz6YPqF+9r8Kv4g/8D/6//V/97/SQD+AKIBmAJRA+QDCwTCA3AD4QJgAt4BhAFUAS4B5ACOAE0A3v9L/6z+a/4z/kD+Yv7B/hj/R/9D/3v/mf/E//j/PACfALAAxgCsALAAmwBwAEkAEQDV/3v/D//K/p/+dP4q/vL9pP1X/eL8dvxL/DH8Pvxl/KL80fwF/b79kP9QAVED8ATqBR4GUwVhBL0D9QNyBDkFqQWCBVQEXAJ0AOz+O/77/WL+tP7B/gj+2vzX+x37//pv+3v8gv1v/tv+7P7+/g//dv/8//oAyQGUAggDHgMiA+YCqQJtAlcCOQIFAsUBswGeAToB3ABaABEAbv8g/8r+2/7b/sH+wf7X/gv/7P4T/yT/af9u/3//s/8EAEAAPAAzACIA4v9//yn/Av8G/+z+n/5A/tT9Of2Z/EP8LfxL/GH8ZfxQ/Dr8V/1p/6YB/gOlBS8GfgUyBAgD/wLoA2gFhQb6BvcFwgM2AUv/gf7O/rf/YwBnAHL/nP3B+636k/pe+5X8rf10/nj+Gf6p/br9Yv5H/1oAZgGHAnQDtQOwA2MD7gI9AqIBagGiAbgBmQFDAZcApv/S/kT+a/7K/nv/yP/i/4z/6P5E/hD+dP4Y//j/jgDcAJcAMwDN/8j/KwCoACUBLgEcAZcA4v9Y/xP/JP8g/yD/7P6F/gz+rf11/X79pP3D/eX9+/0V/ib+QP5r/pr+xv4T/+v/+gD0AdkCcAOsA0QD4QK2AtACPAOFA4UDMwN6AmoBjgDv/7f/wP/E/6//UP+9/gP+i/11/bb9DP5a/p/+yv71/v7+WP/N/1EAvQAYAUwBagGvAdYBEgIwAiwCHwLwAbMBbgEpAf4AzwBWAOf/cv8G/5/+eP54/nT+dP5e/lr+Wv5r/nj+mv7k/gb/Lf82/zr/Kf8c/y3/Ov9U/1D/S/8G/7T+Wv4i/t39rf1X/Tn9vf6fAAEC6gI4AxUDLAKMAW4BRgJ4AzYEKQSBA20CCwERAAQAuQA/AUwBAgEmACn/RP6t/dD9dP7o/uj+zv6S/kD+//0V/nz+IP+v/+L/IgBjAI4AqADTABgBUAGEAYwBmQGIAX8BewFuAWYBLgH6AOAA4AC5AHgABAC7/5D/cv9U/1j/jP92/y3/7P7s/hj/Q/+I/8D/0f+q/1j/HP8x/13/f/+d/6r/r/9p/y3/E/8Y/z7/Q/8x/w//Bv/K/pb+fP6N/r3+6P4Y/y3/WP+q/1oADwGMAesB/QHrAd4B1gEfAnUCqQKUAkYCuAEuAegAvQC9AM8AxgB0APT/lf9U/z7/WP+M/4z/dv86/wb/Av8t/1j/f/+z/8T/wP/E/+f/LwBjAKMAowCsALkAsACoAJ8AowCBAFEACADI/5X/VP8Y/wb/9f7f/qf+gf6B/p/+wf7x/vn+Bv8C/xj/Q/9l/4z/r//A/83/yP+7/7v/xP+i/3//bv+I//z/6ACMAckBiAE6ARgBOgGRARYCTwIoAowBAgHcAMIA3AAHAQ8B+gCoACsA1f/N/wgAHgAAAOv/t/9u/1D/cv+Q/53/lf9l/0v/S/9Q/3L/qv8IAC8AJgD8/8T/yP8RAHAAvQDPAIUAFQC7/7P/9P8eABkA7/+M/yT/7P4G/yn/Zf92/3//f/+M/5D/jP+V/6b/5/8eABEA0f+v/7v/+P9AAFYAQAArAB4AIgAeADMAYwBwAGMAWgBaAGMAZwB0AHQAmwCoALUAjgCBAH0AmwCjAKMAlwCOAH0AdABrAHQAeABnADwAIgAeAB4ADAD8/+//9P/e/9H/2v/i/+//5//N/8T/0f/R/83/1f/V/9r/0f/E/6L/ov+3/7P/u/+i/5D/kP+Q/4P/af9L/zr/Pv9Y/3v/kP9h/0P/HP86/1j/jP+M/3//lf/a/ysAcACKAHgAhQC9AC4BRwFdATIBKQEpAS4BKQEuATIBMgH+ANcAwgCoAKMAfQBnAF4AUQARANr/pv+v/8j/t/+v/7P/r/+V/53/t//a//T/FQAVAPj/+P8MACIALwBjADwADAD0//T/6//8/+///P+7/5D/WP8x/yT/S/86//n+tP6a/tL+Mf9Y/1D/Nv9U/5n/yP/n/83/t//a/x4AGQAZACIAWgBrAJ8AtQDcAOQA9QAcATIBLgEpASkB/gDoAPoAFAHcAJIAXgBAAHQAqACbAGcAOAAAAOL/BAAMAPT/zf+v/7v/0f/r/+//IgAmAAAA7//V/+//ZwBnABUApv/R/xUAOAAmALv/wP/R/9H/6/+7/13/HP8p/13/Ov8Y/9f+GP9Q/0f/S/9H/wb/7P4+/5D/u/+M/4z/5/8zAC8AGQAEAFEAxgDcAFoAKwCfAKwAzwD+AAsBcABnAL0AjgCsACkB3AAEAAQATQCXAP4A/gBnAB4AMwCwAPUAeADN/7f/OABnAFYAKwDV/53/6/9JAF4AAACm/yT/jP8rAB4Alf9D/0f/qv+z/53/xP+V/0v/u//r/6r/DAAAAM3/zf/E/8D/qv8IAAQA0f/n/+v/0f/a/7f/t/+V/7v/cv/A/0v/zf8EAHQAdABRAG7/t//KALUAzf8EANMA8QB9AMT/9P9wAIUAlwCbAPEA5/8RAHAAlwDXAB4Ae//i/70AJgCv/9r/9P+I/7f/lwB4AAwAWP86/xEAwgCsAKb/8f4C/7f/KwDv/z7/Nv82/2MAuQDa/13/xP/i/wQA4ACoAJn/JP/4/30AxP+V/6r/DADn/wAAMf/b/q//awDv/5sAlwCm/0P/1f+oABgBS/+Q/4P/FQCSAKr/wP/xABEA2v8AAPT/nf94AGMAs//I/3gAigAIAIoArADR/3//MwDkAJsAcv/0/xkAIgCoAJn/dv/e//UAxgCI/27/CACV/7kAygDe/9v+yP9RACT/C/9aAJcAqv9l/xUAfQAIANH/Yf8AAAcB/P+M/wQA6/+D/3v/Pv+KANcAZwBA/nb/eADCAMD/gQC9AFYAov+V/2H/QAAYAYUAnf/4/4EAAABD/+z+hQAlAQwAWv7A/2oBrADn/83/OABwALAADACw/hkA3AAEAG7/jgAEAGX/af+1APEAVP+D/00A7QDe/9v+zwBaAFoA+gB4AHL/D/9H/1kBigBQ/8j/f//A/zgAkP+V/0f/6/+fALUAQADf/pn/2gGjACYAPABAAOf/dABZAcT/zf8LAVEADABwAB4Aaf/E/0UABwEMAJn/eP4iADgAIgBRAAL/yv4pAbkAJP9l/w8BvAHR/4j/f/90AJn/dv+5AAQAygAk/53/ngEyAdr/0v4mAKYB4ACi/6z+SQBMAWsAxv4k/zwAVgDA/7P/fQBNAJ8AUQCm/3MBcwFV/tf+qABUAaMAN/5O/WEBqwFU/6r/Z/75/skBHAGm/2n/EQCd/yIAXgAeACsA3v9A/q//FgJrAHH9IP/TAP4AHgAg/1H+VgDWATwAgv06/0cBawAx/ykBPAD8/ykB/gCf/gQAdwFH/9v+cABeAGsA5P7a/4oAQwF2/6f+cABwALP/UQBl/4z/OADkAB4Axv5d/xwBwgAt/13/jP+oAMIAkgDR/1YAzwCQ/ysAmQH+ALn+vf7rAb0A7P71/qYBQACQ/6f+MALoACf9zf+UAuf/tP7B/vT/KwAp/wb/mwCSAG/+9P/gAIj/dwFWAHL/TQAKAsT/+P/+ABUAYwAmAMj/jP/V/30AYf8t/yIAWQGv/wv/3ABh/2cAEQCbAEUAmf9//zMARQDoAKz+r/85Ap/+Ov93AYUA2P3I/8kBrAA7/jf+1gGoACL+jgDx/rv/IQFAAMj/6//KAKIBs/99AOv/owCm/wL/+gDn/30Anf9Y/yYAxgCD/5X/CADO/lj/yQErABj/awD4/zMAf/9wAOcBhv23/+QAtQAG/4P/rwGd/yL+cAC1ALf/0v5+/bICaAIf/cH7lgOsADf+0f8MAMUBXgD8/zr/zwBDAccCOvxR/igCqwH4/C/+VwKOAEP/mv74AUf/+P8k/xEAogGV/+L8IwLGAE79sP61A8b+p/6FAD0CBACQ/NoBBAPa/4b9eABjAJQCg/yM/90C6////Q//2QIAACP9vQCoA7T+zfxZAU8Cwf6V/1YA2gHN/w8B+PxKAgsBrP50/lcCZwDB/oUAQwFUAT39CwEHASIAYf8YAQL/Pv/oABICVf7I/2EBiP+F/msADwQs/TH8CwTcAM7+ef2bAN0CIv5Y/zoBDgJR/hP/9AEpASYAt//4/27/Xv4lAZkBW/17/y4BGwL5+30AXgOL/UD+rAMt/2j9gQBkAvUAYv67/7oCN/6KAG7/swGJ/oz/BwEZAO//nP0hAS8An/6N/k8CXf90/jgDwf61APQBjgBX/esBnwM3/rH9XgDmAmv+M/6t/Y4DVAFA+83/agRx/aMAX/2FAwP+nwDx/qsBa/54/vsCfwEt/C8AwwJWAHX9jAFh/4oAjgC+/dYBp/7PAJcAbv8c/88DSv2Y/V3/rwRH/A39KALPAxj8g//HAkUAKv7KAOAAxQH1/i3/r//UAgH96//dAgwATfvV/9EEyv5h/AsBDAOk/fb9ugKFAFf97P4rA4H+rf2ZAUcBsf0mAE8C5AAm/tH/5wE/AcP9kv5/Aa8BO/4k/y/+KQFU/3z+ewEyAfT/6v1RA0P/JgB0AOf/agEd/r79vAQn/eX96AA/BLr9L/7e/78Cmv5h/0v/SgJe/mYBIv7oAAQDAvwL/2oEUQA9/c8AmQTv/MP9UwIoApcAcvwC/7oCxQF7/ET+YwO8ARb6lv45BaMAU/djA7UGMfwp+XAGQwRk+oz8uAT4BH/8FfgfCKUFDPgs/XgJuAG8+Sn8bQjoAOf2QADyBUD+WvvS/p4HIv6x+tkC+gOD/Gf+WQE5BZb7pvx4BmAChvcAACYGcABT9/oApgeZ/C/7uQO5AyL7dP5dBKMASvo2AU0DHP9G/akCDAPk+6z+JQHCA8b7Df3ZAgEF9fiZ/7kGhf7s+HcEfQMF+iD/OgSMAQn9Kv5HBAcBlvt0/jkFU/3n/LUDigCXANL+1/4LBLP/Ff7//UwEmP3eAWX/k/3RAU3+/gDwAb79y/2LAogEAvmS/kYIEQBb9/0BWQfY+tX5QwRdBJj69f5PAvEDovweACUB/gDGANj6RgXnAa/5Gf41CNv+m/jnAfgKe/lh9i0KrQhT9GL4iA0ZA6LzaP3JDYj8PfeHAhIIE/yc+gwA3gcM/rP5yQEbC0D41PdtC48FV/EVADkL/P9q8JIGUwu+94j2awwcBFf0A/7JCnAAFvdl/80KH/20+Ev/zQdQ/zP1ewQmCcr72PRqB8AH5PjV+aUIuART99wA5wR0Axj2nwASCBz/k/ps/eoL8fuC+q0CVwU5+mj9IP/bBo/6qfr4BGcDm/hFAKUIaP2j+AUFUwhE+x/6rAYVA936OvymBJIDCfpV/gQD/wI29tMAGwVAAET4iAS1A7r6C/w9CyL+Q/mv/6AIovzd+qIErAb1+GH/KAJQAdf7gf5jAwsB5/xH/00GaP2W++QGNgFh+SkBxwVG/Tn9a/5kAhUAg/8S/ef/6ANk/VX+LAKf/uAANgHx/sr+jAGUApL7ZwArA9MAjvv6A3z+BACzAXv8wf5WBrr6ygAfAmX8dQLl/XgAuf61ABUAwgDL/UcBfwFHAX79KQHZAif90P3JAZUEwPxe/h8C3QKM/CL7HgaSAP/3TQOHBYL6dP6sAKAFGPx4/oUD1gHd/T39zQF1BcH7DvrQCNoBavY/BNsGjPzd+rICUAQI+yf9BwFdBHAAtvRMCvUDPfQhAdAL6vew+zoEdQXk+Ov/FggV+xb9AQULAa/8hf6OACEE2vyV/MwCqwRH+ef8UArn/1T2OAPlCP/3w/0FBdf+1fzPAEP/pQJrAEj7WP9UClf3af/WBxD+IvseBgwAS/l0A14D2/sQ/kAD8v2UAl7+wgDX/rUA5//v/0oC+/2S/p8DR/8n+lkH5P7k+JQFBQKS/hD+yP+rBF7+UPzxBsb7R/+rAZwCKwCD/LwBKQT/+mMAYf+mBMf9SfgMBpgClfbeARgEOv8k/3MBlQG3/1D/+f5nA4j/lfmRBE0D5/n//dsJa/vy+mgCxgbd9wv/1wOwA373ugJxAp/+4f0LARgEKvu3/4ICEgIs+scF2v8L/NYEgf7U/eMBsgKw+wQAEQbk+Mr7VA03+OT49Qx9AH7x1AglB7f2yP+RB138+/3KALMB/vtNA7P/CPvgABkGuvci/rYIef2F+/QETQPT+CYArAYn+hkAAQI2/y4B2vxDATgA3f0fAt78iQYG/Kb/ngHHAkH6JQTr/z0CwPnQAlcFSvoS/TkFagEi/oX7hwVv/p/7KQHUAqMA8v2Z/JEH7/8c+R4DLAUc/Pj5cQj0Aaz1iwJdB2T6Lf90ALwEg/wg/7T+8gUc/5b4owMzA7P86voICZ35ZwBrAJ8AhQCF/hQBGwJ//0T7wASmASf6UQPQAh379QDZAlD89QA/Afn+JQEMAGYBOvwuAYICU/qbA1QBDP4SAuj+SgK8/G4BGP+4AZr+cQLx+9EBRgLR/Pn7rwdL/MH7dQK5Bj75Vf7TA3ECsPtWAAwGnPqVAZn/vQBrAAUCJ/qBA7ADEvrU/YkGqwHQ9OQG8QO39qwA0AUI+yn/DgUG/+79UAQwAv/91/4zA68B8fufA//6+AESAmf+Gv21A4j/vv1e/qMGn/tr/tEBagE3/iT/DwSD/PgB8f7V/0wBMwAL/H8Eqv/r/8f69Ae5+/X7MAIZCXX0/wJ4Bn79Xvg3CRX+j/o2B+j+HPlMBzH8Qf3PA2n/5f1WAKYBdPvjBIL6rAOF/rADN/5h/1EAcwEI/lkBwwKG/YUAGAES+sMIUPm9/rwHxPx2/BYFE/90/mz9HgMp/yIAt//k/osCO/69/mn/FgJ0ADb8IwVr/uj+w/1aA1YAwf57/wgDGwLs+P0BsgLwASz6iwJxApb+dvyvATACo/4HASkBuf7CA2z6rQUQ+13/mQGd/1P9+gCfAOf8jwgi+AwAsAZx/fH+cwHCA3v2zALTBtj6cfosCE8Co/WfBhUApvxmAf0BvPyzBPv9C/xp/7UGVPxT+mQINgH/+lP9owYm/vEA9/qrBFQBdADb+wAA8gV5/br30Ai6/XT+nfxUBC/+dQIZ/rUADANE+9kCaAKZ/Fr+GwLDBRL3OAOmAXb/0/sL//sFxv4f/WEESv2I/38BUPwAABgHk/dEA34FA/un+2AIJP/++OQD2gcz9SIDCAZs+jIBWP83/ogBvAEp/x/6LQfb/nv20wbR/2f+xP/1A4X+C//S/vT/EQY3+2L+5ANh/+T+i/0pBGgCJvg2ByMCzvifAJ8GYfkBAiEBD/xqBPH+PPjAByT/7voYBJgCGfts/SIGlwAg9j8KN/4P/LYCIgBB/cQEePvcAP4AbgG9AAv/XfwvBlX7FQMY/D0C6wHv/BD+Mwbi/CL+JQQmAN786wFRADP+IgCQ/2AC3f3e/wQA3gQV+JsAHwWJ+70A1f8hAR4DE/zk+/oJLP2v+e0DPwRT+pUE/v4v/jH/swQs/c8A2/6ZAdMAxgC3+UQDlQRI+9/+9wKyAk37fwHuAl/9agFa/gIBQP6iAQv8FATK/nX9+gCYAvX7VgDjAe//b/57AfX+CAP0+bIFEQCB+9ACBwSB+0r9SgVd/8r7zAIiAIv91wOT+loDhwJu+WcDRwSf+NMDPQJR+wIEqwHU+t7/mAUJ/d75WgmZ+Z8D3/4B/bMBIwKm/1D5xgNdBCL7Tv3ZBTr/VP8HAbz8IAf7+r3+4v/KBqz7p/uCAgkISvQFAgUIkPnr/3gAFAGv/2MDVPll/9cJ1Pf++0MK9ful+rcHyvtmAcABkv63/1EAygDO/sD/DAD0/6MAdP5a/noCaf8bAsT8EP7ZBcT58ASc+qgGV/3y/esB0AIMALb91fzOBjT9hf6D/9cAi/p9Bjf4WwWN/pz9XQFuAW/+2/5dBM3/sf2jALkGcfQfBfoGP/bkANsG//pk+n8KIPx+/TACi/0fBZ/76gJH/8H+lAJr/jH8sgWF/in8HgMFAtv7XgBuAcoAif6m/zwDr/wyAaEC1P2fAEAA3AAP/8oATf7bA4z8cAA5Arn+/v4x/z0CCf0MA88Acf1uATgDN/j0BDwAQ/ylAogBYv6W/h4Dxv47/oQEr/mWA3cBmvsLATACQwEw/bgBdwFi/tEBwfuiBJj9JgDq/YIFPvwsAlX+lgOd+QQGw/2g/eMBBwTn+e//EQOM/0P/CP7qAlkBTfsL//oDHP+5+8kB2QJ5/Zb+nAWT/Uv/+f5qBGD6VwXD9x4GZwBv+xgB1wMj/Vj/TQMc/zYBFQDV/JgCzQHa/Pj/lQTY/aL8VAFrA1j8I/16Bfv9rPsEBmT95P6wAEMB3v/f+xkG6v06+aUFSgU29rkAOQjq+gP+HwVn/h4A7/+IAer91wAWAmv7OgSs/mz6ngT1ABb9i/3DBT78pv8SAk8C6Pv6A1oADf0YAY8CtvpdBMT/Wv7qAh/9Bf3rBAP76wEg/+cBsAB8/gwAf/8fArUA7/xFAJwIxvjy/XIHsPv+/scFsfqz/+oFlfyw+5kEAgEc/2L+xgCvAWH/Pvz/Akv/dv9qAV4A4vxNA4UAdfoPBJIAcf2OA6T9ewFv/ucBWP8d/i8AXgB4ACsANv92/7n+RgKN/ugAGQBjAC3/YwNA/gL/nwAYBOz79AFwAPj/cf0EA97/PvxdBPX+Uf5qAXUCAf2s/jYE7vqFAJQCTf5T/T0FPwGG96sE6//f/lH+fQZ/+SgCGAEVAAcB+f5tAiT/Gf4uAR8F+fiJ/ucHkPnaAYwBR/8N/eQDKAJG/V4AJQHS/h/9tQZ8+5b+jwJUAfH+Hf6sAGsAEv0/ASIGzvhU/9kF8f7n+YcFwwK5+KgDPADa/w8B2vzoAKIBZAK5+//9uAT//VX+xQHi/2T9+wXJ+TgAaAUt/PT8qANtAmv7DwHf/qMDLwC+/Q8BlQH4/7H97QC9ADv+Qf2bAMIDOvy9ALMBiPxrA+L/qvwpBCUBuvpWA1YD9/qp/REGqv8C/C8DxQFy/EkAZwCHAk76lwC8BHj7rAMB/R4DHwKi+dcD2v/i/8D86gJv/in/ogQg/7r9hQMY/87+zAJa+wcBhAGMATr5mAVNAOH6VgO5AFD8QAOFAAL/1gGx/UICvQDi/Mr+TwXA/Bn+8QNx/TP+KAJFAB3+ngH1/hsCqAD7/V3/awMM/kD+8wJNAGf75gV2/Mb7pgcV/vT8XgPf/jH/hQD0/5n8bgQyAZL4MAV7/6b83v8fBUT7cv9KAuv//P96Aoj8bQJ1Avj/dvz/BXz+X/0VAwgAs/lxBdX/3vwRAIEDBf3I/9T9UwI8AM8AnfxUBHQDn/jPA+QDHPlp/8cFMf8z+JUHPwF4+DoBQwTX+PUDbQKt+okGUwLu9KkIaAJy+fAB0AVq+eAAxgAW/dr/cADb/v0BYAK3/HH9fgja+bH9ZQrq+iD8DAbi/L79cQKF/oj/fQMn+pUBWgOT+g8B9wLv/DMADAN/+X4Fp/6f+78CngSz+foDOQV/9nUFzQF//PMChQPk+/oD5P6z/3H9SgVO9/AE9P9Y/BsCoAWc9A8EnwMp/BP8OQhK/eX6kgbE/L0A/P8fAhz/SP79AagAavz3AqYB/Pz4/5YDTv3B/gcEM/6O+zcGa/42/HUFmv7b+wIEMf8f/SMCxP8M/twADwFX/RYCggIN/R8C2/7uAmsA+fuIBB3+Yv4cAREA+/19AEwBQPsvA68Bt/wRABIF/vuzAbIC9v1p/10B6v0M/twAgQBA/mn/tQBjAMb+1ALCAKn6MAWYAhz56gI2BBD7ZwCeBGn/D/yzAakF1/gZALYF4vnd/W4HzfyI/PAHQ/w+/J4Eif5nAFQBdv+v/83/JgC5+zoBpQJs+p4BtQNq/NEBYwDH/bAAqwHq/U8CvAHN/KwAggKM/Db/9AEpAeL8FgLXACn/af/v/5kBAAAiAJX8tQDXAHj+Lf/WAbAAbv8MADACE/+I/z8BGAH//VQBfQCFAE79mf8yAWv+y/0iAzr/Gf4sAs3/QACKACL+cwEZAEwBj/0UAR8CQ/8d+7oFhf7a/GgCrwEi+/EAQwHu/cD/9QDa/wwAsABnAJD/LwBFAH//QgJ2/779RQA2ARwBM/50AA4CGP8T/9cA3gHk/hr9egKwAPv9Tv30ARQB9Pxv/igCIv5D/5sDKf9h/0kAVgDe/2sAQ/+v/2oBE/8zAEP/BQJV/hP/uAFDASf9Q/8bAsoAN/4vAEkAkP8mAEkDgf5U/1YA4wHl/SIADwEzALv/RQDV/4EAQACS/l3/aALb/l7+yP/uAmn/5/8UAQgAYv74AeQANv9aADb/Yf+bAJb+qACB/kf/sADA/7n+agHv/5n/owD8/yD/CAA4AOv/ZwAUAV4APACKAIEAn/63/3v/TQBwABQB7v0EAGoB0f9V/vUA8QAEAPz/xgAuAbAA5P78/xsCTf4C/0MBVgDa/13/DwGn/psAXf88ADr/u/+5ABEAWP82ASIAHgBy/xEAQwE8AFD/6ABCAtv+bv9wANr/dABa/ngAS/+7/2H/9f4VACIAHP/V/9wAOAAT/2sAeABNAFQBdABWACEB6AA+/yYAAgG5/vEAu/8G/4UAhQA2/8IA9QAT/3L/owBu/03+IgBU/1X+r/99ADb/MwBDAZX/IgBTAqwAg/93AckBov8P/7AAIQEiAN/+6AA4AL3+1/6i/yD/Xv5Q/0AALwBu/xEAXgDkAM8APAACAegAQ/+v/wIByP9l/0UAvQCm/yYAxgBwAPj/YwBeAOj+Av8C/6r/u/9//xUAlwCKAIUA/gCbAHAABwGsAOgAeAAx/1D/1f+v/87+s/9NAA//1f+KAOv/yP9jANr/3v99AO//+f5u/x4A2/5p/yYALwCwAP4AqACz/0kAEQAY/8D/LwDa/9X/+P+D//X+SQCKAE0AFAEhAaMAfQCsADMAjP8AAFYABADn/wwANv/e/97/xP/r/2sAMwDV/6b/2v/k/pn/+P/e/83//P90AH0AeACfALkA0wDoAOAAqABJABUA9P+M/6b/0f/A/6b/qv92/yn/Xf/v/zMAOABjALAAsABjAFEAigC9ALUAXgBjAEkAAADV/9r/+P/e/7v/+P8iAAgAxP/R/zwAUQARANX/t/+Z/5X/7//8/wwALwAiAHgAOADn/wQA7/8rAF4ALwDN/4z/3v88ACIADAAmAGcATQD4/8D/4v8ZAC8AGQAeAAwA2v/V/xEA/P+7/xkAjgAEAFj/nf/8/xEAyP+3/97/BAA8AGMAeAB0AEUAowC5AFEAHgAzAGMABACZ/7P/mf+Q/8j/s/9//3v/9P9wAGcAMwAVACsASQAmAAwAUQBJAAAA3v/r/wgADAARADMAPAAIAPT/OABWAB4A3v/v/9X/7//I/6r//P/i/9H/5//0/wwAVgCbAIEAMwAeAFYAPAAVACsAQABAAAgA4v/E/83/5//n/+//CAAIANH/1f/V/6r/wP88AEUAzf/E/yYAQABWAHQAigCBAIUAawAmAPj/yP+3/8T/3v/E/4z/g//E//T/6/8IAFYAcABwAEAA+P/I/wgAKwDV/4j/s//i/+L/4v+z/9r/TQBwAEUAQACjAHgA4v+m/xEARQBJAEkACACv/3//jP+z/97/u//V/ysALwDa/xUAawBnACIAGQAZABkAGQAAALf/lf+z/+f/7/+z/4j/5/99AJsARQAZAHQAhQBaAEUA7/+D/4P/1f+v/yT/Zf88AIUADAC7/97/AAAVAGcAhQBaACYAFQAZAPj/nf/R/4EAhQD4/5D/yP8vAHAAVgAVAM3/wP/e/xkAAADE/wAAcABJAOL/wP/I/9r/BAA8AFYAWgBJAAgA+P8mAIUAfQBaAE0AEQDr/+v/yP+d/7v/ov9U/z7/dv+I/6r/GQBjAEAAPAB4AIEAXgBJAH0AvQCoAGsAJgDI/13/Kf9u/6//xP/N/9r/zf+z/7P//P8vAEAAVgB0AKgAcAAZAOL/BAAmABUAMwBFABkAxP92/4P/2v88AC8A2v/A/9X/5/8mABkAAAA8AI4AXgDV/9X/LwBjAEUAIgA4AE0AEQDV//T/9P+Z/6b/KwA4AO///P9RAC8Apv+q/y8AjgBrAAAA7/8AAN7/5/8ZABkAqv+V/x4AfQAEAHv/1f8iAOv/kP/A/x4AKwAIANr/1f/v/00AwgDTAHgAFQBNAH0ADACQ/4z/pv+i/5D/nf+V/5n/0f8ZADwAGQAmAKgA/gCFAOf/0f8AAEAAZwAmAMj/iP+q/+v/GQDn/6//DACOAIEAEQDI/9X/1f/A/7P/4v/4//T/+P8RAAQA1f8IAKMAuQAZAPT/RQAmAJ3/R/9//9r/1f/v/00AmwBwAPz/4v84AFYAPABWAE0A+P+d/6b/r/9//3v/1f9aAHAA+P/R/zMAZwA4AB4AXgBwADMAEQAVAN7/nf+Q/+L/LwAMAO//IgBFAAgAe/+d/0UAhQA4AEUASQD0/5D/s/84AKgAnwBWAAwA4v+M/1D/e//I/+v/5/8ZAEkAPAAEANH/BAB9AHgAJgARABUA7/+m/5X/1f8eAAgA1f/n/x4AGQAvAJIAkgA4ABEAHgAvAOv/lf/R/yYAGQDa//z/PAAzANH/jP/V/zMATQAiABUAIgDr/8D/1f/8/y8ATQBRAE0ABAC3/9r/YwCFACIA6/8AACsA6/+z/8j/2v/r//z/EQAIALv/jP+3/zwAXgAzADwAZwBJAO//4v/r/9r/AAAeAAAAxP+M/7P/EQBaAEUAPABrAHgAOADR/8D/0f/I//z/AAC7/6b/xP/v/wQACAAvAKMAzwBAAOf/DABjAHgAXgBrAEAA6/+z/6b/lf9//6r/3v8ZAAwA1f/N/9H/5/8AACIAWgCKAIUASQAvAEkAVgB4AHAAEQDV/6r/nf+q/7v/xP/A/+L/3v/4/+//7/8vAF4AawBRACYAGQAZANX/t//e/xkALwBNAE0AXgAiAK//jP+i/+L/FQAMABUAHgAmAEAAQAAIAOf/FQBaAFoAKwAAAN7/r/+d/5X/kP+3/x4AQAAMAAAALwBnAHAAKwAIAEkAYwBWACsAHgAZAPj/pv+Q/5D/pv/V/wwACADv//z/TQCSAFoAFQARADwAWgA4AEUARQARALP/g//R//z/2v+7/+//QABeADgAHgBwAHAA7/+m/+v/MwARAAAAAAArAAgAkP97/9r/IgAeAAgASQBjACIA0f/0/0AAXgBaADMAJgD8/7v/ov+v/+f/7/8MAB4ACAAeAEkAdABeADMAFQA4AC8AyP+Q/8j/6//V/8D/zf/4/xUA/P8RACsAYwB4AJIAWgAMANr/xP/0/ysARQBAACsA/P/V/7v/yP/n/wwA6//8/wAA6//n/8T/t//i/3gAuQCbAHQAUQA4AOf/ov/N/yYAPAD8/7f/u//e/9r/3v/e/+//FQBNAC8AIgBNADwAHgD0/wgAHgD8/9X/6//0/xEAJgAAAAAAGQAeACsALwAVAAgAEQDn/wQAFQAEABUAPABAACsAQAAZAOf/2v+7/7f/0f/n/xUAFQAEAAQAJgAvAEkAUQBFADMAJgD8/+f/2v/R/9r/1f/4/zgAHgDr/+//HgAiAAgA4v/n/zMAQABFADMAKwD8/+L/5//a/9X/2v/a/7v/u//n/yIATQAmAAQAHgAmAPT/9P8vADMAFQDa/+v/LwBNACsAKwArABkACAAeABEAFQDi/9X/9P8eACsAIgArAB4AFQDv/9r/3v8ZAB4AQAA4AAAA1f/n/xUAQABWAGMAgQBrABUA0f+3/8D/1f/i/+//CAAZAAgAAADn/8D/0f8RACIALwAiABEAFQAZABkAHgAeABUAIgAiAOv/2v8AADMALwD8/+f/FQAVAPz/3v8IAFYAfQA8AAgAGQD0/97/xP+q/8T/BAArAEkAOADr/8j/6/8eABUAIgBWAGcASQAZAAwAHgAMANr/0f/a/83/yP/I/9r/3v/a/+v/MwBnAFYAPAAVABEAGQAeACsAJgAAAPz/CAAAAO//7/8eAEAAOADa/6//qv/R/+f//P8IAEAAVgBeAEUAEQC7/6b/4v8eABUACAAZAB4AFQDI/8D/CAA4ADwATQBaAF4AHgDR/6b/wP/a/wAAOABNAEkA+P/a/9X/AADr/9r//P8mAFYATQArACYA+P/E/9r/AAARAOf/7/8IACIAAAAAACIARQBNADwAPABRADMACAD4//z/7//r/+L/7//0/97/2v/i/wQAFQARAB4AGQAiAB4AJgA4ACYAHgAeACYALwAAANX/5//4/9r/yP/8/xkAIgAZABEAEQD0/9r/6/8eACIAGQAEAOf/BAAeABkAGQAzADgAKwAMAPT/AAAAAO//1f/a/+v/4v/n/9r/9P8IABkAPABNAC8AFQARAB4AJgAeACIAGQAAAPj/FQAMAPj/6//0/wQABADr/83/6/8eADMAJgAmACYAHgAIAO///P/e/9H/0f/V/+L/5//n/xkAQAA4AB4AEQAmAE0AMwAVAAAA9P/a/7f/pv/R//z/IgA8AEAAPAA4AEUATQAmAAAACAAVAPT/1f+m/83/5//r//T/CAAmAEAASQAmAAQA+P/0/wQAAADv/wgAKwArABEAAAD8/xUAHgAVAAAA+P/r//j/2v/i//j//P/0/wwAKwAVAAAA6//8/xkAHgAeAC8AFQD4//j/CAAZABEA+P8EAAgA4v/a/+L/3v/n//T/FQA4AC8AFQARABkAGQAVAAQA/P9JAEkAIgDv/9r/2v/i/9r/AAAiABkAGQAZAAwA/P/n/9r/DAAvACsAGQARAAQA5//R/+L/FQAeABkAHgAVAAwAEQDe/9H/6/8ZADgATQAzAB4AHgAAAAwAHgAAANr/1f/V/+v/7//e//T/FQAeACsAHgAZABkAFQAMAB4AFQAZABkAGQAZAB4ADAAEABkAGQAeAB4AGQAVAPj/5//i/+//+P/r/xUAGQAeAAQA/P8MAB4AGQAIABkAHgAiABUA/P/8/+v/7//r//T/FQAiAC8AMwAvAAgA+P/v/xUAGQAVAO//+P/v/+//5//i/+v/5/8IACsAVgBRAEkAOAAvADMAMwAZABkAAADe/8j/1f/e/+f/5//v/xEAQAAmACIALwArAEAAXgA4ABEA7//I/7f/u//R/9X/9P8AABEAHgAmAB4A/P/r/+v/EQAiADMAOAAiAAAA5//i/wQACAAAAAQAHgAeABkA7//0/xEADAAVACIAOAA4AB4AJgAiACIAGQAZABkAGQAVAPz/7//n/+L/6/8RAB4AGQAZABkAHgARAAAA+P8AAPj//P8AAPj/BAAAABkAGQAMAAQACAAMABkAGQAZABkAGQAZAAwA/P8AABEAHgAEAPj/7//8/xUADAAZACIAKwARAPj/3v/r//j/4v/0/xkAGQAZABkAEQARAPT/4v/r/yIAMwBAADMAJgAeABkA7//n/xEADAAIABkABAD0/8D/qv/I//T/9P8EAB4AJgA4AEAAPAAiABkABAARABUAFQD8/+v/9P/i/9X/1f/R/+v/BAARACYAOAAvADgAMwAvACIAJgAIAPT/3v/V/83/1f/e/+//7/8EAAwACAAeADgATQAvADMAIgAmAAwA/P/4//T/5//8/wwAAADn/+f/+P8RABkAGQAvADwAKwAEAPT//P8AAAAA/P8RAAwA6//i/wAABAAEAAwAGQAZACsAFQAEABUAEQAAAPT/7/8RAAQA5//r/+v/7/8EAB4AGQAeABUAEQAeABkAHgAIAOv/FQAZABkAGQAeABkAHgARAPz/CADn/+f/AAAZABkADAD0//z/+P/r/+//DAAeACIAIgAiADMAJgAiABUACAD4//T/7//8//j/9P/v//z/AAAZAAgAEQAeACYAKwAiABkAGQAAAAAACAAVAB4ACAD4/wQA+P/i/+L/9P8RAB4AFQAMAAwACAAeABUAIgA4ADMAFQAeAAwAAADv/+L/4v8AABkAGQAAAAQADAAZABkAGQAZABkAIgArACsAIgAMABUAAAAAAPj/6//v//z/DAAIABEAFQAVABEAEQAZABkAEQDv//T/EQAIAPT/5//v/wQA+P/8/wAA+P8AABUAEQAeAB4AHgAZABEAFQD4/97/6//0//j/CAAeABkAGQAZAB4AHgAEABEAGQAZABkAGQARABUAAAD8/+//BAD4/+f//P8VAAgA+P8IABUAOAAvABkAGQAZABUACAAVAAAABADi/9X/4v8AAPj/9P/0/xEAGQAZABkAHgArACIAHgAZABkAGQAIAPT/+P8ZAAQACAD8//T/+P8MAAQABAAeABkAGQARABEADAAMAPz/FQAMAO///P/4/+//5//n/+//DAAeAAgAEQAZABkAGQAZABkAIgAZAAAA9P/4//j/5//v/wQABAAZABkAGQAZABkAGQAZABkACAAAAOv/4v/v/+f/5//r/+///P8RABkAHgA4ACYAFQARABkAHgAVAPz/+P/8//z/5//0/xEA/P/4/wAA+P/8//j/FQAZABkAJgAZABkAGQAeABEA/P8AAPj/9P/4//j/+P8RABkAGQAmABUAHgAIAAQAAAARABEAFQAAABkAAAAMABUA+P/r//j//P/4/xUAHgAeABkAGQAZABkADAAIABEAEQAMACIADAAEAAAA9P8EACIAAAD8/wQA/P8AABkAGQAZAAwABAAZABUABAAZAAgAAAD8/wwAAAARAAgA+P/4/wQADAAMABUAFQAMABUAGQAMACIAGQAeABEADAD4//j/+P8RABkAAAD8/wgAGQD8/wAA/P8AABkAGQAZAB4AKwARAAQAAAAAAOv/0f/i/+v/AAAVABUACAAeABEABAAeAC8AMwAZAAwAGQAeABkAEQAVABUAGQAEAPj/EQAZAAwAAAD0/xkAGQAZABUAHgAVAAgA/P8IABUAAAD0/xUAHgARAPj//P8MABkAEQAVAB4AEQARABEAFQAeAAgA/P8AABUACADv/wgAGQAZAAwAEQAZABkACAAZABkAGQAZAAQADAAeABkAHgARABEAHgARAAwAHgAVAB4ADAARAAgA9P/r//T/DAARAAwAHgAIAAgADAAMAPz/BAAEABUACAAMAAQA+P/r/+L/7/8RAAQABAARAB4AGQAZABkAHgAVABEAFQAVABEAFQAAABUAGQAZABkAEQAEAPz/AAAVABkAGQAZABkAGQAZABkAHgAIAAwAFQD8//T//P8RAB4ABAAAAAgABAAIAAwAHgAMAAgAFQAMABkAEQAZAAQABAAIAPj/BAAAAPj/5//v//z/BAARABkAGQAZAB4AHgAiABEADAAMABEAGQAIABUA/P/i/+v/BAAIABkAGQAZABkAFQARABUACAAIAAgADAAEABUAEQAEAAQA/P/4/wAACAAIAAwAGQAZABkAHgARAAQAGQARAPj//P/0/wAA9P/4//z/AAD0/wwABAAZABEA/P8VAB4AEQAMABUADAAVAAgACAAVAAAA+P/8/wgADAAeAAgABAAIAAwADAAZABEA/P/8//z/BAD8/+L/6//r//T/BAAEAAQA+P/4//z/CAAVABkABAAVAAwADAAeABEABAAVAAQA+P8IABUA/P/4//T/+P/8/wAAFQAZABkAGQAeABkAGQAZABkAGQAZABUAEQAMAAQADAAMABEAAAAAAPj/AAAVAAQACAAVABEAEQAAAAAABAD4/+//4v8EABUAAAD4//j/AAD4//T/CAAVABUAEQAEAAwAFQARABEAEQAVAAQADAAVABUAGQAEAAAAAAARABkAHgAMABUAEQAeAAwAEQARAAwA+P8ZABUACAAVAAgA+P8RABEAFQAeABUACAAZABUABAAZAAwADAAVABEAFQARAAAA/P8AAAAAFQAMAAAA/P8RABkADAAVAPj/BAAEAPz/FQARABUAAAAEABUAGQAMAB4AFQA=\" type=\"audio/wav\" />\n",
       "                    Your browser does not support the audio element.\n",
       "                </audio>\n",
       "              "
      ],
      "text/plain": [
       "<IPython.lib.display.Audio object>"
      ]
     },
     "execution_count": 34,
     "metadata": {},
     "output_type": "execute_result"
    }
   ],
   "source": [
    "import IPython.display as ipd\n",
    "import numpy as np\n",
    "import random\n",
    "\n",
    "rand_int = random.randint(0, len(timit[\"train\"]))\n",
    "\n",
    "print(timit[\"train\"][rand_int][\"text\"])\n",
    "ipd.Audio(data=np.asarray(timit[\"train\"][rand_int][\"audio\"][\"array\"]), autoplay=True, rate=16000)"
   ]
  },
  {
   "cell_type": "code",
   "execution_count": 36,
   "metadata": {
    "tags": []
   },
   "outputs": [
    {
     "name": "stdout",
     "output_type": "stream",
     "text": [
      "Target text: the bluejay flew over the high building \n",
      "Input array shape: (34407,)\n",
      "Sampling rate: 16000\n",
      "Target text: cut a small corner off each edge \n",
      "Input array shape: (27444,)\n",
      "Sampling rate: 16000\n",
      "Target text: add remaining ingredients and bring to a boil \n",
      "Input array shape: (48436,)\n",
      "Sampling rate: 16000\n",
      "Target text: she had your dark suit in greasy wash water all year \n",
      "Input array shape: (46080,)\n",
      "Sampling rate: 16000\n",
      "Target text: don't ask me to carry an oily rag like that \n",
      "Input array shape: (42189,)\n",
      "Sampling rate: 16000\n",
      "Target text: may i order a strawberry sundae after i eat dinner \n",
      "Input array shape: (47412,)\n",
      "Sampling rate: 16000\n",
      "Target text: no antigen was detectable in certain dark spherical areas in most cells \n",
      "Input array shape: (71988,)\n",
      "Sampling rate: 16000\n",
      "Target text: scholastic aptitude is judged by standardized tests \n",
      "Input array shape: (51917,)\n",
      "Sampling rate: 16000\n",
      "Target text: steph could barely handle the psychological trauma \n",
      "Input array shape: (56935,)\n",
      "Sampling rate: 16000\n",
      "Target text: he scowled at her flowers \n",
      "Input array shape: (33588,)\n",
      "Sampling rate: 16000\n"
     ]
    }
   ],
   "source": [
    "for i in range(10):\n",
    "    rand_int = random.randint(0, len(timit[\"train\"]))\n",
    "\n",
    "    print(\"Target text:\", timit[\"train\"][rand_int][\"text\"])\n",
    "    print(\"Input array shape:\", np.asarray(timit[\"train\"][rand_int][\"audio\"][\"array\"]).shape)\n",
    "    print(\"Sampling rate:\", timit[\"train\"][rand_int][\"audio\"][\"sampling_rate\"])"
   ]
  },
  {
   "cell_type": "markdown",
   "metadata": {},
   "source": [
    "Note: This mapping function is a good example of how the Wav2Vec2Processor class should be used. In \"normal\" context, calling processor(...) is redirected to Wav2Vec2FeatureExtractor's call method. When wrapping the processor into the as_target_processor context, however, the same method is redirected to Wav2Vec2CTCTokenizer's call method. For more information please check the docs."
   ]
  },
  {
   "cell_type": "code",
   "execution_count": 37,
   "metadata": {
    "tags": []
   },
   "outputs": [],
   "source": [
    "def prepare_dataset(batch):\n",
    "    audio = batch[\"audio\"]\n",
    "\n",
    "    # batched output is \"un-batched\" to ensure mapping is correct\n",
    "    batch[\"input_values\"] = processor(audio[\"array\"], sampling_rate=audio[\"sampling_rate\"]).input_values[0]\n",
    "    batch[\"input_length\"] = len(batch[\"input_values\"])\n",
    "    \n",
    "    with processor.as_target_processor():\n",
    "        batch[\"labels\"] = processor(batch[\"text\"]).input_ids\n",
    "    return batch"
   ]
  },
  {
   "cell_type": "code",
   "execution_count": 38,
   "metadata": {
    "tags": []
   },
   "outputs": [],
   "source": [
    "timit = timit.map(prepare_dataset, remove_columns=timit.column_names[\"train\"], num_proc=4)"
   ]
  },
  {
   "cell_type": "markdown",
   "metadata": {},
   "source": [
    "Remove the signal more than 20 sec"
   ]
  },
  {
   "cell_type": "code",
   "execution_count": 40,
   "metadata": {
    "tags": []
   },
   "outputs": [
    {
     "data": {
      "application/vnd.jupyter.widget-view+json": {
       "model_id": "a827b11d8dcd4af4b16ee6519a7e66ac",
       "version_major": 2,
       "version_minor": 0
      },
      "text/plain": [
       "  0%|          | 0/5 [00:00<?, ?ba/s]"
      ]
     },
     "metadata": {},
     "output_type": "display_data"
    }
   ],
   "source": [
    "max_input_length_in_sec = 20.0\n",
    "timit[\"train\"] = timit[\"train\"].filter(lambda x: x < max_input_length_in_sec * processor.feature_extractor.sampling_rate, input_columns=[\"input_length\"])"
   ]
  },
  {
   "cell_type": "markdown",
   "metadata": {},
   "source": [
    "## Training & Evaluation\n",
    "\n",
    "The data is processed so that we are ready to start setting up the training pipeline. We will make use of 🤗's [Trainer](https://huggingface.co/transformers/master/main_classes/trainer.html?highlight=trainer) for which we essentially need to do the following:\n",
    "\n",
    "- Define a data collator. In contrast to most NLP models, Wav2Vec2 has a much larger input length than output length. *E.g.*, a sample of input length 50000 has an output length of no more than 100. Given the large input sizes, it is much more efficient to pad the training batches dynamically meaning that all training samples should only be padded to the longest sample in their batch and not the overall longest sample. Therefore, fine-tuning Wav2Vec2 requires a special padding data collator, which we will define below\n",
    "\n",
    "- Evaluation metric. During training, the model should be evaluated on the word error rate. We should define a `compute_metrics` function accordingly\n",
    "\n",
    "- Load a pretrained checkpoint. We need to load a pretrained checkpoint and configure it correctly for training.\n",
    "\n",
    "- Define the training configuration.\n",
    "\n",
    "After having fine-tuned the model, we will correctly evaluate it on the test data and verify that it has indeed learned to correctly transcribe speech."
   ]
  },
  {
   "cell_type": "code",
   "execution_count": 41,
   "metadata": {
    "tags": []
   },
   "outputs": [],
   "source": [
    "import torch\n",
    "\n",
    "from dataclasses import dataclass, field\n",
    "from typing import Any, Dict, List, Optional, Union\n",
    "\n",
    "@dataclass\n",
    "class DataCollatorCTCWithPadding:\n",
    "    \"\"\"\n",
    "    Data collator that will dynamically pad the inputs received.\n",
    "    Args:\n",
    "        processor (:class:`~transformers.Wav2Vec2Processor`)\n",
    "            The processor used for proccessing the data.\n",
    "        padding (:obj:`bool`, :obj:`str` or :class:`~transformers.tokenization_utils_base.PaddingStrategy`, `optional`, defaults to :obj:`True`):\n",
    "            Select a strategy to pad the returned sequences (according to the model's padding side and padding index)\n",
    "            among:\n",
    "            * :obj:`True` or :obj:`'longest'`: Pad to the longest sequence in the batch (or no padding if only a single\n",
    "              sequence if provided).\n",
    "            * :obj:`'max_length'`: Pad to a maximum length specified with the argument :obj:`max_length` or to the\n",
    "              maximum acceptable input length for the model if that argument is not provided.\n",
    "            * :obj:`False` or :obj:`'do_not_pad'` (default): No padding (i.e., can output a batch with sequences of\n",
    "              different lengths).\n",
    "    \"\"\"\n",
    "\n",
    "    processor: Wav2Vec2Processor\n",
    "    padding: Union[bool, str] = True\n",
    "\n",
    "    def __call__(self, features: List[Dict[str, Union[List[int], torch.Tensor]]]) -> Dict[str, torch.Tensor]:\n",
    "        # split inputs and labels since they have to be of different lenghts and need\n",
    "        # different padding methods\n",
    "        input_features = [{\"input_values\": feature[\"input_values\"]} for feature in features]\n",
    "        label_features = [{\"input_ids\": feature[\"labels\"]} for feature in features]\n",
    "\n",
    "        batch = self.processor.pad(\n",
    "            input_features,\n",
    "            padding=self.padding,\n",
    "            return_tensors=\"pt\",\n",
    "        )\n",
    "        with self.processor.as_target_processor():\n",
    "            labels_batch = self.processor.pad(\n",
    "                label_features,\n",
    "                padding=self.padding,\n",
    "                return_tensors=\"pt\",\n",
    "            )\n",
    "\n",
    "        # replace padding with -100 to ignore loss correctly\n",
    "        labels = labels_batch[\"input_ids\"].masked_fill(labels_batch.attention_mask.ne(1), -100)\n",
    "\n",
    "        batch[\"labels\"] = labels\n",
    "\n",
    "        return batch"
   ]
  },
  {
   "cell_type": "code",
   "execution_count": 42,
   "metadata": {
    "tags": []
   },
   "outputs": [],
   "source": [
    "data_collator = DataCollatorCTCWithPadding(processor=processor, padding=True)"
   ]
  },
  {
   "cell_type": "code",
   "execution_count": 43,
   "metadata": {
    "tags": []
   },
   "outputs": [
    {
     "data": {
      "application/vnd.jupyter.widget-view+json": {
       "model_id": "f3887a39c3514d2ba9557728e3e24b5a",
       "version_major": 2,
       "version_minor": 0
      },
      "text/plain": [
       "Downloading:   0%|          | 0.00/1.90k [00:00<?, ?B/s]"
      ]
     },
     "metadata": {},
     "output_type": "display_data"
    }
   ],
   "source": [
    "wer_metric = load_metric(\"wer\")"
   ]
  },
  {
   "cell_type": "code",
   "execution_count": 44,
   "metadata": {
    "tags": []
   },
   "outputs": [],
   "source": [
    "def compute_metrics(pred):\n",
    "    pred_logits = pred.predictions\n",
    "    pred_ids = np.argmax(pred_logits, axis=-1)\n",
    "\n",
    "    pred.label_ids[pred.label_ids == -100] = processor.tokenizer.pad_token_id\n",
    "\n",
    "    pred_str = processor.batch_decode(pred_ids)\n",
    "    # we do not want to group tokens when computing the metrics\n",
    "    label_str = processor.batch_decode(pred.label_ids, group_tokens=False)\n",
    "\n",
    "    wer = wer_metric.compute(predictions=pred_str, references=label_str)\n",
    "\n",
    "    return {\"wer\": wer}"
   ]
  },
  {
   "cell_type": "code",
   "execution_count": 45,
   "metadata": {
    "tags": []
   },
   "outputs": [
    {
     "data": {
      "application/vnd.jupyter.widget-view+json": {
       "model_id": "db4fa6994ccb44a39d5e7760e405949b",
       "version_major": 2,
       "version_minor": 0
      },
      "text/plain": [
       "Downloading:   0%|          | 0.00/1.80k [00:00<?, ?B/s]"
      ]
     },
     "metadata": {},
     "output_type": "display_data"
    },
    {
     "name": "stderr",
     "output_type": "stream",
     "text": [
      "/usr/local/lib/python3.9/dist-packages/transformers/configuration_utils.py:356: UserWarning: Passing `gradient_checkpointing` to a config initialization is deprecated and will be removed in v5 Transformers. Using `model.gradient_checkpointing_enable()` instead, or if you are using the `Trainer` API, pass `gradient_checkpointing=True` in your `TrainingArguments`.\n",
      "  warnings.warn(\n"
     ]
    },
    {
     "data": {
      "application/vnd.jupyter.widget-view+json": {
       "model_id": "7cea4d3bae7e4f7dbb7a34fa94f9c49e",
       "version_major": 2,
       "version_minor": 0
      },
      "text/plain": [
       "Downloading:   0%|          | 0.00/363M [00:00<?, ?B/s]"
      ]
     },
     "metadata": {},
     "output_type": "display_data"
    },
    {
     "name": "stderr",
     "output_type": "stream",
     "text": [
      "Some weights of the model checkpoint at facebook/wav2vec2-base were not used when initializing Wav2Vec2ForCTC: ['quantizer.codevectors', 'project_q.bias', 'quantizer.weight_proj.bias', 'project_hid.bias', 'quantizer.weight_proj.weight', 'project_hid.weight', 'project_q.weight']\n",
      "- This IS expected if you are initializing Wav2Vec2ForCTC from the checkpoint of a model trained on another task or with another architecture (e.g. initializing a BertForSequenceClassification model from a BertForPreTraining model).\n",
      "- This IS NOT expected if you are initializing Wav2Vec2ForCTC from the checkpoint of a model that you expect to be exactly identical (initializing a BertForSequenceClassification model from a BertForSequenceClassification model).\n",
      "Some weights of Wav2Vec2ForCTC were not initialized from the model checkpoint at facebook/wav2vec2-base and are newly initialized: ['lm_head.bias', 'lm_head.weight']\n",
      "You should probably TRAIN this model on a down-stream task to be able to use it for predictions and inference.\n"
     ]
    }
   ],
   "source": [
    "from transformers import Wav2Vec2ForCTC\n",
    "\n",
    "model = Wav2Vec2ForCTC.from_pretrained(\n",
    "    \"facebook/wav2vec2-base\",\n",
    "    ctc_loss_reduction=\"mean\", \n",
    "    pad_token_id=processor.tokenizer.pad_token_id,\n",
    ")"
   ]
  },
  {
   "cell_type": "markdown",
   "metadata": {},
   "source": [
    "The first component of Wav2Vec2 consists of a stack of CNN layers that are used to extract acoustically meaningful - but contextually independent - features from the raw speech signal. This part of the model has already been sufficiently trained during pretrainind and as stated in the [paper](https://arxiv.org/abs/2006.11477) does not need to be fine-tuned anymore. \n",
    "Thus, we can set the `requires_grad` to `False` for all parameters of the *feature extraction* part."
   ]
  },
  {
   "cell_type": "code",
   "execution_count": 46,
   "metadata": {
    "tags": []
   },
   "outputs": [],
   "source": [
    "model.freeze_feature_encoder()"
   ]
  },
  {
   "cell_type": "markdown",
   "metadata": {},
   "source": [
    "In a final step, we define all parameters related to training. \n",
    "To give more explanation on some of the parameters:\n",
    "- `group_by_length` makes training more efficient by grouping training samples of similar input length into one batch. This can significantly speed up training time by heavily reducing the overall number of useless padding tokens that are passed through the model\n",
    "- `learning_rate` and `weight_decay` were heuristically tuned until fine-tuning has become stable. Note that those parameters strongly depend on the Timit dataset and might be suboptimal for other speech datasets.\n",
    "\n",
    "For more explanations on other parameters, one can take a look at the [docs](https://huggingface.co/transformers/master/main_classes/trainer.html?highlight=trainer#trainingarguments).\n",
    "\n",
    "During training, a checkpoint will be uploaded asynchronously to the hub every 400 training steps. It allows you to also play around with the demo widget even while your model is still training.\n",
    "\n",
    "**Note**: If one does not want to upload the model checkpoints to the hub, simply set `push_to_hub=False`."
   ]
  },
  {
   "cell_type": "code",
   "execution_count": 47,
   "metadata": {
    "tags": []
   },
   "outputs": [],
   "source": [
    "from transformers import TrainingArguments\n",
    "\n",
    "training_args = TrainingArguments(\n",
    "  output_dir=repo_name,\n",
    "  group_by_length=True,\n",
    "  per_device_train_batch_size=8,\n",
    "  evaluation_strategy=\"steps\",\n",
    "  num_train_epochs=10,\n",
    "  fp16=True,\n",
    "  gradient_checkpointing=True,\n",
    "  save_steps=500,\n",
    "  eval_steps=500,\n",
    "  logging_steps=500,\n",
    "  learning_rate=1e-4,\n",
    "  weight_decay=0.005,\n",
    "  warmup_steps=1000,\n",
    "  save_total_limit=2,\n",
    ")"
   ]
  },
  {
   "cell_type": "code",
   "execution_count": 48,
   "metadata": {
    "tags": []
   },
   "outputs": [
    {
     "name": "stderr",
     "output_type": "stream",
     "text": [
      "Using amp half precision backend\n"
     ]
    }
   ],
   "source": [
    "from transformers import Trainer\n",
    "\n",
    "trainer = Trainer(\n",
    "    model=model,\n",
    "    data_collator=data_collator,\n",
    "    args=training_args,\n",
    "    compute_metrics=compute_metrics,\n",
    "    train_dataset=timit[\"train\"],\n",
    "    eval_dataset=timit[\"test\"],\n",
    "    tokenizer=processor.feature_extractor,\n",
    ")"
   ]
  },
  {
   "cell_type": "code",
   "execution_count": 49,
   "metadata": {
    "tags": []
   },
   "outputs": [
    {
     "name": "stderr",
     "output_type": "stream",
     "text": [
      "The following columns in the training set  don't have a corresponding argument in `Wav2Vec2ForCTC.forward` and have been ignored: input_length. If input_length are not expected by `Wav2Vec2ForCTC.forward`,  you can safely ignore this message.\n",
      "/usr/local/lib/python3.9/dist-packages/transformers/optimization.py:306: FutureWarning: This implementation of AdamW is deprecated and will be removed in a future version. Use the PyTorch implementation torch.optim.AdamW instead, or set `no_deprecation_warning=True` to disable this warning\n",
      "  warnings.warn(\n",
      "***** Running training *****\n",
      "  Num examples = 4620\n",
      "  Num Epochs = 10\n",
      "  Instantaneous batch size per device = 8\n",
      "  Total train batch size (w. parallel, distributed & accumulation) = 8\n",
      "  Gradient Accumulation steps = 1\n",
      "  Total optimization steps = 5780\n"
     ]
    },
    {
     "data": {
      "text/html": [
       "\n",
       "    <div>\n",
       "      \n",
       "      <progress value='5780' max='5780' style='width:300px; height:20px; vertical-align: middle;'></progress>\n",
       "      [5780/5780 1:08:20, Epoch 10/10]\n",
       "    </div>\n",
       "    <table border=\"1\" class=\"dataframe\">\n",
       "  <thead>\n",
       " <tr style=\"text-align: left;\">\n",
       "      <th>Step</th>\n",
       "      <th>Training Loss</th>\n",
       "      <th>Validation Loss</th>\n",
       "      <th>Wer</th>\n",
       "    </tr>\n",
       "  </thead>\n",
       "  <tbody>\n",
       "    <tr>\n",
       "      <td>500</td>\n",
       "      <td>3.634000</td>\n",
       "      <td>2.645220</td>\n",
       "      <td>1.000000</td>\n",
       "    </tr>\n",
       "    <tr>\n",
       "      <td>1000</td>\n",
       "      <td>1.049700</td>\n",
       "      <td>0.571106</td>\n",
       "      <td>0.513817</td>\n",
       "    </tr>\n",
       "    <tr>\n",
       "      <td>1500</td>\n",
       "      <td>0.458400</td>\n",
       "      <td>0.442108</td>\n",
       "      <td>0.449245</td>\n",
       "    </tr>\n",
       "    <tr>\n",
       "      <td>2000</td>\n",
       "      <td>0.319800</td>\n",
       "      <td>0.381834</td>\n",
       "      <td>0.394115</td>\n",
       "    </tr>\n",
       "    <tr>\n",
       "      <td>2500</td>\n",
       "      <td>0.226300</td>\n",
       "      <td>0.365272</td>\n",
       "      <td>0.376680</td>\n",
       "    </tr>\n",
       "    <tr>\n",
       "      <td>3000</td>\n",
       "      <td>0.184500</td>\n",
       "      <td>0.342423</td>\n",
       "      <td>0.366136</td>\n",
       "    </tr>\n",
       "    <tr>\n",
       "      <td>3500</td>\n",
       "      <td>0.138800</td>\n",
       "      <td>0.370193</td>\n",
       "      <td>0.351940</td>\n",
       "    </tr>\n",
       "    <tr>\n",
       "      <td>4000</td>\n",
       "      <td>0.121400</td>\n",
       "      <td>0.351509</td>\n",
       "      <td>0.343877</td>\n",
       "    </tr>\n",
       "    <tr>\n",
       "      <td>4500</td>\n",
       "      <td>0.102600</td>\n",
       "      <td>0.358456</td>\n",
       "      <td>0.329199</td>\n",
       "    </tr>\n",
       "    <tr>\n",
       "      <td>5000</td>\n",
       "      <td>0.083400</td>\n",
       "      <td>0.347395</td>\n",
       "      <td>0.323617</td>\n",
       "    </tr>\n",
       "    <tr>\n",
       "      <td>5500</td>\n",
       "      <td>0.073700</td>\n",
       "      <td>0.353808</td>\n",
       "      <td>0.320929</td>\n",
       "    </tr>\n",
       "  </tbody>\n",
       "</table><p>"
      ],
      "text/plain": [
       "<IPython.core.display.HTML object>"
      ]
     },
     "metadata": {},
     "output_type": "display_data"
    },
    {
     "name": "stderr",
     "output_type": "stream",
     "text": [
      "The following columns in the evaluation set  don't have a corresponding argument in `Wav2Vec2ForCTC.forward` and have been ignored: input_length. If input_length are not expected by `Wav2Vec2ForCTC.forward`,  you can safely ignore this message.\n",
      "***** Running Evaluation *****\n",
      "  Num examples = 1680\n",
      "  Batch size = 8\n",
      "Saving model checkpoint to m-aliabbas/wav2vec2-base-timit-demo-idrak-practice/checkpoint-500\n",
      "Configuration saved in m-aliabbas/wav2vec2-base-timit-demo-idrak-practice/checkpoint-500/config.json\n",
      "Model weights saved in m-aliabbas/wav2vec2-base-timit-demo-idrak-practice/checkpoint-500/pytorch_model.bin\n",
      "Feature extractor saved in m-aliabbas/wav2vec2-base-timit-demo-idrak-practice/checkpoint-500/preprocessor_config.json\n",
      "The following columns in the evaluation set  don't have a corresponding argument in `Wav2Vec2ForCTC.forward` and have been ignored: input_length. If input_length are not expected by `Wav2Vec2ForCTC.forward`,  you can safely ignore this message.\n",
      "***** Running Evaluation *****\n",
      "  Num examples = 1680\n",
      "  Batch size = 8\n",
      "Saving model checkpoint to m-aliabbas/wav2vec2-base-timit-demo-idrak-practice/checkpoint-1000\n",
      "Configuration saved in m-aliabbas/wav2vec2-base-timit-demo-idrak-practice/checkpoint-1000/config.json\n",
      "Model weights saved in m-aliabbas/wav2vec2-base-timit-demo-idrak-practice/checkpoint-1000/pytorch_model.bin\n",
      "Feature extractor saved in m-aliabbas/wav2vec2-base-timit-demo-idrak-practice/checkpoint-1000/preprocessor_config.json\n",
      "The following columns in the evaluation set  don't have a corresponding argument in `Wav2Vec2ForCTC.forward` and have been ignored: input_length. If input_length are not expected by `Wav2Vec2ForCTC.forward`,  you can safely ignore this message.\n",
      "***** Running Evaluation *****\n",
      "  Num examples = 1680\n",
      "  Batch size = 8\n",
      "Saving model checkpoint to m-aliabbas/wav2vec2-base-timit-demo-idrak-practice/checkpoint-1500\n",
      "Configuration saved in m-aliabbas/wav2vec2-base-timit-demo-idrak-practice/checkpoint-1500/config.json\n",
      "Model weights saved in m-aliabbas/wav2vec2-base-timit-demo-idrak-practice/checkpoint-1500/pytorch_model.bin\n",
      "Feature extractor saved in m-aliabbas/wav2vec2-base-timit-demo-idrak-practice/checkpoint-1500/preprocessor_config.json\n",
      "Deleting older checkpoint [m-aliabbas/wav2vec2-base-timit-demo-idrak-practice/checkpoint-500] due to args.save_total_limit\n",
      "The following columns in the evaluation set  don't have a corresponding argument in `Wav2Vec2ForCTC.forward` and have been ignored: input_length. If input_length are not expected by `Wav2Vec2ForCTC.forward`,  you can safely ignore this message.\n",
      "***** Running Evaluation *****\n",
      "  Num examples = 1680\n",
      "  Batch size = 8\n",
      "Saving model checkpoint to m-aliabbas/wav2vec2-base-timit-demo-idrak-practice/checkpoint-2000\n",
      "Configuration saved in m-aliabbas/wav2vec2-base-timit-demo-idrak-practice/checkpoint-2000/config.json\n",
      "Model weights saved in m-aliabbas/wav2vec2-base-timit-demo-idrak-practice/checkpoint-2000/pytorch_model.bin\n",
      "Feature extractor saved in m-aliabbas/wav2vec2-base-timit-demo-idrak-practice/checkpoint-2000/preprocessor_config.json\n",
      "Deleting older checkpoint [m-aliabbas/wav2vec2-base-timit-demo-idrak-practice/checkpoint-1000] due to args.save_total_limit\n",
      "The following columns in the evaluation set  don't have a corresponding argument in `Wav2Vec2ForCTC.forward` and have been ignored: input_length. If input_length are not expected by `Wav2Vec2ForCTC.forward`,  you can safely ignore this message.\n",
      "***** Running Evaluation *****\n",
      "  Num examples = 1680\n",
      "  Batch size = 8\n",
      "Saving model checkpoint to m-aliabbas/wav2vec2-base-timit-demo-idrak-practice/checkpoint-2500\n",
      "Configuration saved in m-aliabbas/wav2vec2-base-timit-demo-idrak-practice/checkpoint-2500/config.json\n",
      "Model weights saved in m-aliabbas/wav2vec2-base-timit-demo-idrak-practice/checkpoint-2500/pytorch_model.bin\n",
      "Feature extractor saved in m-aliabbas/wav2vec2-base-timit-demo-idrak-practice/checkpoint-2500/preprocessor_config.json\n",
      "Deleting older checkpoint [m-aliabbas/wav2vec2-base-timit-demo-idrak-practice/checkpoint-1500] due to args.save_total_limit\n",
      "The following columns in the evaluation set  don't have a corresponding argument in `Wav2Vec2ForCTC.forward` and have been ignored: input_length. If input_length are not expected by `Wav2Vec2ForCTC.forward`,  you can safely ignore this message.\n",
      "***** Running Evaluation *****\n",
      "  Num examples = 1680\n",
      "  Batch size = 8\n",
      "Saving model checkpoint to m-aliabbas/wav2vec2-base-timit-demo-idrak-practice/checkpoint-3000\n",
      "Configuration saved in m-aliabbas/wav2vec2-base-timit-demo-idrak-practice/checkpoint-3000/config.json\n",
      "Model weights saved in m-aliabbas/wav2vec2-base-timit-demo-idrak-practice/checkpoint-3000/pytorch_model.bin\n",
      "Feature extractor saved in m-aliabbas/wav2vec2-base-timit-demo-idrak-practice/checkpoint-3000/preprocessor_config.json\n",
      "Deleting older checkpoint [m-aliabbas/wav2vec2-base-timit-demo-idrak-practice/checkpoint-2000] due to args.save_total_limit\n",
      "The following columns in the evaluation set  don't have a corresponding argument in `Wav2Vec2ForCTC.forward` and have been ignored: input_length. If input_length are not expected by `Wav2Vec2ForCTC.forward`,  you can safely ignore this message.\n",
      "***** Running Evaluation *****\n",
      "  Num examples = 1680\n",
      "  Batch size = 8\n",
      "Saving model checkpoint to m-aliabbas/wav2vec2-base-timit-demo-idrak-practice/checkpoint-3500\n",
      "Configuration saved in m-aliabbas/wav2vec2-base-timit-demo-idrak-practice/checkpoint-3500/config.json\n",
      "Model weights saved in m-aliabbas/wav2vec2-base-timit-demo-idrak-practice/checkpoint-3500/pytorch_model.bin\n",
      "Feature extractor saved in m-aliabbas/wav2vec2-base-timit-demo-idrak-practice/checkpoint-3500/preprocessor_config.json\n",
      "Deleting older checkpoint [m-aliabbas/wav2vec2-base-timit-demo-idrak-practice/checkpoint-2500] due to args.save_total_limit\n",
      "The following columns in the evaluation set  don't have a corresponding argument in `Wav2Vec2ForCTC.forward` and have been ignored: input_length. If input_length are not expected by `Wav2Vec2ForCTC.forward`,  you can safely ignore this message.\n",
      "***** Running Evaluation *****\n",
      "  Num examples = 1680\n",
      "  Batch size = 8\n",
      "Saving model checkpoint to m-aliabbas/wav2vec2-base-timit-demo-idrak-practice/checkpoint-4000\n",
      "Configuration saved in m-aliabbas/wav2vec2-base-timit-demo-idrak-practice/checkpoint-4000/config.json\n",
      "Model weights saved in m-aliabbas/wav2vec2-base-timit-demo-idrak-practice/checkpoint-4000/pytorch_model.bin\n",
      "Feature extractor saved in m-aliabbas/wav2vec2-base-timit-demo-idrak-practice/checkpoint-4000/preprocessor_config.json\n",
      "Deleting older checkpoint [m-aliabbas/wav2vec2-base-timit-demo-idrak-practice/checkpoint-3000] due to args.save_total_limit\n",
      "The following columns in the evaluation set  don't have a corresponding argument in `Wav2Vec2ForCTC.forward` and have been ignored: input_length. If input_length are not expected by `Wav2Vec2ForCTC.forward`,  you can safely ignore this message.\n",
      "***** Running Evaluation *****\n",
      "  Num examples = 1680\n",
      "  Batch size = 8\n",
      "Saving model checkpoint to m-aliabbas/wav2vec2-base-timit-demo-idrak-practice/checkpoint-4500\n",
      "Configuration saved in m-aliabbas/wav2vec2-base-timit-demo-idrak-practice/checkpoint-4500/config.json\n",
      "Model weights saved in m-aliabbas/wav2vec2-base-timit-demo-idrak-practice/checkpoint-4500/pytorch_model.bin\n",
      "Feature extractor saved in m-aliabbas/wav2vec2-base-timit-demo-idrak-practice/checkpoint-4500/preprocessor_config.json\n",
      "Deleting older checkpoint [m-aliabbas/wav2vec2-base-timit-demo-idrak-practice/checkpoint-3500] due to args.save_total_limit\n",
      "The following columns in the evaluation set  don't have a corresponding argument in `Wav2Vec2ForCTC.forward` and have been ignored: input_length. If input_length are not expected by `Wav2Vec2ForCTC.forward`,  you can safely ignore this message.\n",
      "***** Running Evaluation *****\n",
      "  Num examples = 1680\n",
      "  Batch size = 8\n",
      "Saving model checkpoint to m-aliabbas/wav2vec2-base-timit-demo-idrak-practice/checkpoint-5000\n",
      "Configuration saved in m-aliabbas/wav2vec2-base-timit-demo-idrak-practice/checkpoint-5000/config.json\n",
      "Model weights saved in m-aliabbas/wav2vec2-base-timit-demo-idrak-practice/checkpoint-5000/pytorch_model.bin\n",
      "Feature extractor saved in m-aliabbas/wav2vec2-base-timit-demo-idrak-practice/checkpoint-5000/preprocessor_config.json\n",
      "Deleting older checkpoint [m-aliabbas/wav2vec2-base-timit-demo-idrak-practice/checkpoint-4000] due to args.save_total_limit\n",
      "The following columns in the evaluation set  don't have a corresponding argument in `Wav2Vec2ForCTC.forward` and have been ignored: input_length. If input_length are not expected by `Wav2Vec2ForCTC.forward`,  you can safely ignore this message.\n",
      "***** Running Evaluation *****\n",
      "  Num examples = 1680\n",
      "  Batch size = 8\n",
      "Saving model checkpoint to m-aliabbas/wav2vec2-base-timit-demo-idrak-practice/checkpoint-5500\n",
      "Configuration saved in m-aliabbas/wav2vec2-base-timit-demo-idrak-practice/checkpoint-5500/config.json\n",
      "Model weights saved in m-aliabbas/wav2vec2-base-timit-demo-idrak-practice/checkpoint-5500/pytorch_model.bin\n",
      "Feature extractor saved in m-aliabbas/wav2vec2-base-timit-demo-idrak-practice/checkpoint-5500/preprocessor_config.json\n",
      "Deleting older checkpoint [m-aliabbas/wav2vec2-base-timit-demo-idrak-practice/checkpoint-4500] due to args.save_total_limit\n",
      "\n",
      "\n",
      "Training completed. Do not forget to share your model on huggingface.co/models =)\n",
      "\n",
      "\n"
     ]
    },
    {
     "data": {
      "text/plain": [
       "TrainOutput(global_step=5780, training_loss=0.5562470601091748, metrics={'train_runtime': 4103.3192, 'train_samples_per_second': 11.259, 'train_steps_per_second': 1.409, 'total_flos': 1.3094724388304794e+18, 'train_loss': 0.5562470601091748, 'epoch': 10.0})"
      ]
     },
     "execution_count": 49,
     "metadata": {},
     "output_type": "execute_result"
    }
   ],
   "source": [
    "trainer.train()"
   ]
  },
  {
   "cell_type": "code",
   "execution_count": 50,
   "metadata": {},
   "outputs": [
    {
     "name": "stderr",
     "output_type": "stream",
     "text": [
      "/notebooks/m-aliabbas/wav2vec2-base-timit-demo-idrak-practice is already a clone of https://huggingface.co/m-aliabbas/wav2vec2-base-timit-demo-idrak-practice. Make sure you pull the latest changes with `repo.git_pull()`.\n",
      "Saving model checkpoint to m-aliabbas/wav2vec2-base-timit-demo-idrak-practice\n",
      "Configuration saved in m-aliabbas/wav2vec2-base-timit-demo-idrak-practice/config.json\n",
      "Model weights saved in m-aliabbas/wav2vec2-base-timit-demo-idrak-practice/pytorch_model.bin\n",
      "Feature extractor saved in m-aliabbas/wav2vec2-base-timit-demo-idrak-practice/preprocessor_config.json\n"
     ]
    },
    {
     "data": {
      "application/vnd.jupyter.widget-view+json": {
       "model_id": "f866721d801e4157a6eee7b795684481",
       "version_major": 2,
       "version_minor": 0
      },
      "text/plain": [
       "Upload file pytorch_model.bin:   0%|          | 32.0k/360M [00:00<?, ?B/s]"
      ]
     },
     "metadata": {},
     "output_type": "display_data"
    },
    {
     "data": {
      "application/vnd.jupyter.widget-view+json": {
       "model_id": "0407890853494b25ab0fc69d537a153e",
       "version_major": 2,
       "version_minor": 0
      },
      "text/plain": [
       "Upload file runs/Nov22_13-04-57_nw48qbpnu2/events.out.tfevents.1669122413.nw48qbpnu2.32.0: 100%|##########| 10…"
      ]
     },
     "metadata": {},
     "output_type": "display_data"
    },
    {
     "data": {
      "application/vnd.jupyter.widget-view+json": {
       "model_id": "5420a2377b3b4442af3ec10e590a1529",
       "version_major": 2,
       "version_minor": 0
      },
      "text/plain": [
       "Upload file runs/Nov22_13-04-57_nw48qbpnu2/1669122413.1371827/events.out.tfevents.1669122413.nw48qbpnu2.32.1: …"
      ]
     },
     "metadata": {},
     "output_type": "display_data"
    },
    {
     "data": {
      "application/vnd.jupyter.widget-view+json": {
       "model_id": "3f623b19a08648268a56f7f364f2574b",
       "version_major": 2,
       "version_minor": 0
      },
      "text/plain": [
       "Upload file training_args.bin: 100%|##########| 2.98k/2.98k [00:00<?, ?B/s]"
      ]
     },
     "metadata": {},
     "output_type": "display_data"
    },
    {
     "name": "stderr",
     "output_type": "stream",
     "text": [
      "remote: Scanning LFS files for validity, may be slow...        \n",
      "remote: LFS file scan complete.        \n",
      "To https://huggingface.co/m-aliabbas/wav2vec2-base-timit-demo-idrak-practice\n",
      "   3498316..51c1dce  main -> main\n",
      "\n",
      "Dropping the following result as it does not have all the necessary fields:\n",
      "{}\n",
      "To https://huggingface.co/m-aliabbas/wav2vec2-base-timit-demo-idrak-practice\n",
      "   51c1dce..46781a9  main -> main\n",
      "\n"
     ]
    },
    {
     "data": {
      "text/plain": [
       "'https://huggingface.co/m-aliabbas/wav2vec2-base-timit-demo-idrak-practice/commit/51c1dce12adcd928c261ebba0c2933d7d8fb1339'"
      ]
     },
     "execution_count": 50,
     "metadata": {},
     "output_type": "execute_result"
    }
   ],
   "source": [
    "trainer.push_to_hub()"
   ]
  },
  {
   "cell_type": "code",
   "execution_count": 45,
   "metadata": {
    "execution": {
     "iopub.execute_input": "2022-11-22T07:27:06.931381Z",
     "iopub.status.busy": "2022-11-22T07:27:06.931004Z",
     "iopub.status.idle": "2022-11-22T07:27:06.976592Z",
     "shell.execute_reply": "2022-11-22T07:27:06.975782Z",
     "shell.execute_reply.started": "2022-11-22T07:27:06.931354Z"
    }
   },
   "outputs": [
    {
     "name": "stderr",
     "output_type": "stream",
     "text": [
      "loading feature extractor configuration file m-aliabbas/wav2vec2-base-timit-demo-idrak-paperspace/preprocessor_config.json\n",
      "Feature extractor Wav2Vec2FeatureExtractor {\n",
      "  \"do_normalize\": true,\n",
      "  \"feature_extractor_type\": \"Wav2Vec2FeatureExtractor\",\n",
      "  \"feature_size\": 1,\n",
      "  \"padding_side\": \"right\",\n",
      "  \"padding_value\": 0.0,\n",
      "  \"return_attention_mask\": false,\n",
      "  \"sampling_rate\": 16000\n",
      "}\n",
      "\n",
      "Didn't find file m-aliabbas/wav2vec2-base-timit-demo-idrak-paperspace/added_tokens.json. We won't load it.\n",
      "loading file m-aliabbas/wav2vec2-base-timit-demo-idrak-paperspace/vocab.json\n",
      "loading file m-aliabbas/wav2vec2-base-timit-demo-idrak-paperspace/tokenizer_config.json\n",
      "loading file None\n",
      "loading file m-aliabbas/wav2vec2-base-timit-demo-idrak-paperspace/special_tokens_map.json\n",
      "Adding <s> to the vocabulary\n",
      "Adding </s> to the vocabulary\n",
      "Special tokens have been added in the vocabulary, make sure the associated word embeddings are fine-tuned or trained.\n"
     ]
    }
   ],
   "source": [
    "# processor = Wav2Vec2Processor.from_pretrained(\"m-aliabbas/wav2vec2-base-timit-demo-idrak-paperspace\")"
   ]
  },
  {
   "cell_type": "code",
   "execution_count": null,
   "metadata": {
    "execution": {
     "iopub.status.busy": "2022-11-22T07:26:55.773658Z",
     "iopub.status.idle": "2022-11-22T07:26:55.773980Z",
     "shell.execute_reply": "2022-11-22T07:26:55.773839Z",
     "shell.execute_reply.started": "2022-11-22T07:26:55.773822Z"
    }
   },
   "outputs": [],
   "source": [
    "# model = Wav2Vec2ForCTC.from_pretrained(\"patrickvonplaten/wav2vec2-base-timit-demo-google-colab\").cuda()"
   ]
  },
  {
   "cell_type": "code",
   "execution_count": 71,
   "metadata": {},
   "outputs": [
    {
     "data": {
      "text/plain": [
       "'m-aliabbas/wav2vec2-base-timit-demo-idrak-paperspace1'"
      ]
     },
     "execution_count": 71,
     "metadata": {},
     "output_type": "execute_result"
    }
   ],
   "source": [
    "repo_name"
   ]
  },
  {
   "cell_type": "code",
   "execution_count": null,
   "metadata": {},
   "outputs": [],
   "source": []
  }
 ],
 "metadata": {
  "kernelspec": {
   "display_name": "Python 3 (ipykernel)",
   "language": "python",
   "name": "python3"
  },
  "language_info": {
   "codemirror_mode": {
    "name": "ipython",
    "version": 3
   },
   "file_extension": ".py",
   "mimetype": "text/x-python",
   "name": "python",
   "nbconvert_exporter": "python",
   "pygments_lexer": "ipython3",
   "version": "3.9.13"
  }
 },
 "nbformat": 4,
 "nbformat_minor": 4
}
