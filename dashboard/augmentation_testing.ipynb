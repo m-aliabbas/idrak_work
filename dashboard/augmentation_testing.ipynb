{
 "cells": [
  {
   "cell_type": "code",
   "execution_count": 1,
   "id": "d08069da-926a-4ddd-abfc-59cbe4e41c71",
   "metadata": {},
   "outputs": [
    {
     "name": "stderr",
     "output_type": "stream",
     "text": [
      "/home/ali/idrakai/lib/python3.10/site-packages/tqdm/auto.py:22: TqdmWarning: IProgress not found. Please update jupyter and ipywidgets. See https://ipywidgets.readthedocs.io/en/stable/user_install.html\n",
      "  from .autonotebook import tqdm as notebook_tqdm\n"
     ]
    }
   ],
   "source": [
    "import nlpaug.augmenter.char as nac\n",
    "import nlpaug.augmenter.word as naw\n",
    "import nlpaug.augmenter.sentence as nas\n"
   ]
  },
  {
   "cell_type": "code",
   "execution_count": 2,
   "id": "c706702c-54aa-44e9-8bba-7cc9bf604d0a",
   "metadata": {},
   "outputs": [],
   "source": [
    "import pandas as pd"
   ]
  },
  {
   "cell_type": "code",
   "execution_count": 3,
   "id": "bbff3996-5d4d-4bb6-92d2-e0be0377cfad",
   "metadata": {},
   "outputs": [
    {
     "name": "stdout",
     "output_type": "stream",
     "text": [
      "data_idrak_dataset_train_df_.csv\n"
     ]
    }
   ],
   "source": [
    "%ls data"
   ]
  },
  {
   "cell_type": "code",
   "execution_count": 4,
   "id": "3d291a5c-acb5-4820-ba8b-a2c7f71c399b",
   "metadata": {},
   "outputs": [],
   "source": [
    "df=pd.read_csv('data/data_idrak_dataset_train_df_.csv')"
   ]
  },
  {
   "cell_type": "code",
   "execution_count": 5,
   "id": "9d9927b3-6e36-4f4a-bd82-24edbe572bac",
   "metadata": {},
   "outputs": [],
   "source": [
    "syn_aug = naw.SynonymAug(aug_src='wordnet')\n",
    "ran_aug = naw.RandomWordAug(action=\"swap\")\n",
    "split_aug = naw.SplitAug()"
   ]
  },
  {
   "cell_type": "code",
   "execution_count": 45,
   "id": "955d297a-fad6-4e52-a84b-00d373b56b07",
   "metadata": {},
   "outputs": [],
   "source": [
    "aug_list={'syn_aug':syn_aug,'random_aug':ran_aug,'split_aug':split_aug}"
   ]
  },
  {
   "cell_type": "code",
   "execution_count": 59,
   "id": "4c303e60-f79d-41c1-ac10-95d420fe2f33",
   "metadata": {},
   "outputs": [],
   "source": [
    "def aumgentor(text,aug_list):\n",
    "    augmented_text=[]\n",
    "    for aug in aug_list:\n",
    "        text_augmentor=aug_list[aug]\n",
    "        augmented_text.append(text_augmentor.augment(text))\n",
    "    return augmented_text"
   ]
  },
  {
   "cell_type": "code",
   "execution_count": 103,
   "id": "55dd1fca-4c7b-4096-a6b4-ed351b47974a",
   "metadata": {},
   "outputs": [],
   "source": [
    "import numpy as np"
   ]
  },
  {
   "cell_type": "code",
   "execution_count": 123,
   "id": "20c1d6b7-e0d1-4971-a08e-181f0448cb4c",
   "metadata": {},
   "outputs": [],
   "source": [
    "def aug_text(aug_class_label='negative',val=100,aug_list={}):\n",
    "    '''\n",
    "       This function will augment texgt based on provided augmentor lists.\n",
    "       Steps:\n",
    "       1) Get a dataframe and extract the specified class from it\n",
    "       2) Extract differnt Columns\n",
    "       3) Itterate over each text and augment it \n",
    "       4) Make New Dataframe from Augmented\n",
    "       5) Check for Column not present in augment \n",
    "       6) Randomly Droping rows\n",
    "       7) Append with Parent dataframe\n",
    "       8) Randomize\n",
    "       \n",
    "       augs:\n",
    "           aug_class_labels: class to augment string\n",
    "           val: how much samples to augment\n",
    "           aug_list: list of augmentors\n",
    "    '''\n",
    "    try:\n",
    "        temp_df=df[df['class_labels']==aug_class_label]\n",
    "        class_labels=temp_df.iloc[0].class_labels\n",
    "        class_number=temp_df.iloc[0]['class']\n",
    "        texts=list(temp_df['cleaned_text'].values)\n",
    "        augmented_texts=[]\n",
    "        for text in texts:\n",
    "            for aug in aug_list:\n",
    "                augmented_texts+=aug_list[aug].augment(text)\n",
    "        class_labels_list=len(augmented_texts)*[class_labels]\n",
    "        class_numbers_list=len(augmented_texts)*[class_number]\n",
    "        temp_df1=pd.DataFrame()\n",
    "        temp_df1['class_labels']=class_labels_list\n",
    "        temp_df1['class']=class_numbers_list\n",
    "        temp_df1['cleaned_text']=augmented_texts\n",
    "        \n",
    "        #Check for columns whose are not in augmented dataframe\n",
    "        labels_not_in_temp=list(set(temp_df.columns)-set(temp_df1.columns))\n",
    "        #filling those columns rows with \"Augmented Row\" Text\n",
    "        \n",
    "        for label in labels_not_in_temp:\n",
    "            temp_df1[label]=['augmented_row']*len(augmented_texts)\n",
    "        print(len(temp_df1))\n",
    "        if len(temp_df1)<=val:\n",
    "            val=len(temp_df1)\n",
    "        randomly_select=list(set(np.random.randint(len(temp_df1), size=val)))\n",
    "        temp_df1=temp_df1.iloc[randomly_select]\n",
    "        print(len(temp_df1))\n",
    "        temp_df=temp_df.append(temp_df1)\n",
    "    except Exception as e:\n",
    "        print('An Error Occured \\n {}'.format(e))\n",
    "    "
   ]
  },
  {
   "cell_type": "code",
   "execution_count": 122,
   "id": "a5fa2023-fc73-421e-bf4c-131c31b6b4af",
   "metadata": {},
   "outputs": [
    {
     "name": "stdout",
     "output_type": "stream",
     "text": [
      "111\n",
      "63\n"
     ]
    },
    {
     "name": "stderr",
     "output_type": "stream",
     "text": [
      "/tmp/ipykernel_5970/1081472915.py:26: FutureWarning: The frame.append method is deprecated and will be removed from pandas in a future version. Use pandas.concat instead.\n",
      "  temp_df=temp_df.append(temp_df1)\n"
     ]
    }
   ],
   "source": [
    "aug_text(aug_list=aug_list)"
   ]
  },
  {
   "cell_type": "code",
   "execution_count": 83,
   "id": "ea515095-3c37-4179-8193-fb8647022392",
   "metadata": {},
   "outputs": [],
   "source": [
    "df1=pd.DataFrame(columns=['class','class_labels'])"
   ]
  },
  {
   "cell_type": "code",
   "execution_count": 84,
   "id": "d67c31c9-e07e-4231-b81c-73703f937d46",
   "metadata": {},
   "outputs": [
    {
     "data": {
      "text/plain": [
       "['cleaned_text', 'beam']"
      ]
     },
     "execution_count": 84,
     "metadata": {},
     "output_type": "execute_result"
    }
   ],
   "source": [
    "list(set(df.columns)-set(df1.columns))"
   ]
  },
  {
   "cell_type": "code",
   "execution_count": 90,
   "id": "145b10b9-c5f5-4f43-9e4b-3e6a9d15dfb3",
   "metadata": {},
   "outputs": [
    {
     "data": {
      "text/html": [
       "<div>\n",
       "<style scoped>\n",
       "    .dataframe tbody tr th:only-of-type {\n",
       "        vertical-align: middle;\n",
       "    }\n",
       "\n",
       "    .dataframe tbody tr th {\n",
       "        vertical-align: top;\n",
       "    }\n",
       "\n",
       "    .dataframe thead th {\n",
       "        text-align: right;\n",
       "    }\n",
       "</style>\n",
       "<table border=\"1\" class=\"dataframe\">\n",
       "  <thead>\n",
       "    <tr style=\"text-align: right;\">\n",
       "      <th></th>\n",
       "      <th>class</th>\n",
       "      <th>class_labels</th>\n",
       "    </tr>\n",
       "  </thead>\n",
       "  <tbody>\n",
       "  </tbody>\n",
       "</table>\n",
       "</div>"
      ],
      "text/plain": [
       "Empty DataFrame\n",
       "Columns: [class, class_labels]\n",
       "Index: []"
      ]
     },
     "execution_count": 90,
     "metadata": {},
     "output_type": "execute_result"
    }
   ],
   "source": []
  },
  {
   "cell_type": "code",
   "execution_count": null,
   "id": "477190be-4ab5-4467-8e87-a4b42d174b6c",
   "metadata": {},
   "outputs": [],
   "source": []
  }
 ],
 "metadata": {
  "kernelspec": {
   "display_name": "Python 3 (ipykernel)",
   "language": "python",
   "name": "python3"
  },
  "language_info": {
   "codemirror_mode": {
    "name": "ipython",
    "version": 3
   },
   "file_extension": ".py",
   "mimetype": "text/x-python",
   "name": "python",
   "nbconvert_exporter": "python",
   "pygments_lexer": "ipython3",
   "version": "3.10.8"
  }
 },
 "nbformat": 4,
 "nbformat_minor": 5
}
